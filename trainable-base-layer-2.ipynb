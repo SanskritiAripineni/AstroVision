{
 "cells": [
  {
   "cell_type": "code",
   "execution_count": 1,
   "id": "e7893b05",
   "metadata": {
    "_cell_guid": "b1076dfc-b9ad-4769-8c92-a6c4dae69d19",
    "_uuid": "8f2839f25d086af736a60e9eeb907d3b93b6e0e5",
    "execution": {
     "iopub.execute_input": "2025-03-09T01:35:46.432020Z",
     "iopub.status.busy": "2025-03-09T01:35:46.431737Z",
     "iopub.status.idle": "2025-03-09T01:36:00.004014Z",
     "shell.execute_reply": "2025-03-09T01:36:00.003301Z"
    },
    "papermill": {
     "duration": 13.577342,
     "end_time": "2025-03-09T01:36:00.005648",
     "exception": false,
     "start_time": "2025-03-09T01:35:46.428306",
     "status": "completed"
    },
    "tags": []
   },
   "outputs": [],
   "source": [
    "import numpy as np\n",
    "import matplotlib.pyplot as plt\n",
    "import seaborn as sea\n",
    "import tensorflow as tf\n",
    "import random\n",
    "import gc\n",
    "\n",
    "import tensorflow.keras.backend as K\n",
    "from tensorflow.keras.callbacks import Callback\n",
    "from tensorflow.keras.preprocessing.image import ImageDataGenerator\n",
    "from tensorflow.keras.applications import MobileNetV2\n",
    "from tensorflow.keras.models import Model, Sequential\n",
    "from tensorflow.keras.layers import Dense, GlobalAveragePooling2D, ReLU, BatchNormalization\n",
    "from tensorflow.keras.initializers import HeNormal, Ones, Constant\n",
    "from tensorflow.keras.optimizers import Adam\n",
    "from tensorflow.keras.callbacks import ModelCheckpoint, EarlyStopping\n",
    "\n",
    "import warnings\n",
    "warnings.filterwarnings(\"ignore\")"
   ]
  },
  {
   "cell_type": "code",
   "execution_count": 2,
   "id": "77f27cf9",
   "metadata": {
    "execution": {
     "iopub.execute_input": "2025-03-09T01:36:00.010900Z",
     "iopub.status.busy": "2025-03-09T01:36:00.010392Z",
     "iopub.status.idle": "2025-03-09T01:36:00.014368Z",
     "shell.execute_reply": "2025-03-09T01:36:00.013584Z"
    },
    "papermill": {
     "duration": 0.007519,
     "end_time": "2025-03-09T01:36:00.015579",
     "exception": false,
     "start_time": "2025-03-09T01:36:00.008060",
     "status": "completed"
    },
    "tags": []
   },
   "outputs": [],
   "source": [
    "SEED = 3126  \n",
    "random.seed(SEED)\n",
    "np.random.seed(SEED)\n",
    "tf.random.set_seed(SEED)"
   ]
  },
  {
   "cell_type": "code",
   "execution_count": 3,
   "id": "f6bcca8d",
   "metadata": {
    "execution": {
     "iopub.execute_input": "2025-03-09T01:36:00.020100Z",
     "iopub.status.busy": "2025-03-09T01:36:00.019861Z",
     "iopub.status.idle": "2025-03-09T01:36:05.479585Z",
     "shell.execute_reply": "2025-03-09T01:36:05.478615Z"
    },
    "papermill": {
     "duration": 5.463524,
     "end_time": "2025-03-09T01:36:05.481076",
     "exception": false,
     "start_time": "2025-03-09T01:36:00.017552",
     "status": "completed"
    },
    "tags": []
   },
   "outputs": [
    {
     "name": "stdout",
     "output_type": "stream",
     "text": [
      "Found 4913 images belonging to 4 classes.\n",
      "Found 1228 images belonging to 4 classes.\n"
     ]
    }
   ],
   "source": [
    "WIDTH, HEIGHT = 224, 224\n",
    "BATCH_SIZE = 32\n",
    "LEARNING_RATE = .01\n",
    "EPOCHS = 100\n",
    "DIR = \"/kaggle/input/finalized-astrovision-data\"\n",
    "\n",
    "train_datagen = ImageDataGenerator(\n",
    "    rescale=1./255,\n",
    "    rotation_range=30,\n",
    "    width_shift_range=0.1,\n",
    "    height_shift_range=0.1,\n",
    "    shear_range=0.2,\n",
    "    zoom_range=0.2,\n",
    "    horizontal_flip=True,\n",
    "    fill_mode='nearest',\n",
    "    validation_split=0.2\n",
    ")\n",
    "\n",
    "train_generator = train_datagen.flow_from_directory(\n",
    "    DIR,\n",
    "    target_size=(WIDTH, HEIGHT),\n",
    "    batch_size=BATCH_SIZE,\n",
    "    class_mode='categorical',\n",
    "    subset='training',\n",
    "    seed=SEED  \n",
    ")\n",
    "\n",
    "validation_generator = train_datagen.flow_from_directory(\n",
    "    DIR,\n",
    "    target_size=(WIDTH, HEIGHT),\n",
    "    batch_size=BATCH_SIZE,\n",
    "    class_mode='categorical',\n",
    "    subset='validation',\n",
    "    seed=SEED \n",
    ")"
   ]
  },
  {
   "cell_type": "code",
   "execution_count": 4,
   "id": "5de96337",
   "metadata": {
    "execution": {
     "iopub.execute_input": "2025-03-09T01:36:05.486533Z",
     "iopub.status.busy": "2025-03-09T01:36:05.486207Z",
     "iopub.status.idle": "2025-03-09T01:36:05.491071Z",
     "shell.execute_reply": "2025-03-09T01:36:05.490271Z"
    },
    "papermill": {
     "duration": 0.008955,
     "end_time": "2025-03-09T01:36:05.492367",
     "exception": false,
     "start_time": "2025-03-09T01:36:05.483412",
     "status": "completed"
    },
    "tags": []
   },
   "outputs": [],
   "source": [
    "def make_dense_layer(input_size, dropout_rate=0.0, input_shape=None):\n",
    "    layers = []\n",
    "    if input_shape:\n",
    "        layers.append(Dense(input_size,\n",
    "                            use_bias=False, \n",
    "                            input_shape=input_shape,\n",
    "                            kernel_initializer=HeNormal()\n",
    "                            ))\n",
    "    else:\n",
    "        layers.append(Dense(input_size, use_bias=False, kernel_initializer=HeNormal()))\n",
    "    layers.extend([BatchNormalization(gamma_initializer=Ones(), beta_initializer=Constant(0.25)),\n",
    "                  ReLU()])\n",
    "    if dropout_rate > 0:\n",
    "        layers.append(Dropout(dropout_rate))\n",
    "    return Sequential(layers)"
   ]
  },
  {
   "cell_type": "code",
   "execution_count": 5,
   "id": "8a34a5cf",
   "metadata": {
    "execution": {
     "iopub.execute_input": "2025-03-09T01:36:05.497348Z",
     "iopub.status.busy": "2025-03-09T01:36:05.497100Z",
     "iopub.status.idle": "2025-03-09T01:36:05.502140Z",
     "shell.execute_reply": "2025-03-09T01:36:05.501332Z"
    },
    "papermill": {
     "duration": 0.008819,
     "end_time": "2025-03-09T01:36:05.503348",
     "exception": false,
     "start_time": "2025-03-09T01:36:05.494529",
     "status": "completed"
    },
    "tags": []
   },
   "outputs": [],
   "source": [
    "def build_model():\n",
    "    base_model = MobileNetV2(weights='imagenet', include_top=False,\n",
    "                             input_shape=(WIDTH, HEIGHT, 3))\n",
    "    base_model.trainable = True\n",
    "    for layer in base_model.layers[2:]:  \n",
    "        layer.trainable = False\n",
    "        \n",
    "    x = base_model.output\n",
    "    x = GlobalAveragePooling2D()(x)\n",
    "\n",
    "    fc_layers = Sequential([\n",
    "        make_dense_layer(1024, input_shape=(x.shape[-1],)),\n",
    "        make_dense_layer(8)\n",
    "    ])\n",
    "    x = fc_layers(x)\n",
    "    predictions = Dense(train_generator.num_classes,\n",
    "                        activation='softmax',\n",
    "                        kernel_initializer=HeNormal())(x)\n",
    "\n",
    "    model = Model(inputs=base_model.input, outputs=predictions)\n",
    "    model.compile(optimizer=Adam(learning_rate=LEARNING_RATE),\n",
    "                 loss='categorical_crossentropy',\n",
    "                 metrics=['accuracy'])   \n",
    "    return model"
   ]
  },
  {
   "cell_type": "code",
   "execution_count": 6,
   "id": "d5c30702",
   "metadata": {
    "execution": {
     "iopub.execute_input": "2025-03-09T01:36:05.508104Z",
     "iopub.status.busy": "2025-03-09T01:36:05.507879Z",
     "iopub.status.idle": "2025-03-09T01:36:05.511431Z",
     "shell.execute_reply": "2025-03-09T01:36:05.510651Z"
    },
    "papermill": {
     "duration": 0.007201,
     "end_time": "2025-03-09T01:36:05.512604",
     "exception": false,
     "start_time": "2025-03-09T01:36:05.505403",
     "status": "completed"
    },
    "tags": []
   },
   "outputs": [],
   "source": [
    "class ClearMemory(Callback):\n",
    "    def on_epoch_end(self, epoch, logs=None):\n",
    "        K.clear_session()  \n",
    "        gc.collect() "
   ]
  },
  {
   "cell_type": "code",
   "execution_count": 7,
   "id": "6cab79ef",
   "metadata": {
    "execution": {
     "iopub.execute_input": "2025-03-09T01:36:05.517401Z",
     "iopub.status.busy": "2025-03-09T01:36:05.517187Z",
     "iopub.status.idle": "2025-03-09T01:36:09.501916Z",
     "shell.execute_reply": "2025-03-09T01:36:09.501040Z"
    },
    "papermill": {
     "duration": 3.988704,
     "end_time": "2025-03-09T01:36:09.503495",
     "exception": false,
     "start_time": "2025-03-09T01:36:05.514791",
     "status": "completed"
    },
    "tags": []
   },
   "outputs": [
    {
     "name": "stdout",
     "output_type": "stream",
     "text": [
      "Downloading data from https://storage.googleapis.com/tensorflow/keras-applications/mobilenet_v2/mobilenet_v2_weights_tf_dim_ordering_tf_kernels_1.0_224_no_top.h5\n",
      "\u001b[1m9406464/9406464\u001b[0m \u001b[32m━━━━━━━━━━━━━━━━━━━━\u001b[0m\u001b[37m\u001b[0m \u001b[1m0s\u001b[0m 0us/step\n"
     ]
    }
   ],
   "source": [
    "model = build_model()\n",
    "model.load_weights(\"/kaggle/input/baseline-tf-model-2-hidden/best_weights.weights.h5\")\n",
    "\n",
    "best_weights_path = \"/kaggle/working/best_weights.weights.h5\"\n",
    "\n",
    "checkpoint_callback = ModelCheckpoint(\n",
    "    filepath=best_weights_path,  \n",
    "    monitor='val_accuracy',    \n",
    "    save_best_only=True,       \n",
    "    save_weights_only=True,    \n",
    "    mode='max',                \n",
    "    verbose=1                  \n",
    ")\n",
    "\n",
    "early_stopping_callback = EarlyStopping(\n",
    "    monitor='val_loss',  \n",
    "    patience=10,              \n",
    "    mode='min',              \n",
    "    min_delta=.001,\n",
    "    restore_best_weights=True,  \n",
    "    verbose=1\n",
    ")"
   ]
  },
  {
   "cell_type": "code",
   "execution_count": 8,
   "id": "54597118",
   "metadata": {
    "execution": {
     "iopub.execute_input": "2025-03-09T01:36:09.509746Z",
     "iopub.status.busy": "2025-03-09T01:36:09.509382Z",
     "iopub.status.idle": "2025-03-09T02:08:50.671638Z",
     "shell.execute_reply": "2025-03-09T02:08:50.670776Z"
    },
    "papermill": {
     "duration": 1961.166703,
     "end_time": "2025-03-09T02:08:50.672925",
     "exception": false,
     "start_time": "2025-03-09T01:36:09.506222",
     "status": "completed"
    },
    "tags": []
   },
   "outputs": [
    {
     "name": "stdout",
     "output_type": "stream",
     "text": [
      "Epoch 1/100\n",
      "\u001b[1m154/154\u001b[0m \u001b[32m━━━━━━━━━━━━━━━━━━━━\u001b[0m\u001b[37m\u001b[0m \u001b[1m0s\u001b[0m 480ms/step - accuracy: 0.8058 - loss: 0.4267\n",
      "Epoch 1: val_accuracy improved from -inf to 0.78339, saving model to /kaggle/working/best_weights.weights.h5\n",
      "\u001b[1m154/154\u001b[0m \u001b[32m━━━━━━━━━━━━━━━━━━━━\u001b[0m\u001b[37m\u001b[0m \u001b[1m116s\u001b[0m 645ms/step - accuracy: 0.8058 - loss: 0.4267 - val_accuracy: 0.7834 - val_loss: 0.5058\n",
      "Epoch 2/100\n",
      "\u001b[1m154/154\u001b[0m \u001b[32m━━━━━━━━━━━━━━━━━━━━\u001b[0m\u001b[37m\u001b[0m \u001b[1m0s\u001b[0m 359ms/step - accuracy: 0.8159 - loss: 0.4119\n",
      "Epoch 2: val_accuracy improved from 0.78339 to 0.80945, saving model to /kaggle/working/best_weights.weights.h5\n",
      "\u001b[1m154/154\u001b[0m \u001b[32m━━━━━━━━━━━━━━━━━━━━\u001b[0m\u001b[37m\u001b[0m \u001b[1m74s\u001b[0m 460ms/step - accuracy: 0.8159 - loss: 0.4119 - val_accuracy: 0.8094 - val_loss: 0.4460\n",
      "Epoch 3/100\n",
      "\u001b[1m154/154\u001b[0m \u001b[32m━━━━━━━━━━━━━━━━━━━━\u001b[0m\u001b[37m\u001b[0m \u001b[1m0s\u001b[0m 357ms/step - accuracy: 0.8186 - loss: 0.4017\n",
      "Epoch 3: val_accuracy did not improve from 0.80945\n",
      "\u001b[1m154/154\u001b[0m \u001b[32m━━━━━━━━━━━━━━━━━━━━\u001b[0m\u001b[37m\u001b[0m \u001b[1m73s\u001b[0m 456ms/step - accuracy: 0.8186 - loss: 0.4017 - val_accuracy: 0.7761 - val_loss: 0.5023\n",
      "Epoch 4/100\n",
      "\u001b[1m154/154\u001b[0m \u001b[32m━━━━━━━━━━━━━━━━━━━━\u001b[0m\u001b[37m\u001b[0m \u001b[1m0s\u001b[0m 358ms/step - accuracy: 0.8288 - loss: 0.3817\n",
      "Epoch 4: val_accuracy improved from 0.80945 to 0.81759, saving model to /kaggle/working/best_weights.weights.h5\n",
      "\u001b[1m154/154\u001b[0m \u001b[32m━━━━━━━━━━━━━━━━━━━━\u001b[0m\u001b[37m\u001b[0m \u001b[1m74s\u001b[0m 459ms/step - accuracy: 0.8288 - loss: 0.3816 - val_accuracy: 0.8176 - val_loss: 0.3968\n",
      "Epoch 5/100\n",
      "\u001b[1m154/154\u001b[0m \u001b[32m━━━━━━━━━━━━━━━━━━━━\u001b[0m\u001b[37m\u001b[0m \u001b[1m0s\u001b[0m 363ms/step - accuracy: 0.8434 - loss: 0.3391\n",
      "Epoch 5: val_accuracy did not improve from 0.81759\n",
      "\u001b[1m154/154\u001b[0m \u001b[32m━━━━━━━━━━━━━━━━━━━━\u001b[0m\u001b[37m\u001b[0m \u001b[1m74s\u001b[0m 461ms/step - accuracy: 0.8433 - loss: 0.3392 - val_accuracy: 0.7923 - val_loss: 0.4418\n",
      "Epoch 6/100\n",
      "\u001b[1m154/154\u001b[0m \u001b[32m━━━━━━━━━━━━━━━━━━━━\u001b[0m\u001b[37m\u001b[0m \u001b[1m0s\u001b[0m 359ms/step - accuracy: 0.8229 - loss: 0.3642\n",
      "Epoch 6: val_accuracy did not improve from 0.81759\n",
      "\u001b[1m154/154\u001b[0m \u001b[32m━━━━━━━━━━━━━━━━━━━━\u001b[0m\u001b[37m\u001b[0m \u001b[1m73s\u001b[0m 456ms/step - accuracy: 0.8230 - loss: 0.3641 - val_accuracy: 0.7989 - val_loss: 0.4077\n",
      "Epoch 7/100\n",
      "\u001b[1m154/154\u001b[0m \u001b[32m━━━━━━━━━━━━━━━━━━━━\u001b[0m\u001b[37m\u001b[0m \u001b[1m0s\u001b[0m 356ms/step - accuracy: 0.8287 - loss: 0.3731\n",
      "Epoch 7: val_accuracy improved from 0.81759 to 0.83143, saving model to /kaggle/working/best_weights.weights.h5\n",
      "\u001b[1m154/154\u001b[0m \u001b[32m━━━━━━━━━━━━━━━━━━━━\u001b[0m\u001b[37m\u001b[0m \u001b[1m73s\u001b[0m 455ms/step - accuracy: 0.8287 - loss: 0.3731 - val_accuracy: 0.8314 - val_loss: 0.3648\n",
      "Epoch 8/100\n",
      "\u001b[1m154/154\u001b[0m \u001b[32m━━━━━━━━━━━━━━━━━━━━\u001b[0m\u001b[37m\u001b[0m \u001b[1m0s\u001b[0m 358ms/step - accuracy: 0.8442 - loss: 0.3572\n",
      "Epoch 8: val_accuracy did not improve from 0.83143\n",
      "\u001b[1m154/154\u001b[0m \u001b[32m━━━━━━━━━━━━━━━━━━━━\u001b[0m\u001b[37m\u001b[0m \u001b[1m73s\u001b[0m 455ms/step - accuracy: 0.8441 - loss: 0.3573 - val_accuracy: 0.8103 - val_loss: 0.3915\n",
      "Epoch 9/100\n",
      "\u001b[1m154/154\u001b[0m \u001b[32m━━━━━━━━━━━━━━━━━━━━\u001b[0m\u001b[37m\u001b[0m \u001b[1m0s\u001b[0m 355ms/step - accuracy: 0.8340 - loss: 0.3648\n",
      "Epoch 9: val_accuracy did not improve from 0.83143\n",
      "\u001b[1m154/154\u001b[0m \u001b[32m━━━━━━━━━━━━━━━━━━━━\u001b[0m\u001b[37m\u001b[0m \u001b[1m73s\u001b[0m 453ms/step - accuracy: 0.8340 - loss: 0.3648 - val_accuracy: 0.8078 - val_loss: 0.3908\n",
      "Epoch 10/100\n",
      "\u001b[1m154/154\u001b[0m \u001b[32m━━━━━━━━━━━━━━━━━━━━\u001b[0m\u001b[37m\u001b[0m \u001b[1m0s\u001b[0m 359ms/step - accuracy: 0.8547 - loss: 0.3372\n",
      "Epoch 10: val_accuracy did not improve from 0.83143\n",
      "\u001b[1m154/154\u001b[0m \u001b[32m━━━━━━━━━━━━━━━━━━━━\u001b[0m\u001b[37m\u001b[0m \u001b[1m73s\u001b[0m 456ms/step - accuracy: 0.8546 - loss: 0.3372 - val_accuracy: 0.8046 - val_loss: 0.4248\n",
      "Epoch 11/100\n",
      "\u001b[1m154/154\u001b[0m \u001b[32m━━━━━━━━━━━━━━━━━━━━\u001b[0m\u001b[37m\u001b[0m \u001b[1m0s\u001b[0m 351ms/step - accuracy: 0.8366 - loss: 0.3600\n",
      "Epoch 11: val_accuracy did not improve from 0.83143\n",
      "\u001b[1m154/154\u001b[0m \u001b[32m━━━━━━━━━━━━━━━━━━━━\u001b[0m\u001b[37m\u001b[0m \u001b[1m73s\u001b[0m 453ms/step - accuracy: 0.8366 - loss: 0.3599 - val_accuracy: 0.8233 - val_loss: 0.3598\n",
      "Epoch 12/100\n",
      "\u001b[1m154/154\u001b[0m \u001b[32m━━━━━━━━━━━━━━━━━━━━\u001b[0m\u001b[37m\u001b[0m \u001b[1m0s\u001b[0m 352ms/step - accuracy: 0.8410 - loss: 0.3469\n",
      "Epoch 12: val_accuracy did not improve from 0.83143\n",
      "\u001b[1m154/154\u001b[0m \u001b[32m━━━━━━━━━━━━━━━━━━━━\u001b[0m\u001b[37m\u001b[0m \u001b[1m72s\u001b[0m 450ms/step - accuracy: 0.8410 - loss: 0.3469 - val_accuracy: 0.7956 - val_loss: 0.4259\n",
      "Epoch 13/100\n",
      "\u001b[1m154/154\u001b[0m \u001b[32m━━━━━━━━━━━━━━━━━━━━\u001b[0m\u001b[37m\u001b[0m \u001b[1m0s\u001b[0m 357ms/step - accuracy: 0.8463 - loss: 0.3316\n",
      "Epoch 13: val_accuracy did not improve from 0.83143\n",
      "\u001b[1m154/154\u001b[0m \u001b[32m━━━━━━━━━━━━━━━━━━━━\u001b[0m\u001b[37m\u001b[0m \u001b[1m73s\u001b[0m 454ms/step - accuracy: 0.8463 - loss: 0.3316 - val_accuracy: 0.7972 - val_loss: 0.4244\n",
      "Epoch 14/100\n",
      "\u001b[1m154/154\u001b[0m \u001b[32m━━━━━━━━━━━━━━━━━━━━\u001b[0m\u001b[37m\u001b[0m \u001b[1m0s\u001b[0m 356ms/step - accuracy: 0.8618 - loss: 0.3250\n",
      "Epoch 14: val_accuracy did not improve from 0.83143\n",
      "\u001b[1m154/154\u001b[0m \u001b[32m━━━━━━━━━━━━━━━━━━━━\u001b[0m\u001b[37m\u001b[0m \u001b[1m73s\u001b[0m 452ms/step - accuracy: 0.8617 - loss: 0.3250 - val_accuracy: 0.8078 - val_loss: 0.4132\n",
      "Epoch 15/100\n",
      "\u001b[1m154/154\u001b[0m \u001b[32m━━━━━━━━━━━━━━━━━━━━\u001b[0m\u001b[37m\u001b[0m \u001b[1m0s\u001b[0m 351ms/step - accuracy: 0.8633 - loss: 0.3213\n",
      "Epoch 15: val_accuracy did not improve from 0.83143\n",
      "\u001b[1m154/154\u001b[0m \u001b[32m━━━━━━━━━━━━━━━━━━━━\u001b[0m\u001b[37m\u001b[0m \u001b[1m72s\u001b[0m 447ms/step - accuracy: 0.8633 - loss: 0.3213 - val_accuracy: 0.8111 - val_loss: 0.3827\n",
      "Epoch 16/100\n",
      "\u001b[1m154/154\u001b[0m \u001b[32m━━━━━━━━━━━━━━━━━━━━\u001b[0m\u001b[37m\u001b[0m \u001b[1m0s\u001b[0m 355ms/step - accuracy: 0.8590 - loss: 0.3071\n",
      "Epoch 16: val_accuracy improved from 0.83143 to 0.83713, saving model to /kaggle/working/best_weights.weights.h5\n",
      "\u001b[1m154/154\u001b[0m \u001b[32m━━━━━━━━━━━━━━━━━━━━\u001b[0m\u001b[37m\u001b[0m \u001b[1m73s\u001b[0m 453ms/step - accuracy: 0.8590 - loss: 0.3072 - val_accuracy: 0.8371 - val_loss: 0.3570\n",
      "Epoch 17/100\n",
      "\u001b[1m154/154\u001b[0m \u001b[32m━━━━━━━━━━━━━━━━━━━━\u001b[0m\u001b[37m\u001b[0m \u001b[1m0s\u001b[0m 354ms/step - accuracy: 0.8475 - loss: 0.3401\n",
      "Epoch 17: val_accuracy did not improve from 0.83713\n",
      "\u001b[1m154/154\u001b[0m \u001b[32m━━━━━━━━━━━━━━━━━━━━\u001b[0m\u001b[37m\u001b[0m \u001b[1m72s\u001b[0m 450ms/step - accuracy: 0.8475 - loss: 0.3401 - val_accuracy: 0.8184 - val_loss: 0.3688\n",
      "Epoch 18/100\n",
      "\u001b[1m154/154\u001b[0m \u001b[32m━━━━━━━━━━━━━━━━━━━━\u001b[0m\u001b[37m\u001b[0m \u001b[1m0s\u001b[0m 353ms/step - accuracy: 0.8522 - loss: 0.3145\n",
      "Epoch 18: val_accuracy did not improve from 0.83713\n",
      "\u001b[1m154/154\u001b[0m \u001b[32m━━━━━━━━━━━━━━━━━━━━\u001b[0m\u001b[37m\u001b[0m \u001b[1m72s\u001b[0m 449ms/step - accuracy: 0.8522 - loss: 0.3145 - val_accuracy: 0.8103 - val_loss: 0.3898\n",
      "Epoch 19/100\n",
      "\u001b[1m154/154\u001b[0m \u001b[32m━━━━━━━━━━━━━━━━━━━━\u001b[0m\u001b[37m\u001b[0m \u001b[1m0s\u001b[0m 352ms/step - accuracy: 0.8570 - loss: 0.3240\n",
      "Epoch 19: val_accuracy did not improve from 0.83713\n",
      "\u001b[1m154/154\u001b[0m \u001b[32m━━━━━━━━━━━━━━━━━━━━\u001b[0m\u001b[37m\u001b[0m \u001b[1m72s\u001b[0m 448ms/step - accuracy: 0.8569 - loss: 0.3241 - val_accuracy: 0.7761 - val_loss: 0.4902\n",
      "Epoch 20/100\n",
      "\u001b[1m154/154\u001b[0m \u001b[32m━━━━━━━━━━━━━━━━━━━━\u001b[0m\u001b[37m\u001b[0m \u001b[1m0s\u001b[0m 354ms/step - accuracy: 0.8507 - loss: 0.3389\n",
      "Epoch 20: val_accuracy did not improve from 0.83713\n",
      "\u001b[1m154/154\u001b[0m \u001b[32m━━━━━━━━━━━━━━━━━━━━\u001b[0m\u001b[37m\u001b[0m \u001b[1m72s\u001b[0m 450ms/step - accuracy: 0.8508 - loss: 0.3388 - val_accuracy: 0.8062 - val_loss: 0.3744\n",
      "Epoch 21/100\n",
      "\u001b[1m154/154\u001b[0m \u001b[32m━━━━━━━━━━━━━━━━━━━━\u001b[0m\u001b[37m\u001b[0m \u001b[1m0s\u001b[0m 354ms/step - accuracy: 0.8556 - loss: 0.3269\n",
      "Epoch 21: val_accuracy did not improve from 0.83713\n",
      "\u001b[1m154/154\u001b[0m \u001b[32m━━━━━━━━━━━━━━━━━━━━\u001b[0m\u001b[37m\u001b[0m \u001b[1m73s\u001b[0m 450ms/step - accuracy: 0.8556 - loss: 0.3269 - val_accuracy: 0.8062 - val_loss: 0.3812\n",
      "Epoch 22/100\n",
      "\u001b[1m154/154\u001b[0m \u001b[32m━━━━━━━━━━━━━━━━━━━━\u001b[0m\u001b[37m\u001b[0m \u001b[1m0s\u001b[0m 353ms/step - accuracy: 0.8616 - loss: 0.3176\n",
      "Epoch 22: val_accuracy did not improve from 0.83713\n",
      "\u001b[1m154/154\u001b[0m \u001b[32m━━━━━━━━━━━━━━━━━━━━\u001b[0m\u001b[37m\u001b[0m \u001b[1m73s\u001b[0m 451ms/step - accuracy: 0.8616 - loss: 0.3176 - val_accuracy: 0.7997 - val_loss: 0.3997\n",
      "Epoch 23/100\n",
      "\u001b[1m154/154\u001b[0m \u001b[32m━━━━━━━━━━━━━━━━━━━━\u001b[0m\u001b[37m\u001b[0m \u001b[1m0s\u001b[0m 368ms/step - accuracy: 0.8529 - loss: 0.3324\n",
      "Epoch 23: val_accuracy did not improve from 0.83713\n",
      "\u001b[1m154/154\u001b[0m \u001b[32m━━━━━━━━━━━━━━━━━━━━\u001b[0m\u001b[37m\u001b[0m \u001b[1m75s\u001b[0m 465ms/step - accuracy: 0.8529 - loss: 0.3323 - val_accuracy: 0.8241 - val_loss: 0.3722\n",
      "Epoch 24/100\n",
      "\u001b[1m154/154\u001b[0m \u001b[32m━━━━━━━━━━━━━━━━━━━━\u001b[0m\u001b[37m\u001b[0m \u001b[1m0s\u001b[0m 360ms/step - accuracy: 0.8520 - loss: 0.3147\n",
      "Epoch 24: val_accuracy did not improve from 0.83713\n",
      "\u001b[1m154/154\u001b[0m \u001b[32m━━━━━━━━━━━━━━━━━━━━\u001b[0m\u001b[37m\u001b[0m \u001b[1m74s\u001b[0m 457ms/step - accuracy: 0.8520 - loss: 0.3148 - val_accuracy: 0.8200 - val_loss: 0.3710\n",
      "Epoch 25/100\n",
      "\u001b[1m154/154\u001b[0m \u001b[32m━━━━━━━━━━━━━━━━━━━━\u001b[0m\u001b[37m\u001b[0m \u001b[1m0s\u001b[0m 354ms/step - accuracy: 0.8551 - loss: 0.3145\n",
      "Epoch 25: val_accuracy did not improve from 0.83713\n",
      "\u001b[1m154/154\u001b[0m \u001b[32m━━━━━━━━━━━━━━━━━━━━\u001b[0m\u001b[37m\u001b[0m \u001b[1m73s\u001b[0m 451ms/step - accuracy: 0.8551 - loss: 0.3145 - val_accuracy: 0.8078 - val_loss: 0.3790\n",
      "Epoch 26/100\n",
      "\u001b[1m154/154\u001b[0m \u001b[32m━━━━━━━━━━━━━━━━━━━━\u001b[0m\u001b[37m\u001b[0m \u001b[1m0s\u001b[0m 354ms/step - accuracy: 0.8613 - loss: 0.3043\n",
      "Epoch 26: val_accuracy did not improve from 0.83713\n",
      "\u001b[1m154/154\u001b[0m \u001b[32m━━━━━━━━━━━━━━━━━━━━\u001b[0m\u001b[37m\u001b[0m \u001b[1m72s\u001b[0m 450ms/step - accuracy: 0.8613 - loss: 0.3043 - val_accuracy: 0.8176 - val_loss: 0.3640\n",
      "Epoch 26: early stopping\n",
      "Restoring model weights from the end of the best epoch: 16.\n",
      "\u001b[1m38/38\u001b[0m \u001b[32m━━━━━━━━━━━━━━━━━━━━\u001b[0m\u001b[37m\u001b[0m \u001b[1m15s\u001b[0m 376ms/step - accuracy: 0.8308 - loss: 0.3811\n",
      "Test Accuracy Before Fine-tuning: 83.80%\n"
     ]
    }
   ],
   "source": [
    "history = model.fit(\n",
    "    train_generator,\n",
    "    epochs=EPOCHS,\n",
    "    validation_data=validation_generator,\n",
    "    callbacks=[checkpoint_callback, early_stopping_callback, ClearMemory()]\n",
    ")\n",
    "\n",
    "initial_test_loss, initial_test_acc = model.evaluate(validation_generator, \n",
    "                                                     steps=validation_generator.samples // BATCH_SIZE)\n",
    "\n",
    "print(f\"Test Accuracy Before Fine-tuning: {initial_test_acc*100:.2f}%\")"
   ]
  }
 ],
 "metadata": {
  "kaggle": {
   "accelerator": "nvidiaTeslaT4",
   "dataSources": [
    {
     "datasetId": 6807513,
     "sourceId": 10945047,
     "sourceType": "datasetVersion"
    },
    {
     "sourceId": 226199528,
     "sourceType": "kernelVersion"
    }
   ],
   "dockerImageVersionId": 30919,
   "isGpuEnabled": true,
   "isInternetEnabled": true,
   "language": "python",
   "sourceType": "notebook"
  },
  "kernelspec": {
   "display_name": "Python 3",
   "language": "python",
   "name": "python3"
  },
  "language_info": {
   "codemirror_mode": {
    "name": "ipython",
    "version": 3
   },
   "file_extension": ".py",
   "mimetype": "text/x-python",
   "name": "python",
   "nbconvert_exporter": "python",
   "pygments_lexer": "ipython3",
   "version": "3.10.12"
  },
  "papermill": {
   "default_parameters": {},
   "duration": 1989.578088,
   "end_time": "2025-03-09T02:08:53.397783",
   "environment_variables": {},
   "exception": null,
   "input_path": "__notebook__.ipynb",
   "output_path": "__notebook__.ipynb",
   "parameters": {},
   "start_time": "2025-03-09T01:35:43.819695",
   "version": "2.6.0"
  }
 },
 "nbformat": 4,
 "nbformat_minor": 5
}
