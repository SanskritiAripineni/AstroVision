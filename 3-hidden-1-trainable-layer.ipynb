{
 "cells": [
  {
   "cell_type": "code",
   "execution_count": 1,
   "id": "6a6e1a4e",
   "metadata": {
    "_cell_guid": "b1076dfc-b9ad-4769-8c92-a6c4dae69d19",
    "_uuid": "8f2839f25d086af736a60e9eeb907d3b93b6e0e5",
    "execution": {
     "iopub.execute_input": "2025-03-09T03:09:36.672113Z",
     "iopub.status.busy": "2025-03-09T03:09:36.671610Z",
     "iopub.status.idle": "2025-03-09T03:09:55.994469Z",
     "shell.execute_reply": "2025-03-09T03:09:55.993485Z"
    },
    "papermill": {
     "duration": 19.328816,
     "end_time": "2025-03-09T03:09:55.996212",
     "exception": false,
     "start_time": "2025-03-09T03:09:36.667396",
     "status": "completed"
    },
    "tags": []
   },
   "outputs": [],
   "source": [
    "import numpy as np\n",
    "import matplotlib.pyplot as plt\n",
    "import seaborn as sea\n",
    "import tensorflow as tf\n",
    "import random\n",
    "import gc\n",
    "\n",
    "import tensorflow.keras.backend as K\n",
    "from tensorflow.keras.callbacks import Callback\n",
    "from tensorflow.keras.preprocessing.image import ImageDataGenerator\n",
    "from tensorflow.keras.applications import MobileNetV2\n",
    "from tensorflow.keras.models import Model, Sequential\n",
    "from tensorflow.keras.layers import Dense, GlobalAveragePooling2D, ReLU, BatchNormalization\n",
    "from tensorflow.keras.initializers import HeNormal, Ones, Constant\n",
    "from tensorflow.keras.optimizers import Adam\n",
    "from tensorflow.keras.callbacks import ModelCheckpoint, EarlyStopping\n",
    "\n",
    "import warnings\n",
    "warnings.filterwarnings(\"ignore\")"
   ]
  },
  {
   "cell_type": "code",
   "execution_count": 2,
   "id": "e8df7106",
   "metadata": {
    "execution": {
     "iopub.execute_input": "2025-03-09T03:09:56.001833Z",
     "iopub.status.busy": "2025-03-09T03:09:56.001338Z",
     "iopub.status.idle": "2025-03-09T03:09:56.005097Z",
     "shell.execute_reply": "2025-03-09T03:09:56.004450Z"
    },
    "papermill": {
     "duration": 0.007598,
     "end_time": "2025-03-09T03:09:56.006390",
     "exception": false,
     "start_time": "2025-03-09T03:09:55.998792",
     "status": "completed"
    },
    "tags": []
   },
   "outputs": [],
   "source": [
    "SEED = 3126  \n",
    "random.seed(SEED)\n",
    "np.random.seed(SEED)\n",
    "tf.random.set_seed(SEED)"
   ]
  },
  {
   "cell_type": "code",
   "execution_count": 3,
   "id": "d40ae482",
   "metadata": {
    "execution": {
     "iopub.execute_input": "2025-03-09T03:09:56.010999Z",
     "iopub.status.busy": "2025-03-09T03:09:56.010777Z",
     "iopub.status.idle": "2025-03-09T03:10:01.596880Z",
     "shell.execute_reply": "2025-03-09T03:10:01.596205Z"
    },
    "papermill": {
     "duration": 5.5899,
     "end_time": "2025-03-09T03:10:01.598263",
     "exception": false,
     "start_time": "2025-03-09T03:09:56.008363",
     "status": "completed"
    },
    "tags": []
   },
   "outputs": [
    {
     "name": "stdout",
     "output_type": "stream",
     "text": [
      "Found 4913 images belonging to 4 classes.\n",
      "Found 1228 images belonging to 4 classes.\n"
     ]
    }
   ],
   "source": [
    "WIDTH, HEIGHT = 224, 224\n",
    "BATCH_SIZE = 32\n",
    "LEARNING_RATE = .001\n",
    "EPOCHS = 100\n",
    "DIR = \"/kaggle/input/finalized-astrovision-data\"\n",
    "\n",
    "train_datagen = ImageDataGenerator(\n",
    "    rescale=1./255,\n",
    "    rotation_range=30,\n",
    "    width_shift_range=0.1,\n",
    "    height_shift_range=0.1,\n",
    "    shear_range=0.2,\n",
    "    zoom_range=0.2,\n",
    "    horizontal_flip=True,\n",
    "    fill_mode='nearest',\n",
    "    validation_split=0.2\n",
    ")\n",
    "\n",
    "train_generator = train_datagen.flow_from_directory(\n",
    "    DIR,\n",
    "    target_size=(WIDTH, HEIGHT),\n",
    "    batch_size=BATCH_SIZE,\n",
    "    class_mode='categorical',\n",
    "    subset='training',\n",
    "    seed=SEED  ,\n",
    "    shuffle=True\n",
    ")\n",
    "\n",
    "validation_generator = train_datagen.flow_from_directory(\n",
    "    DIR,\n",
    "    target_size=(WIDTH, HEIGHT),\n",
    "    batch_size=BATCH_SIZE,\n",
    "    class_mode='categorical',\n",
    "    subset='validation',\n",
    "    seed=SEED,\n",
    "    shuffle=False\n",
    ")"
   ]
  },
  {
   "cell_type": "code",
   "execution_count": 4,
   "id": "69ef882c",
   "metadata": {
    "execution": {
     "iopub.execute_input": "2025-03-09T03:10:01.603951Z",
     "iopub.status.busy": "2025-03-09T03:10:01.603686Z",
     "iopub.status.idle": "2025-03-09T03:10:01.608483Z",
     "shell.execute_reply": "2025-03-09T03:10:01.607676Z"
    },
    "papermill": {
     "duration": 0.008841,
     "end_time": "2025-03-09T03:10:01.609684",
     "exception": false,
     "start_time": "2025-03-09T03:10:01.600843",
     "status": "completed"
    },
    "tags": []
   },
   "outputs": [],
   "source": [
    "def make_dense_layer(input_size, dropout_rate=0.0, input_shape=None):\n",
    "    layers = []\n",
    "    if input_shape:\n",
    "        layers.append(Dense(input_size,\n",
    "                            use_bias=False, \n",
    "                            input_shape=input_shape,\n",
    "                            kernel_initializer=HeNormal()\n",
    "                            ))\n",
    "    else:\n",
    "        layers.append(Dense(input_size, use_bias=False, kernel_initializer=HeNormal()))\n",
    "    layers.extend([BatchNormalization(gamma_initializer=Ones(), beta_initializer=Constant(0.25)),\n",
    "                  ReLU()])\n",
    "    if dropout_rate > 0:\n",
    "        layers.append(Dropout(dropout_rate))\n",
    "    return Sequential(layers)"
   ]
  },
  {
   "cell_type": "code",
   "execution_count": 5,
   "id": "46444f00",
   "metadata": {
    "execution": {
     "iopub.execute_input": "2025-03-09T03:10:01.614988Z",
     "iopub.status.busy": "2025-03-09T03:10:01.614767Z",
     "iopub.status.idle": "2025-03-09T03:10:01.619535Z",
     "shell.execute_reply": "2025-03-09T03:10:01.618891Z"
    },
    "papermill": {
     "duration": 0.008633,
     "end_time": "2025-03-09T03:10:01.620706",
     "exception": false,
     "start_time": "2025-03-09T03:10:01.612073",
     "status": "completed"
    },
    "tags": []
   },
   "outputs": [],
   "source": [
    "def build_model():\n",
    "    base_model = MobileNetV2(weights='imagenet', include_top=False,\n",
    "                             input_shape=(WIDTH, HEIGHT, 3))\n",
    "    base_model.trainable = True\n",
    "    for layer in base_model.layers[1:]:  \n",
    "        layer.trainable = False\n",
    "        \n",
    "    x = base_model.output\n",
    "    x = GlobalAveragePooling2D()(x)\n",
    "\n",
    "    fc_layers = Sequential([\n",
    "        make_dense_layer(1024, input_shape=(x.shape[-1],)),\n",
    "        make_dense_layer(512),\n",
    "        make_dense_layer(8)\n",
    "    ])\n",
    "    x = fc_layers(x)\n",
    "    predictions = Dense(train_generator.num_classes,\n",
    "                        activation='softmax',\n",
    "                        kernel_initializer=HeNormal())(x)\n",
    "\n",
    "    model = Model(inputs=base_model.input, outputs=predictions)\n",
    "    model.compile(optimizer=Adam(learning_rate=LEARNING_RATE),\n",
    "                 loss='categorical_crossentropy',\n",
    "                 metrics=['accuracy'])   \n",
    "    return model"
   ]
  },
  {
   "cell_type": "code",
   "execution_count": 6,
   "id": "44b2531c",
   "metadata": {
    "execution": {
     "iopub.execute_input": "2025-03-09T03:10:01.625523Z",
     "iopub.status.busy": "2025-03-09T03:10:01.625316Z",
     "iopub.status.idle": "2025-03-09T03:10:01.628498Z",
     "shell.execute_reply": "2025-03-09T03:10:01.627852Z"
    },
    "papermill": {
     "duration": 0.006693,
     "end_time": "2025-03-09T03:10:01.629567",
     "exception": false,
     "start_time": "2025-03-09T03:10:01.622874",
     "status": "completed"
    },
    "tags": []
   },
   "outputs": [],
   "source": [
    "class ClearMemory(Callback):\n",
    "    def on_epoch_end(self, epoch, logs=None):\n",
    "        K.clear_session()  \n",
    "        gc.collect() "
   ]
  },
  {
   "cell_type": "code",
   "execution_count": 7,
   "id": "749f6a35",
   "metadata": {
    "execution": {
     "iopub.execute_input": "2025-03-09T03:10:01.634526Z",
     "iopub.status.busy": "2025-03-09T03:10:01.634323Z",
     "iopub.status.idle": "2025-03-09T03:10:06.805091Z",
     "shell.execute_reply": "2025-03-09T03:10:06.804372Z"
    },
    "papermill": {
     "duration": 5.174956,
     "end_time": "2025-03-09T03:10:06.806690",
     "exception": false,
     "start_time": "2025-03-09T03:10:01.631734",
     "status": "completed"
    },
    "tags": []
   },
   "outputs": [
    {
     "name": "stdout",
     "output_type": "stream",
     "text": [
      "Downloading data from https://storage.googleapis.com/tensorflow/keras-applications/mobilenet_v2/mobilenet_v2_weights_tf_dim_ordering_tf_kernels_1.0_224_no_top.h5\n",
      "\u001b[1m9406464/9406464\u001b[0m \u001b[32m━━━━━━━━━━━━━━━━━━━━\u001b[0m\u001b[37m\u001b[0m \u001b[1m0s\u001b[0m 0us/step\n"
     ]
    }
   ],
   "source": [
    "model = build_model()\n",
    "model.load_weights(\"/kaggle/input/baseline-tf-model-3-hidden/best_weights.weights.h5\")\n",
    "\n",
    "best_weights_path = \"/kaggle/working/best_weights.weights.h5\"\n",
    "\n",
    "checkpoint_callback = ModelCheckpoint(\n",
    "    filepath=best_weights_path,  \n",
    "    monitor='val_accuracy',    \n",
    "    save_best_only=True,       \n",
    "    save_weights_only=True,    \n",
    "    mode='max',                \n",
    "    verbose=1                  \n",
    ")\n",
    "\n",
    "early_stopping_callback = EarlyStopping(\n",
    "    monitor='val_loss',  \n",
    "    patience=10,              \n",
    "    mode='min',              \n",
    "    min_delta=.001,\n",
    "    restore_best_weights=True,  \n",
    "    verbose=1\n",
    ")"
   ]
  },
  {
   "cell_type": "code",
   "execution_count": 8,
   "id": "fd4a3605",
   "metadata": {
    "execution": {
     "iopub.execute_input": "2025-03-09T03:10:06.813109Z",
     "iopub.status.busy": "2025-03-09T03:10:06.812831Z",
     "iopub.status.idle": "2025-03-09T03:29:55.752954Z",
     "shell.execute_reply": "2025-03-09T03:29:55.752012Z"
    },
    "papermill": {
     "duration": 1188.944618,
     "end_time": "2025-03-09T03:29:55.754293",
     "exception": false,
     "start_time": "2025-03-09T03:10:06.809675",
     "status": "completed"
    },
    "tags": []
   },
   "outputs": [
    {
     "name": "stdout",
     "output_type": "stream",
     "text": [
      "Epoch 1/100\n",
      "\u001b[1m153/154\u001b[0m \u001b[32m━━━━━━━━━━━━━━━━━━━\u001b[0m\u001b[37m━\u001b[0m \u001b[1m0s\u001b[0m 502ms/step - accuracy: 0.8324 - loss: 0.3734\n",
      "Epoch 1: val_accuracy improved from -inf to 0.82655, saving model to /kaggle/working/best_weights.weights.h5\n",
      "\u001b[1m154/154\u001b[0m \u001b[32m━━━━━━━━━━━━━━━━━━━━\u001b[0m\u001b[37m\u001b[0m \u001b[1m120s\u001b[0m 675ms/step - accuracy: 0.8324 - loss: 0.3734 - val_accuracy: 0.8265 - val_loss: 0.3881\n",
      "Epoch 2/100\n",
      "\u001b[1m153/154\u001b[0m \u001b[32m━━━━━━━━━━━━━━━━━━━\u001b[0m\u001b[37m━\u001b[0m \u001b[1m0s\u001b[0m 367ms/step - accuracy: 0.8506 - loss: 0.3458\n",
      "Epoch 2: val_accuracy did not improve from 0.82655\n",
      "\u001b[1m154/154\u001b[0m \u001b[32m━━━━━━━━━━━━━━━━━━━━\u001b[0m\u001b[37m\u001b[0m \u001b[1m76s\u001b[0m 469ms/step - accuracy: 0.8506 - loss: 0.3458 - val_accuracy: 0.8225 - val_loss: 0.3945\n",
      "Epoch 3/100\n",
      "\u001b[1m153/154\u001b[0m \u001b[32m━━━━━━━━━━━━━━━━━━━\u001b[0m\u001b[37m━\u001b[0m \u001b[1m0s\u001b[0m 365ms/step - accuracy: 0.8310 - loss: 0.3688\n",
      "Epoch 3: val_accuracy did not improve from 0.82655\n",
      "\u001b[1m154/154\u001b[0m \u001b[32m━━━━━━━━━━━━━━━━━━━━\u001b[0m\u001b[37m\u001b[0m \u001b[1m75s\u001b[0m 464ms/step - accuracy: 0.8312 - loss: 0.3686 - val_accuracy: 0.8233 - val_loss: 0.3779\n",
      "Epoch 4/100\n",
      "\u001b[1m153/154\u001b[0m \u001b[32m━━━━━━━━━━━━━━━━━━━\u001b[0m\u001b[37m━\u001b[0m \u001b[1m0s\u001b[0m 367ms/step - accuracy: 0.8401 - loss: 0.3530\n",
      "Epoch 4: val_accuracy improved from 0.82655 to 0.82899, saving model to /kaggle/working/best_weights.weights.h5\n",
      "\u001b[1m154/154\u001b[0m \u001b[32m━━━━━━━━━━━━━━━━━━━━\u001b[0m\u001b[37m\u001b[0m \u001b[1m75s\u001b[0m 468ms/step - accuracy: 0.8402 - loss: 0.3529 - val_accuracy: 0.8290 - val_loss: 0.3890\n",
      "Epoch 5/100\n",
      "\u001b[1m153/154\u001b[0m \u001b[32m━━━━━━━━━━━━━━━━━━━\u001b[0m\u001b[37m━\u001b[0m \u001b[1m0s\u001b[0m 367ms/step - accuracy: 0.8622 - loss: 0.3158\n",
      "Epoch 5: val_accuracy did not improve from 0.82899\n",
      "\u001b[1m154/154\u001b[0m \u001b[32m━━━━━━━━━━━━━━━━━━━━\u001b[0m\u001b[37m\u001b[0m \u001b[1m75s\u001b[0m 465ms/step - accuracy: 0.8622 - loss: 0.3160 - val_accuracy: 0.8265 - val_loss: 0.3635\n",
      "Epoch 6/100\n",
      "\u001b[1m153/154\u001b[0m \u001b[32m━━━━━━━━━━━━━━━━━━━\u001b[0m\u001b[37m━\u001b[0m \u001b[1m0s\u001b[0m 370ms/step - accuracy: 0.8463 - loss: 0.3543\n",
      "Epoch 6: val_accuracy improved from 0.82899 to 0.84039, saving model to /kaggle/working/best_weights.weights.h5\n",
      "\u001b[1m154/154\u001b[0m \u001b[32m━━━━━━━━━━━━━━━━━━━━\u001b[0m\u001b[37m\u001b[0m \u001b[1m76s\u001b[0m 471ms/step - accuracy: 0.8464 - loss: 0.3540 - val_accuracy: 0.8404 - val_loss: 0.3682\n",
      "Epoch 7/100\n",
      "\u001b[1m153/154\u001b[0m \u001b[32m━━━━━━━━━━━━━━━━━━━\u001b[0m\u001b[37m━\u001b[0m \u001b[1m0s\u001b[0m 370ms/step - accuracy: 0.8582 - loss: 0.3291\n",
      "Epoch 7: val_accuracy did not improve from 0.84039\n",
      "\u001b[1m154/154\u001b[0m \u001b[32m━━━━━━━━━━━━━━━━━━━━\u001b[0m\u001b[37m\u001b[0m \u001b[1m76s\u001b[0m 468ms/step - accuracy: 0.8581 - loss: 0.3292 - val_accuracy: 0.8290 - val_loss: 0.3957\n",
      "Epoch 8/100\n",
      "\u001b[1m153/154\u001b[0m \u001b[32m━━━━━━━━━━━━━━━━━━━\u001b[0m\u001b[37m━\u001b[0m \u001b[1m0s\u001b[0m 369ms/step - accuracy: 0.8514 - loss: 0.3306\n",
      "Epoch 8: val_accuracy did not improve from 0.84039\n",
      "\u001b[1m154/154\u001b[0m \u001b[32m━━━━━━━━━━━━━━━━━━━━\u001b[0m\u001b[37m\u001b[0m \u001b[1m75s\u001b[0m 469ms/step - accuracy: 0.8513 - loss: 0.3307 - val_accuracy: 0.8127 - val_loss: 0.3891\n",
      "Epoch 9/100\n",
      "\u001b[1m153/154\u001b[0m \u001b[32m━━━━━━━━━━━━━━━━━━━\u001b[0m\u001b[37m━\u001b[0m \u001b[1m0s\u001b[0m 366ms/step - accuracy: 0.8448 - loss: 0.3404\n",
      "Epoch 9: val_accuracy did not improve from 0.84039\n",
      "\u001b[1m154/154\u001b[0m \u001b[32m━━━━━━━━━━━━━━━━━━━━\u001b[0m\u001b[37m\u001b[0m \u001b[1m75s\u001b[0m 464ms/step - accuracy: 0.8449 - loss: 0.3404 - val_accuracy: 0.8103 - val_loss: 0.4132\n",
      "Epoch 10/100\n",
      "\u001b[1m153/154\u001b[0m \u001b[32m━━━━━━━━━━━━━━━━━━━\u001b[0m\u001b[37m━\u001b[0m \u001b[1m0s\u001b[0m 363ms/step - accuracy: 0.8639 - loss: 0.3148\n",
      "Epoch 10: val_accuracy did not improve from 0.84039\n",
      "\u001b[1m154/154\u001b[0m \u001b[32m━━━━━━━━━━━━━━━━━━━━\u001b[0m\u001b[37m\u001b[0m \u001b[1m74s\u001b[0m 460ms/step - accuracy: 0.8638 - loss: 0.3149 - val_accuracy: 0.8339 - val_loss: 0.3835\n",
      "Epoch 11/100\n",
      "\u001b[1m153/154\u001b[0m \u001b[32m━━━━━━━━━━━━━━━━━━━\u001b[0m\u001b[37m━\u001b[0m \u001b[1m0s\u001b[0m 364ms/step - accuracy: 0.8516 - loss: 0.3206\n",
      "Epoch 11: val_accuracy did not improve from 0.84039\n",
      "\u001b[1m154/154\u001b[0m \u001b[32m━━━━━━━━━━━━━━━━━━━━\u001b[0m\u001b[37m\u001b[0m \u001b[1m74s\u001b[0m 461ms/step - accuracy: 0.8517 - loss: 0.3205 - val_accuracy: 0.8176 - val_loss: 0.4030\n",
      "Epoch 12/100\n",
      "\u001b[1m153/154\u001b[0m \u001b[32m━━━━━━━━━━━━━━━━━━━\u001b[0m\u001b[37m━\u001b[0m \u001b[1m0s\u001b[0m 363ms/step - accuracy: 0.8525 - loss: 0.3321\n",
      "Epoch 12: val_accuracy did not improve from 0.84039\n",
      "\u001b[1m154/154\u001b[0m \u001b[32m━━━━━━━━━━━━━━━━━━━━\u001b[0m\u001b[37m\u001b[0m \u001b[1m74s\u001b[0m 461ms/step - accuracy: 0.8525 - loss: 0.3320 - val_accuracy: 0.8290 - val_loss: 0.3892\n",
      "Epoch 13/100\n",
      "\u001b[1m153/154\u001b[0m \u001b[32m━━━━━━━━━━━━━━━━━━━\u001b[0m\u001b[37m━\u001b[0m \u001b[1m0s\u001b[0m 367ms/step - accuracy: 0.8664 - loss: 0.3043\n",
      "Epoch 13: val_accuracy did not improve from 0.84039\n",
      "\u001b[1m154/154\u001b[0m \u001b[32m━━━━━━━━━━━━━━━━━━━━\u001b[0m\u001b[37m\u001b[0m \u001b[1m75s\u001b[0m 467ms/step - accuracy: 0.8664 - loss: 0.3044 - val_accuracy: 0.8217 - val_loss: 0.4078\n",
      "Epoch 14/100\n",
      "\u001b[1m153/154\u001b[0m \u001b[32m━━━━━━━━━━━━━━━━━━━\u001b[0m\u001b[37m━\u001b[0m \u001b[1m0s\u001b[0m 372ms/step - accuracy: 0.8684 - loss: 0.3040\n",
      "Epoch 14: val_accuracy did not improve from 0.84039\n",
      "\u001b[1m154/154\u001b[0m \u001b[32m━━━━━━━━━━━━━━━━━━━━\u001b[0m\u001b[37m\u001b[0m \u001b[1m76s\u001b[0m 469ms/step - accuracy: 0.8684 - loss: 0.3041 - val_accuracy: 0.8086 - val_loss: 0.4156\n",
      "Epoch 15/100\n",
      "\u001b[1m153/154\u001b[0m \u001b[32m━━━━━━━━━━━━━━━━━━━\u001b[0m\u001b[37m━\u001b[0m \u001b[1m0s\u001b[0m 366ms/step - accuracy: 0.8602 - loss: 0.3167\n",
      "Epoch 15: val_accuracy did not improve from 0.84039\n",
      "\u001b[1m154/154\u001b[0m \u001b[32m━━━━━━━━━━━━━━━━━━━━\u001b[0m\u001b[37m\u001b[0m \u001b[1m75s\u001b[0m 464ms/step - accuracy: 0.8603 - loss: 0.3167 - val_accuracy: 0.8143 - val_loss: 0.4036\n",
      "Epoch 15: early stopping\n",
      "Restoring model weights from the end of the best epoch: 5.\n",
      "\u001b[1m38/38\u001b[0m \u001b[32m━━━━━━━━━━━━━━━━━━━━\u001b[0m\u001b[37m\u001b[0m \u001b[1m15s\u001b[0m 374ms/step - accuracy: 0.8299 - loss: 0.4673\n",
      "Test Accuracy Before Fine-tuning: 82.57%\n"
     ]
    }
   ],
   "source": [
    "history = model.fit(\n",
    "    train_generator,\n",
    "    epochs=EPOCHS,\n",
    "    validation_data=validation_generator,\n",
    "    callbacks=[checkpoint_callback, early_stopping_callback, ClearMemory()]\n",
    ")\n",
    "\n",
    "initial_test_loss, initial_test_acc = model.evaluate(validation_generator, \n",
    "                                                     steps=validation_generator.samples // BATCH_SIZE)\n",
    "\n",
    "print(f\"Test Accuracy Before Fine-tuning: {initial_test_acc*100:.2f}%\")"
   ]
  }
 ],
 "metadata": {
  "kaggle": {
   "accelerator": "nvidiaTeslaT4",
   "dataSources": [
    {
     "datasetId": 6807513,
     "sourceId": 10945047,
     "sourceType": "datasetVersion"
    },
    {
     "sourceId": 226197213,
     "sourceType": "kernelVersion"
    },
    {
     "sourceId": 226199528,
     "sourceType": "kernelVersion"
    }
   ],
   "dockerImageVersionId": 30919,
   "isGpuEnabled": true,
   "isInternetEnabled": true,
   "language": "python",
   "sourceType": "notebook"
  },
  "kernelspec": {
   "display_name": "Python 3",
   "language": "python",
   "name": "python3"
  },
  "language_info": {
   "codemirror_mode": {
    "name": "ipython",
    "version": 3
   },
   "file_extension": ".py",
   "mimetype": "text/x-python",
   "name": "python",
   "nbconvert_exporter": "python",
   "pygments_lexer": "ipython3",
   "version": "3.10.12"
  },
  "papermill": {
   "default_parameters": {},
   "duration": 1225.771295,
   "end_time": "2025-03-09T03:29:58.891008",
   "environment_variables": {},
   "exception": null,
   "input_path": "__notebook__.ipynb",
   "output_path": "__notebook__.ipynb",
   "parameters": {},
   "start_time": "2025-03-09T03:09:33.119713",
   "version": "2.6.0"
  }
 },
 "nbformat": 4,
 "nbformat_minor": 5
}
