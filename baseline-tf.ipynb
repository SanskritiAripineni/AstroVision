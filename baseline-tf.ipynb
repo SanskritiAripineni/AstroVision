{
 "cells": [
  {
   "cell_type": "code",
   "execution_count": 1,
   "id": "c69adda8",
   "metadata": {
    "_cell_guid": "b1076dfc-b9ad-4769-8c92-a6c4dae69d19",
    "_uuid": "8f2839f25d086af736a60e9eeb907d3b93b6e0e5",
    "execution": {
     "iopub.execute_input": "2025-03-06T04:12:59.300339Z",
     "iopub.status.busy": "2025-03-06T04:12:59.299942Z",
     "iopub.status.idle": "2025-03-06T04:13:18.420706Z",
     "shell.execute_reply": "2025-03-06T04:13:18.420013Z"
    },
    "papermill": {
     "duration": 19.126486,
     "end_time": "2025-03-06T04:13:18.422350",
     "exception": false,
     "start_time": "2025-03-06T04:12:59.295864",
     "status": "completed"
    },
    "tags": []
   },
   "outputs": [],
   "source": [
    "import numpy as np\n",
    "import matplotlib.pyplot as plt\n",
    "import seaborn as sea\n",
    "import tensorflow as tf\n",
    "import random\n",
    "import gc\n",
    "\n",
    "import tensorflow.keras.backend as K\n",
    "from tensorflow.keras.callbacks import Callback\n",
    "from tensorflow.keras.preprocessing.image import ImageDataGenerator\n",
    "from tensorflow.keras.applications import MobileNetV2\n",
    "from tensorflow.keras.models import Model, Sequential\n",
    "from tensorflow.keras.layers import Dense, GlobalAveragePooling2D, ReLU, BatchNormalization\n",
    "from tensorflow.keras.initializers import HeNormal, Ones, Zeros\n",
    "from tensorflow.keras.optimizers import Adam\n",
    "from tensorflow.keras.callbacks import ModelCheckpoint, EarlyStopping"
   ]
  },
  {
   "cell_type": "code",
   "execution_count": 2,
   "id": "bb3b34e5",
   "metadata": {
    "execution": {
     "iopub.execute_input": "2025-03-06T04:13:18.428572Z",
     "iopub.status.busy": "2025-03-06T04:13:18.428128Z",
     "iopub.status.idle": "2025-03-06T04:13:18.432192Z",
     "shell.execute_reply": "2025-03-06T04:13:18.431381Z"
    },
    "papermill": {
     "duration": 0.008221,
     "end_time": "2025-03-06T04:13:18.433405",
     "exception": false,
     "start_time": "2025-03-06T04:13:18.425184",
     "status": "completed"
    },
    "tags": []
   },
   "outputs": [],
   "source": [
    "SEED = 3126  \n",
    "random.seed(SEED)\n",
    "np.random.seed(SEED)\n",
    "tf.random.set_seed(SEED)"
   ]
  },
  {
   "cell_type": "markdown",
   "id": "75ffb4b2",
   "metadata": {
    "papermill": {
     "duration": 0.0022,
     "end_time": "2025-03-06T04:13:18.438069",
     "exception": false,
     "start_time": "2025-03-06T04:13:18.435869",
     "status": "completed"
    },
    "tags": []
   },
   "source": [
    "# Initialize processes"
   ]
  },
  {
   "cell_type": "code",
   "execution_count": 3,
   "id": "25a74642",
   "metadata": {
    "execution": {
     "iopub.execute_input": "2025-03-06T04:13:18.443300Z",
     "iopub.status.busy": "2025-03-06T04:13:18.443067Z",
     "iopub.status.idle": "2025-03-06T04:13:31.542121Z",
     "shell.execute_reply": "2025-03-06T04:13:31.541453Z"
    },
    "papermill": {
     "duration": 13.103093,
     "end_time": "2025-03-06T04:13:31.543438",
     "exception": false,
     "start_time": "2025-03-06T04:13:18.440345",
     "status": "completed"
    },
    "tags": []
   },
   "outputs": [
    {
     "name": "stdout",
     "output_type": "stream",
     "text": [
      "Found 11225 images belonging to 4 classes.\n",
      "Found 2804 images belonging to 4 classes.\n"
     ]
    }
   ],
   "source": [
    "WIDTH, HEIGHT = 224, 224\n",
    "BATCH_SIZE = 32\n",
    "LEARNING_RATE = .01\n",
    "EPOCHS = 25\n",
    "DIR = \"/kaggle/input/upsampled-astrovision-data\"\n",
    "\n",
    "train_datagen = ImageDataGenerator(\n",
    "    rescale=1./255,\n",
    "    rotation_range=30,\n",
    "    width_shift_range=0.2,\n",
    "    height_shift_range=0.2,\n",
    "    shear_range=0.2,\n",
    "    zoom_range=0.2,\n",
    "    horizontal_flip=True,\n",
    "    fill_mode='nearest',\n",
    "    validation_split=0.2\n",
    ")\n",
    "\n",
    "train_generator = train_datagen.flow_from_directory(\n",
    "    DIR,\n",
    "    target_size=(WIDTH, HEIGHT),\n",
    "    batch_size=BATCH_SIZE,\n",
    "    class_mode='categorical',\n",
    "    subset='training',\n",
    "    seed=SEED  \n",
    ")\n",
    "\n",
    "validation_generator = train_datagen.flow_from_directory(\n",
    "    DIR,\n",
    "    target_size=(WIDTH, HEIGHT),\n",
    "    batch_size=BATCH_SIZE,\n",
    "    class_mode='categorical',\n",
    "    subset='validation',\n",
    "    seed=SEED \n",
    ")"
   ]
  },
  {
   "cell_type": "markdown",
   "id": "86c5afe4",
   "metadata": {
    "papermill": {
     "duration": 0.002229,
     "end_time": "2025-03-06T04:13:31.548355",
     "exception": false,
     "start_time": "2025-03-06T04:13:31.546126",
     "status": "completed"
    },
    "tags": []
   },
   "source": [
    "# Initialize Model"
   ]
  },
  {
   "cell_type": "code",
   "execution_count": 4,
   "id": "c7039f52",
   "metadata": {
    "execution": {
     "iopub.execute_input": "2025-03-06T04:13:31.553998Z",
     "iopub.status.busy": "2025-03-06T04:13:31.553729Z",
     "iopub.status.idle": "2025-03-06T04:13:31.557891Z",
     "shell.execute_reply": "2025-03-06T04:13:31.557311Z"
    },
    "papermill": {
     "duration": 0.008401,
     "end_time": "2025-03-06T04:13:31.559118",
     "exception": false,
     "start_time": "2025-03-06T04:13:31.550717",
     "status": "completed"
    },
    "tags": []
   },
   "outputs": [],
   "source": [
    "def make_dense_layer(input_size, dropout_rate=0.0, input_shape=None):\n",
    "    layers = []\n",
    "    if input_shape:\n",
    "        layers.append(Dense(input_size,\n",
    "                            use_bias=False, \n",
    "                            input_shape=input_shape,\n",
    "                            kernel_initializer=HeNormal()\n",
    "                            ))\n",
    "    else:\n",
    "        layers.append(Dense(input_size, use_bias=False, kernel_initializer=HeNormal()))\n",
    "    layers.extend([BatchNormalization(gamma_initializer=Ones(), beta_initializer=Zeros()),\n",
    "                  ReLU()])\n",
    "    if dropout_rate > 0:\n",
    "        layers.append(Dropout(dropout_rate))\n",
    "    return Sequential(layers)"
   ]
  },
  {
   "cell_type": "code",
   "execution_count": 5,
   "id": "9c991607",
   "metadata": {
    "execution": {
     "iopub.execute_input": "2025-03-06T04:13:31.564527Z",
     "iopub.status.busy": "2025-03-06T04:13:31.564328Z",
     "iopub.status.idle": "2025-03-06T04:13:31.568650Z",
     "shell.execute_reply": "2025-03-06T04:13:31.568099Z"
    },
    "papermill": {
     "duration": 0.008294,
     "end_time": "2025-03-06T04:13:31.569802",
     "exception": false,
     "start_time": "2025-03-06T04:13:31.561508",
     "status": "completed"
    },
    "tags": []
   },
   "outputs": [],
   "source": [
    "def build_model():\n",
    "    base_model = MobileNetV2(weights='imagenet', include_top=False,\n",
    "                             input_shape=(WIDTH, HEIGHT, 3))\n",
    "    base_model.trainable = False\n",
    "    x = base_model.output\n",
    "    x = GlobalAveragePooling2D()(x)\n",
    "\n",
    "    fc_layers = Sequential([\n",
    "        make_dense_layer(1024, input_shape=(x.shape[-1],)),\n",
    "        make_dense_layer(512),\n",
    "        make_dense_layer(256),\n",
    "        make_dense_layer(32),\n",
    "        make_dense_layer(8)\n",
    "    ])\n",
    "    x = fc_layers(x)\n",
    "    predictions = Dense(train_generator.num_classes,\n",
    "                        activation='softmax',\n",
    "                        kernel_initializer=HeNormal())(x)\n",
    "\n",
    "    model = Model(inputs=base_model.input, outputs=predictions)\n",
    "    model.compile(optimizer=Adam(learning_rate=LEARNING_RATE),\n",
    "                 loss='categorical_crossentropy',\n",
    "                 metrics=['accuracy'])   \n",
    "    return model"
   ]
  },
  {
   "cell_type": "markdown",
   "id": "7f07135f",
   "metadata": {
    "papermill": {
     "duration": 0.00211,
     "end_time": "2025-03-06T04:13:31.574225",
     "exception": false,
     "start_time": "2025-03-06T04:13:31.572115",
     "status": "completed"
    },
    "tags": []
   },
   "source": [
    "# Trains Model"
   ]
  },
  {
   "cell_type": "code",
   "execution_count": 6,
   "id": "0e93f17d",
   "metadata": {
    "execution": {
     "iopub.execute_input": "2025-03-06T04:13:31.579533Z",
     "iopub.status.busy": "2025-03-06T04:13:31.579311Z",
     "iopub.status.idle": "2025-03-06T04:13:31.582545Z",
     "shell.execute_reply": "2025-03-06T04:13:31.581989Z"
    },
    "papermill": {
     "duration": 0.007257,
     "end_time": "2025-03-06T04:13:31.583748",
     "exception": false,
     "start_time": "2025-03-06T04:13:31.576491",
     "status": "completed"
    },
    "tags": []
   },
   "outputs": [],
   "source": [
    "class ClearMemory(Callback):\n",
    "    def on_epoch_end(self, epoch, logs=None):\n",
    "        K.clear_session()  \n",
    "        gc.collect() "
   ]
  },
  {
   "cell_type": "code",
   "execution_count": 7,
   "id": "2bbcc780",
   "metadata": {
    "execution": {
     "iopub.execute_input": "2025-03-06T04:13:31.589104Z",
     "iopub.status.busy": "2025-03-06T04:13:31.588845Z",
     "iopub.status.idle": "2025-03-06T04:13:35.953220Z",
     "shell.execute_reply": "2025-03-06T04:13:35.952227Z"
    },
    "papermill": {
     "duration": 4.368481,
     "end_time": "2025-03-06T04:13:35.954541",
     "exception": false,
     "start_time": "2025-03-06T04:13:31.586060",
     "status": "completed"
    },
    "tags": []
   },
   "outputs": [
    {
     "name": "stdout",
     "output_type": "stream",
     "text": [
      "Downloading data from https://storage.googleapis.com/tensorflow/keras-applications/mobilenet_v2/mobilenet_v2_weights_tf_dim_ordering_tf_kernels_1.0_224_no_top.h5\n",
      "\u001b[1m9406464/9406464\u001b[0m \u001b[32m━━━━━━━━━━━━━━━━━━━━\u001b[0m\u001b[37m\u001b[0m \u001b[1m0s\u001b[0m 0us/step\n"
     ]
    },
    {
     "name": "stderr",
     "output_type": "stream",
     "text": [
      "/usr/local/lib/python3.10/dist-packages/keras/src/layers/core/dense.py:87: UserWarning: Do not pass an `input_shape`/`input_dim` argument to a layer. When using Sequential models, prefer using an `Input(shape)` object as the first layer in the model instead.\n",
      "  super().__init__(activity_regularizer=activity_regularizer, **kwargs)\n"
     ]
    }
   ],
   "source": [
    "model = build_model()\n",
    "\n",
    "best_weights_path = \"/kaggle/working/best_weights.weights.h5\"\n",
    "\n",
    "checkpoint_callback = ModelCheckpoint(\n",
    "    filepath=best_weights_path,  # Path to save the model\n",
    "    monitor='val_accuracy',    # Metric to monitor (can also use 'val_loss')\n",
    "    save_best_only=True,       # Save only the best model\n",
    "    save_weights_only=True,    # Save only the weights (not the full model)\n",
    "    mode='max',                # 'max' because higher accuracy is better\n",
    "    verbose=1                  # Print messages when saving the model\n",
    ")\n",
    "\n",
    "early_stopping_callback = EarlyStopping(\n",
    "    monitor='val_loss',  # Metric to monitor\n",
    "    patience=10,              # Number of epochs with no improvement before stopping\n",
    "    mode='min',              # 'max' because higher accuracy is better\n",
    "    min_delta=.001,\n",
    "    restore_best_weights=True,  # Restores the best weights when stopping\n",
    "    verbose=1\n",
    ")"
   ]
  },
  {
   "cell_type": "code",
   "execution_count": 8,
   "id": "e343726e",
   "metadata": {
    "execution": {
     "iopub.execute_input": "2025-03-06T04:13:35.960778Z",
     "iopub.status.busy": "2025-03-06T04:13:35.960540Z",
     "iopub.status.idle": "2025-03-06T05:27:06.415603Z",
     "shell.execute_reply": "2025-03-06T05:27:06.414814Z"
    },
    "papermill": {
     "duration": 4410.459617,
     "end_time": "2025-03-06T05:27:06.416994",
     "exception": false,
     "start_time": "2025-03-06T04:13:35.957377",
     "status": "completed"
    },
    "tags": []
   },
   "outputs": [
    {
     "name": "stdout",
     "output_type": "stream",
     "text": [
      "Epoch 1/25\n"
     ]
    },
    {
     "name": "stderr",
     "output_type": "stream",
     "text": [
      "/usr/local/lib/python3.10/dist-packages/keras/src/trainers/data_adapters/py_dataset_adapter.py:122: UserWarning: Your `PyDataset` class should call `super().__init__(**kwargs)` in its constructor. `**kwargs` can include `workers`, `use_multiprocessing`, `max_queue_size`. Do not pass these arguments to `fit()`, as they will be ignored.\n",
      "  self._warn_if_super_not_called()\n"
     ]
    },
    {
     "name": "stdout",
     "output_type": "stream",
     "text": [
      "\u001b[1m350/351\u001b[0m \u001b[32m━━━━━━━━━━━━━━━━━━━\u001b[0m\u001b[37m━\u001b[0m \u001b[1m0s\u001b[0m 503ms/step - accuracy: 0.6844 - loss: 0.7373\n",
      "Epoch 1: val_accuracy improved from -inf to 0.83024, saving model to /kaggle/working/best_weights.weights.h5\n",
      "\u001b[1m351/351\u001b[0m \u001b[32m━━━━━━━━━━━━━━━━━━━━\u001b[0m\u001b[37m\u001b[0m \u001b[1m245s\u001b[0m 648ms/step - accuracy: 0.6847 - loss: 0.7365 - val_accuracy: 0.8302 - val_loss: 0.4528\n",
      "Epoch 2/25\n",
      "\u001b[1m350/351\u001b[0m \u001b[32m━━━━━━━━━━━━━━━━━━━\u001b[0m\u001b[37m━\u001b[0m \u001b[1m0s\u001b[0m 399ms/step - accuracy: 0.7969 - loss: 0.4706\n",
      "Epoch 2: val_accuracy did not improve from 0.83024\n",
      "\u001b[1m351/351\u001b[0m \u001b[32m━━━━━━━━━━━━━━━━━━━━\u001b[0m\u001b[37m\u001b[0m \u001b[1m178s\u001b[0m 497ms/step - accuracy: 0.7969 - loss: 0.4706 - val_accuracy: 0.7964 - val_loss: 0.4389\n",
      "Epoch 3/25\n",
      "\u001b[1m350/351\u001b[0m \u001b[32m━━━━━━━━━━━━━━━━━━━\u001b[0m\u001b[37m━\u001b[0m \u001b[1m0s\u001b[0m 376ms/step - accuracy: 0.7995 - loss: 0.4518\n",
      "Epoch 3: val_accuracy did not improve from 0.83024\n",
      "\u001b[1m351/351\u001b[0m \u001b[32m━━━━━━━━━━━━━━━━━━━━\u001b[0m\u001b[37m\u001b[0m \u001b[1m169s\u001b[0m 473ms/step - accuracy: 0.7995 - loss: 0.4518 - val_accuracy: 0.8042 - val_loss: 0.4447\n",
      "Epoch 4/25\n",
      "\u001b[1m350/351\u001b[0m \u001b[32m━━━━━━━━━━━━━━━━━━━\u001b[0m\u001b[37m━\u001b[0m \u001b[1m0s\u001b[0m 375ms/step - accuracy: 0.8064 - loss: 0.4309\n",
      "Epoch 4: val_accuracy did not improve from 0.83024\n",
      "\u001b[1m351/351\u001b[0m \u001b[32m━━━━━━━━━━━━━━━━━━━━\u001b[0m\u001b[37m\u001b[0m \u001b[1m169s\u001b[0m 473ms/step - accuracy: 0.8064 - loss: 0.4309 - val_accuracy: 0.7899 - val_loss: 0.4641\n",
      "Epoch 5/25\n",
      "\u001b[1m351/351\u001b[0m \u001b[32m━━━━━━━━━━━━━━━━━━━━\u001b[0m\u001b[37m\u001b[0m \u001b[1m0s\u001b[0m 441ms/step - accuracy: 0.8158 - loss: 0.4188\n",
      "Epoch 5: val_accuracy did not improve from 0.83024\n",
      "\u001b[1m351/351\u001b[0m \u001b[32m━━━━━━━━━━━━━━━━━━━━\u001b[0m\u001b[37m\u001b[0m \u001b[1m192s\u001b[0m 539ms/step - accuracy: 0.8158 - loss: 0.4188 - val_accuracy: 0.8128 - val_loss: 0.4189\n",
      "Epoch 6/25\n",
      "\u001b[1m350/351\u001b[0m \u001b[32m━━━━━━━━━━━━━━━━━━━\u001b[0m\u001b[37m━\u001b[0m \u001b[1m0s\u001b[0m 375ms/step - accuracy: 0.8217 - loss: 0.4013\n",
      "Epoch 6: val_accuracy did not improve from 0.83024\n",
      "\u001b[1m351/351\u001b[0m \u001b[32m━━━━━━━━━━━━━━━━━━━━\u001b[0m\u001b[37m\u001b[0m \u001b[1m170s\u001b[0m 475ms/step - accuracy: 0.8217 - loss: 0.4013 - val_accuracy: 0.8228 - val_loss: 0.4285\n",
      "Epoch 7/25\n",
      "\u001b[1m350/351\u001b[0m \u001b[32m━━━━━━━━━━━━━━━━━━━\u001b[0m\u001b[37m━\u001b[0m \u001b[1m0s\u001b[0m 422ms/step - accuracy: 0.8285 - loss: 0.3911\n",
      "Epoch 7: val_accuracy did not improve from 0.83024\n",
      "\u001b[1m351/351\u001b[0m \u001b[32m━━━━━━━━━━━━━━━━━━━━\u001b[0m\u001b[37m\u001b[0m \u001b[1m190s\u001b[0m 531ms/step - accuracy: 0.8285 - loss: 0.3911 - val_accuracy: 0.8224 - val_loss: 0.4091\n",
      "Epoch 8/25\n",
      "\u001b[1m350/351\u001b[0m \u001b[32m━━━━━━━━━━━━━━━━━━━\u001b[0m\u001b[37m━\u001b[0m \u001b[1m0s\u001b[0m 383ms/step - accuracy: 0.8244 - loss: 0.3864\n",
      "Epoch 8: val_accuracy did not improve from 0.83024\n",
      "\u001b[1m351/351\u001b[0m \u001b[32m━━━━━━━━━━━━━━━━━━━━\u001b[0m\u001b[37m\u001b[0m \u001b[1m173s\u001b[0m 483ms/step - accuracy: 0.8244 - loss: 0.3864 - val_accuracy: 0.8049 - val_loss: 0.4741\n",
      "Epoch 9/25\n",
      "\u001b[1m350/351\u001b[0m \u001b[32m━━━━━━━━━━━━━━━━━━━\u001b[0m\u001b[37m━\u001b[0m \u001b[1m0s\u001b[0m 389ms/step - accuracy: 0.8316 - loss: 0.3853\n",
      "Epoch 9: val_accuracy did not improve from 0.83024\n",
      "\u001b[1m351/351\u001b[0m \u001b[32m━━━━━━━━━━━━━━━━━━━━\u001b[0m\u001b[37m\u001b[0m \u001b[1m174s\u001b[0m 485ms/step - accuracy: 0.8316 - loss: 0.3852 - val_accuracy: 0.8021 - val_loss: 0.4351\n",
      "Epoch 10/25\n",
      "\u001b[1m350/351\u001b[0m \u001b[32m━━━━━━━━━━━━━━━━━━━\u001b[0m\u001b[37m━\u001b[0m \u001b[1m0s\u001b[0m 503ms/step - accuracy: 0.8356 - loss: 0.3730\n",
      "Epoch 10: val_accuracy did not improve from 0.83024\n",
      "\u001b[1m351/351\u001b[0m \u001b[32m━━━━━━━━━━━━━━━━━━━━\u001b[0m\u001b[37m\u001b[0m \u001b[1m227s\u001b[0m 637ms/step - accuracy: 0.8355 - loss: 0.3730 - val_accuracy: 0.8170 - val_loss: 0.4299\n",
      "Epoch 11/25\n",
      "\u001b[1m350/351\u001b[0m \u001b[32m━━━━━━━━━━━━━━━━━━━\u001b[0m\u001b[37m━\u001b[0m \u001b[1m0s\u001b[0m 399ms/step - accuracy: 0.8295 - loss: 0.3711\n",
      "Epoch 11: val_accuracy did not improve from 0.83024\n",
      "\u001b[1m351/351\u001b[0m \u001b[32m━━━━━━━━━━━━━━━━━━━━\u001b[0m\u001b[37m\u001b[0m \u001b[1m184s\u001b[0m 514ms/step - accuracy: 0.8295 - loss: 0.3711 - val_accuracy: 0.7871 - val_loss: 0.4698\n",
      "Epoch 12/25\n",
      "\u001b[1m350/351\u001b[0m \u001b[32m━━━━━━━━━━━━━━━━━━━\u001b[0m\u001b[37m━\u001b[0m \u001b[1m0s\u001b[0m 452ms/step - accuracy: 0.8337 - loss: 0.3645\n",
      "Epoch 12: val_accuracy did not improve from 0.83024\n",
      "\u001b[1m351/351\u001b[0m \u001b[32m━━━━━━━━━━━━━━━━━━━━\u001b[0m\u001b[37m\u001b[0m \u001b[1m200s\u001b[0m 556ms/step - accuracy: 0.8337 - loss: 0.3645 - val_accuracy: 0.8188 - val_loss: 0.4137\n",
      "Epoch 13/25\n",
      "\u001b[1m350/351\u001b[0m \u001b[32m━━━━━━━━━━━━━━━━━━━\u001b[0m\u001b[37m━\u001b[0m \u001b[1m0s\u001b[0m 408ms/step - accuracy: 0.8419 - loss: 0.3639\n",
      "Epoch 13: val_accuracy did not improve from 0.83024\n",
      "\u001b[1m351/351\u001b[0m \u001b[32m━━━━━━━━━━━━━━━━━━━━\u001b[0m\u001b[37m\u001b[0m \u001b[1m182s\u001b[0m 509ms/step - accuracy: 0.8419 - loss: 0.3639 - val_accuracy: 0.8074 - val_loss: 0.4159\n",
      "Epoch 14/25\n",
      "\u001b[1m350/351\u001b[0m \u001b[32m━━━━━━━━━━━━━━━━━━━\u001b[0m\u001b[37m━\u001b[0m \u001b[1m0s\u001b[0m 407ms/step - accuracy: 0.8376 - loss: 0.3627\n",
      "Epoch 14: val_accuracy improved from 0.83024 to 0.83310, saving model to /kaggle/working/best_weights.weights.h5\n",
      "\u001b[1m351/351\u001b[0m \u001b[32m━━━━━━━━━━━━━━━━━━━━\u001b[0m\u001b[37m\u001b[0m \u001b[1m180s\u001b[0m 504ms/step - accuracy: 0.8376 - loss: 0.3627 - val_accuracy: 0.8331 - val_loss: 0.3808\n",
      "Epoch 15/25\n",
      "\u001b[1m350/351\u001b[0m \u001b[32m━━━━━━━━━━━━━━━━━━━\u001b[0m\u001b[37m━\u001b[0m \u001b[1m0s\u001b[0m 374ms/step - accuracy: 0.8491 - loss: 0.3509\n",
      "Epoch 15: val_accuracy did not improve from 0.83310\n",
      "\u001b[1m351/351\u001b[0m \u001b[32m━━━━━━━━━━━━━━━━━━━━\u001b[0m\u001b[37m\u001b[0m \u001b[1m169s\u001b[0m 472ms/step - accuracy: 0.8491 - loss: 0.3510 - val_accuracy: 0.8224 - val_loss: 0.3913\n",
      "Epoch 16/25\n",
      "\u001b[1m350/351\u001b[0m \u001b[32m━━━━━━━━━━━━━━━━━━━\u001b[0m\u001b[37m━\u001b[0m \u001b[1m0s\u001b[0m 406ms/step - accuracy: 0.8425 - loss: 0.3503\n",
      "Epoch 16: val_accuracy did not improve from 0.83310\n",
      "\u001b[1m351/351\u001b[0m \u001b[32m━━━━━━━━━━━━━━━━━━━━\u001b[0m\u001b[37m\u001b[0m \u001b[1m180s\u001b[0m 503ms/step - accuracy: 0.8425 - loss: 0.3503 - val_accuracy: 0.8071 - val_loss: 0.4405\n",
      "Epoch 17/25\n",
      "\u001b[1m350/351\u001b[0m \u001b[32m━━━━━━━━━━━━━━━━━━━\u001b[0m\u001b[37m━\u001b[0m \u001b[1m0s\u001b[0m 379ms/step - accuracy: 0.8456 - loss: 0.3509\n",
      "Epoch 17: val_accuracy did not improve from 0.83310\n",
      "\u001b[1m351/351\u001b[0m \u001b[32m━━━━━━━━━━━━━━━━━━━━\u001b[0m\u001b[37m\u001b[0m \u001b[1m170s\u001b[0m 476ms/step - accuracy: 0.8456 - loss: 0.3509 - val_accuracy: 0.7971 - val_loss: 0.4649\n",
      "Epoch 18/25\n",
      "\u001b[1m350/351\u001b[0m \u001b[32m━━━━━━━━━━━━━━━━━━━\u001b[0m\u001b[37m━\u001b[0m \u001b[1m0s\u001b[0m 399ms/step - accuracy: 0.8449 - loss: 0.3445\n",
      "Epoch 18: val_accuracy did not improve from 0.83310\n",
      "\u001b[1m351/351\u001b[0m \u001b[32m━━━━━━━━━━━━━━━━━━━━\u001b[0m\u001b[37m\u001b[0m \u001b[1m182s\u001b[0m 509ms/step - accuracy: 0.8449 - loss: 0.3445 - val_accuracy: 0.8124 - val_loss: 0.4377\n",
      "Epoch 19/25\n",
      "\u001b[1m350/351\u001b[0m \u001b[32m━━━━━━━━━━━━━━━━━━━\u001b[0m\u001b[37m━\u001b[0m \u001b[1m0s\u001b[0m 389ms/step - accuracy: 0.8456 - loss: 0.3433\n",
      "Epoch 19: val_accuracy did not improve from 0.83310\n",
      "\u001b[1m351/351\u001b[0m \u001b[32m━━━━━━━━━━━━━━━━━━━━\u001b[0m\u001b[37m\u001b[0m \u001b[1m176s\u001b[0m 489ms/step - accuracy: 0.8456 - loss: 0.3433 - val_accuracy: 0.8024 - val_loss: 0.4616\n",
      "Epoch 20/25\n",
      "\u001b[1m350/351\u001b[0m \u001b[32m━━━━━━━━━━━━━━━━━━━\u001b[0m\u001b[37m━\u001b[0m \u001b[1m0s\u001b[0m 384ms/step - accuracy: 0.8518 - loss: 0.3351\n",
      "Epoch 20: val_accuracy did not improve from 0.83310\n",
      "\u001b[1m351/351\u001b[0m \u001b[32m━━━━━━━━━━━━━━━━━━━━\u001b[0m\u001b[37m\u001b[0m \u001b[1m173s\u001b[0m 483ms/step - accuracy: 0.8517 - loss: 0.3351 - val_accuracy: 0.7775 - val_loss: 0.4958\n",
      "Epoch 21/25\n",
      "\u001b[1m350/351\u001b[0m \u001b[32m━━━━━━━━━━━━━━━━━━━\u001b[0m\u001b[37m━\u001b[0m \u001b[1m0s\u001b[0m 387ms/step - accuracy: 0.8426 - loss: 0.3457\n",
      "Epoch 21: val_accuracy did not improve from 0.83310\n",
      "\u001b[1m351/351\u001b[0m \u001b[32m━━━━━━━━━━━━━━━━━━━━\u001b[0m\u001b[37m\u001b[0m \u001b[1m173s\u001b[0m 483ms/step - accuracy: 0.8426 - loss: 0.3457 - val_accuracy: 0.8128 - val_loss: 0.4353\n",
      "Epoch 22/25\n",
      "\u001b[1m350/351\u001b[0m \u001b[32m━━━━━━━━━━━━━━━━━━━\u001b[0m\u001b[37m━\u001b[0m \u001b[1m0s\u001b[0m 377ms/step - accuracy: 0.8512 - loss: 0.3446\n",
      "Epoch 22: val_accuracy did not improve from 0.83310\n",
      "\u001b[1m351/351\u001b[0m \u001b[32m━━━━━━━━━━━━━━━━━━━━\u001b[0m\u001b[37m\u001b[0m \u001b[1m169s\u001b[0m 473ms/step - accuracy: 0.8512 - loss: 0.3445 - val_accuracy: 0.8039 - val_loss: 0.5010\n",
      "Epoch 23/25\n",
      "\u001b[1m350/351\u001b[0m \u001b[32m━━━━━━━━━━━━━━━━━━━\u001b[0m\u001b[37m━\u001b[0m \u001b[1m0s\u001b[0m 381ms/step - accuracy: 0.8485 - loss: 0.3501\n",
      "Epoch 23: val_accuracy did not improve from 0.83310\n",
      "\u001b[1m351/351\u001b[0m \u001b[32m━━━━━━━━━━━━━━━━━━━━\u001b[0m\u001b[37m\u001b[0m \u001b[1m172s\u001b[0m 480ms/step - accuracy: 0.8486 - loss: 0.3500 - val_accuracy: 0.8006 - val_loss: 0.4470\n",
      "Epoch 24/25\n",
      "\u001b[1m350/351\u001b[0m \u001b[32m━━━━━━━━━━━━━━━━━━━\u001b[0m\u001b[37m━\u001b[0m \u001b[1m0s\u001b[0m 396ms/step - accuracy: 0.8580 - loss: 0.3226\n",
      "Epoch 24: val_accuracy did not improve from 0.83310\n",
      "\u001b[1m351/351\u001b[0m \u001b[32m━━━━━━━━━━━━━━━━━━━━\u001b[0m\u001b[37m\u001b[0m \u001b[1m177s\u001b[0m 494ms/step - accuracy: 0.8580 - loss: 0.3226 - val_accuracy: 0.8003 - val_loss: 0.4616\n",
      "Epoch 24: early stopping\n",
      "Restoring model weights from the end of the best epoch: 14.\n",
      "\u001b[1m87/87\u001b[0m \u001b[32m━━━━━━━━━━━━━━━━━━━━\u001b[0m\u001b[37m\u001b[0m \u001b[1m34s\u001b[0m 385ms/step - accuracy: 0.8268 - loss: 0.4082\n",
      "Test Accuracy Before Fine-tuning: 82.72%\n"
     ]
    }
   ],
   "source": [
    "history = model.fit(\n",
    "    train_generator,\n",
    "    epochs=EPOCHS,\n",
    "    validation_data=validation_generator,\n",
    "    callbacks=[checkpoint_callback, early_stopping_callback, ClearMemory()]\n",
    ")\n",
    "\n",
    "initial_test_loss, initial_test_acc = model.evaluate(validation_generator, \n",
    "                                                     steps=validation_generator.samples // BATCH_SIZE)\n",
    "\n",
    "print(f\"Test Accuracy Before Fine-tuning: {initial_test_acc*100:.2f}%\")"
   ]
  }
 ],
 "metadata": {
  "kaggle": {
   "accelerator": "nvidiaTeslaT4",
   "dataSources": [
    {
     "datasetId": 6800457,
     "sourceId": 10935782,
     "sourceType": "datasetVersion"
    }
   ],
   "dockerImageVersionId": 30919,
   "isGpuEnabled": true,
   "isInternetEnabled": true,
   "language": "python",
   "sourceType": "notebook"
  },
  "kernelspec": {
   "display_name": "Python 3",
   "language": "python",
   "name": "python3"
  },
  "language_info": {
   "codemirror_mode": {
    "name": "ipython",
    "version": 3
   },
   "file_extension": ".py",
   "mimetype": "text/x-python",
   "name": "python",
   "nbconvert_exporter": "python",
   "pygments_lexer": "ipython3",
   "version": "3.10.12"
  },
  "papermill": {
   "default_parameters": {},
   "duration": 4455.372419,
   "end_time": "2025-03-06T05:27:11.096133",
   "environment_variables": {},
   "exception": null,
   "input_path": "__notebook__.ipynb",
   "output_path": "__notebook__.ipynb",
   "parameters": {},
   "start_time": "2025-03-06T04:12:55.723714",
   "version": "2.6.0"
  }
 },
 "nbformat": 4,
 "nbformat_minor": 5
}
