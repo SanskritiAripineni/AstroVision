{
 "cells": [
  {
   "cell_type": "code",
   "execution_count": 1,
   "id": "3b034820",
   "metadata": {
    "_cell_guid": "b1076dfc-b9ad-4769-8c92-a6c4dae69d19",
    "_uuid": "8f2839f25d086af736a60e9eeb907d3b93b6e0e5",
    "execution": {
     "iopub.execute_input": "2025-03-09T02:11:20.277499Z",
     "iopub.status.busy": "2025-03-09T02:11:20.277194Z",
     "iopub.status.idle": "2025-03-09T02:11:33.702993Z",
     "shell.execute_reply": "2025-03-09T02:11:33.702051Z"
    },
    "papermill": {
     "duration": 13.430698,
     "end_time": "2025-03-09T02:11:33.704618",
     "exception": false,
     "start_time": "2025-03-09T02:11:20.273920",
     "status": "completed"
    },
    "tags": []
   },
   "outputs": [],
   "source": [
    "import numpy as np\n",
    "import matplotlib.pyplot as plt\n",
    "import seaborn as sea\n",
    "import tensorflow as tf\n",
    "import random\n",
    "import gc\n",
    "\n",
    "import tensorflow.keras.backend as K\n",
    "from tensorflow.keras.callbacks import Callback\n",
    "from tensorflow.keras.preprocessing.image import ImageDataGenerator\n",
    "from tensorflow.keras.applications import MobileNetV2\n",
    "from tensorflow.keras.models import Model, Sequential\n",
    "from tensorflow.keras.layers import Dense, GlobalAveragePooling2D, ReLU, BatchNormalization\n",
    "from tensorflow.keras.initializers import HeNormal, Ones, Constant\n",
    "from tensorflow.keras.optimizers import Adam\n",
    "from tensorflow.keras.callbacks import ModelCheckpoint, EarlyStopping\n",
    "\n",
    "import warnings\n",
    "warnings.filterwarnings(\"ignore\")"
   ]
  },
  {
   "cell_type": "code",
   "execution_count": 2,
   "id": "9b30eb91",
   "metadata": {
    "execution": {
     "iopub.execute_input": "2025-03-09T02:11:33.709946Z",
     "iopub.status.busy": "2025-03-09T02:11:33.709422Z",
     "iopub.status.idle": "2025-03-09T02:11:33.713440Z",
     "shell.execute_reply": "2025-03-09T02:11:33.712625Z"
    },
    "papermill": {
     "duration": 0.007582,
     "end_time": "2025-03-09T02:11:33.714618",
     "exception": false,
     "start_time": "2025-03-09T02:11:33.707036",
     "status": "completed"
    },
    "tags": []
   },
   "outputs": [],
   "source": [
    "SEED = 3126  \n",
    "random.seed(SEED)\n",
    "np.random.seed(SEED)\n",
    "tf.random.set_seed(SEED)"
   ]
  },
  {
   "cell_type": "code",
   "execution_count": 3,
   "id": "c4e541b6",
   "metadata": {
    "execution": {
     "iopub.execute_input": "2025-03-09T02:11:33.719073Z",
     "iopub.status.busy": "2025-03-09T02:11:33.718851Z",
     "iopub.status.idle": "2025-03-09T02:11:37.970386Z",
     "shell.execute_reply": "2025-03-09T02:11:37.969708Z"
    },
    "papermill": {
     "duration": 4.25527,
     "end_time": "2025-03-09T02:11:37.971735",
     "exception": false,
     "start_time": "2025-03-09T02:11:33.716465",
     "status": "completed"
    },
    "tags": []
   },
   "outputs": [
    {
     "name": "stdout",
     "output_type": "stream",
     "text": [
      "Found 4913 images belonging to 4 classes.\n",
      "Found 1228 images belonging to 4 classes.\n"
     ]
    }
   ],
   "source": [
    "WIDTH, HEIGHT = 224, 224\n",
    "BATCH_SIZE = 32\n",
    "LEARNING_RATE = .01\n",
    "EPOCHS = 100\n",
    "DIR = \"/kaggle/input/finalized-astrovision-data\"\n",
    "\n",
    "train_datagen = ImageDataGenerator(\n",
    "    rescale=1./255,\n",
    "    rotation_range=30,\n",
    "    width_shift_range=0.1,\n",
    "    height_shift_range=0.1,\n",
    "    shear_range=0.2,\n",
    "    zoom_range=0.2,\n",
    "    horizontal_flip=True,\n",
    "    fill_mode='nearest',\n",
    "    validation_split=0.2\n",
    ")\n",
    "\n",
    "train_generator = train_datagen.flow_from_directory(\n",
    "    DIR,\n",
    "    target_size=(WIDTH, HEIGHT),\n",
    "    batch_size=BATCH_SIZE,\n",
    "    class_mode='categorical',\n",
    "    subset='training',\n",
    "    seed=SEED  \n",
    ")\n",
    "\n",
    "validation_generator = train_datagen.flow_from_directory(\n",
    "    DIR,\n",
    "    target_size=(WIDTH, HEIGHT),\n",
    "    batch_size=BATCH_SIZE,\n",
    "    class_mode='categorical',\n",
    "    subset='validation',\n",
    "    seed=SEED \n",
    ")"
   ]
  },
  {
   "cell_type": "code",
   "execution_count": 4,
   "id": "9b4c9e31",
   "metadata": {
    "execution": {
     "iopub.execute_input": "2025-03-09T02:11:37.977037Z",
     "iopub.status.busy": "2025-03-09T02:11:37.976670Z",
     "iopub.status.idle": "2025-03-09T02:11:37.981327Z",
     "shell.execute_reply": "2025-03-09T02:11:37.980666Z"
    },
    "papermill": {
     "duration": 0.008581,
     "end_time": "2025-03-09T02:11:37.982540",
     "exception": false,
     "start_time": "2025-03-09T02:11:37.973959",
     "status": "completed"
    },
    "tags": []
   },
   "outputs": [],
   "source": [
    "def make_dense_layer(input_size, dropout_rate=0.0, input_shape=None):\n",
    "    layers = []\n",
    "    if input_shape:\n",
    "        layers.append(Dense(input_size,\n",
    "                            use_bias=False, \n",
    "                            input_shape=input_shape,\n",
    "                            kernel_initializer=HeNormal()\n",
    "                            ))\n",
    "    else:\n",
    "        layers.append(Dense(input_size, use_bias=False, kernel_initializer=HeNormal()))\n",
    "    layers.extend([BatchNormalization(gamma_initializer=Ones(), beta_initializer=Constant(0.25)),\n",
    "                  ReLU()])\n",
    "    if dropout_rate > 0:\n",
    "        layers.append(Dropout(dropout_rate))\n",
    "    return Sequential(layers)"
   ]
  },
  {
   "cell_type": "code",
   "execution_count": 5,
   "id": "3ee1d81f",
   "metadata": {
    "execution": {
     "iopub.execute_input": "2025-03-09T02:11:37.987230Z",
     "iopub.status.busy": "2025-03-09T02:11:37.987020Z",
     "iopub.status.idle": "2025-03-09T02:11:37.991638Z",
     "shell.execute_reply": "2025-03-09T02:11:37.991022Z"
    },
    "papermill": {
     "duration": 0.008345,
     "end_time": "2025-03-09T02:11:37.992864",
     "exception": false,
     "start_time": "2025-03-09T02:11:37.984519",
     "status": "completed"
    },
    "tags": []
   },
   "outputs": [],
   "source": [
    "def build_model():\n",
    "    base_model = MobileNetV2(weights='imagenet', include_top=False,\n",
    "                             input_shape=(WIDTH, HEIGHT, 3))\n",
    "    base_model.trainable = True\n",
    "    for layer in base_model.layers[5:]:  \n",
    "        layer.trainable = False\n",
    "        \n",
    "    x = base_model.output\n",
    "    x = GlobalAveragePooling2D()(x)\n",
    "\n",
    "    fc_layers = Sequential([\n",
    "        make_dense_layer(1024, input_shape=(x.shape[-1],)),\n",
    "        make_dense_layer(8)\n",
    "    ])\n",
    "    x = fc_layers(x)\n",
    "    predictions = Dense(train_generator.num_classes,\n",
    "                        activation='softmax',\n",
    "                        kernel_initializer=HeNormal())(x)\n",
    "\n",
    "    model = Model(inputs=base_model.input, outputs=predictions)\n",
    "    model.compile(optimizer=Adam(learning_rate=LEARNING_RATE),\n",
    "                 loss='categorical_crossentropy',\n",
    "                 metrics=['accuracy'])   \n",
    "    return model"
   ]
  },
  {
   "cell_type": "code",
   "execution_count": 6,
   "id": "35ec31bd",
   "metadata": {
    "execution": {
     "iopub.execute_input": "2025-03-09T02:11:37.997346Z",
     "iopub.status.busy": "2025-03-09T02:11:37.997148Z",
     "iopub.status.idle": "2025-03-09T02:11:38.000215Z",
     "shell.execute_reply": "2025-03-09T02:11:37.999622Z"
    },
    "papermill": {
     "duration": 0.006467,
     "end_time": "2025-03-09T02:11:38.001297",
     "exception": false,
     "start_time": "2025-03-09T02:11:37.994830",
     "status": "completed"
    },
    "tags": []
   },
   "outputs": [],
   "source": [
    "class ClearMemory(Callback):\n",
    "    def on_epoch_end(self, epoch, logs=None):\n",
    "        K.clear_session()  \n",
    "        gc.collect() "
   ]
  },
  {
   "cell_type": "code",
   "execution_count": 7,
   "id": "d44c655e",
   "metadata": {
    "execution": {
     "iopub.execute_input": "2025-03-09T02:11:38.005953Z",
     "iopub.status.busy": "2025-03-09T02:11:38.005727Z",
     "iopub.status.idle": "2025-03-09T02:11:41.895663Z",
     "shell.execute_reply": "2025-03-09T02:11:41.894984Z"
    },
    "papermill": {
     "duration": 3.894122,
     "end_time": "2025-03-09T02:11:41.897426",
     "exception": false,
     "start_time": "2025-03-09T02:11:38.003304",
     "status": "completed"
    },
    "tags": []
   },
   "outputs": [
    {
     "name": "stdout",
     "output_type": "stream",
     "text": [
      "Downloading data from https://storage.googleapis.com/tensorflow/keras-applications/mobilenet_v2/mobilenet_v2_weights_tf_dim_ordering_tf_kernels_1.0_224_no_top.h5\n",
      "\u001b[1m9406464/9406464\u001b[0m \u001b[32m━━━━━━━━━━━━━━━━━━━━\u001b[0m\u001b[37m\u001b[0m \u001b[1m0s\u001b[0m 0us/step\n"
     ]
    }
   ],
   "source": [
    "model = build_model()\n",
    "model.load_weights(\"/kaggle/input/baseline-tf-model-2-hidden/best_weights.weights.h5\")\n",
    "\n",
    "best_weights_path = \"/kaggle/working/best_weights.weights.h5\"\n",
    "\n",
    "checkpoint_callback = ModelCheckpoint(\n",
    "    filepath=best_weights_path,  \n",
    "    monitor='val_accuracy',    \n",
    "    save_best_only=True,       \n",
    "    save_weights_only=True,    \n",
    "    mode='max',                \n",
    "    verbose=1                  \n",
    ")\n",
    "\n",
    "early_stopping_callback = EarlyStopping(\n",
    "    monitor='val_loss',  \n",
    "    patience=10,              \n",
    "    mode='min',              \n",
    "    min_delta=.001,\n",
    "    restore_best_weights=True,  \n",
    "    verbose=1\n",
    ")"
   ]
  },
  {
   "cell_type": "code",
   "execution_count": 8,
   "id": "4512db87",
   "metadata": {
    "execution": {
     "iopub.execute_input": "2025-03-09T02:11:41.903390Z",
     "iopub.status.busy": "2025-03-09T02:11:41.903158Z",
     "iopub.status.idle": "2025-03-09T02:38:16.792483Z",
     "shell.execute_reply": "2025-03-09T02:38:16.791503Z"
    },
    "papermill": {
     "duration": 1594.893681,
     "end_time": "2025-03-09T02:38:16.793931",
     "exception": false,
     "start_time": "2025-03-09T02:11:41.900250",
     "status": "completed"
    },
    "tags": []
   },
   "outputs": [
    {
     "name": "stdout",
     "output_type": "stream",
     "text": [
      "Epoch 1/100\n",
      "\u001b[1m154/154\u001b[0m \u001b[32m━━━━━━━━━━━━━━━━━━━━\u001b[0m\u001b[37m\u001b[0m \u001b[1m0s\u001b[0m 471ms/step - accuracy: 0.7543 - loss: 0.5758\n",
      "Epoch 1: val_accuracy improved from -inf to 0.58388, saving model to /kaggle/working/best_weights.weights.h5\n",
      "\u001b[1m154/154\u001b[0m \u001b[32m━━━━━━━━━━━━━━━━━━━━\u001b[0m\u001b[37m\u001b[0m \u001b[1m115s\u001b[0m 633ms/step - accuracy: 0.7544 - loss: 0.5754 - val_accuracy: 0.5839 - val_loss: 1.2203\n",
      "Epoch 2/100\n",
      "\u001b[1m154/154\u001b[0m \u001b[32m━━━━━━━━━━━━━━━━━━━━\u001b[0m\u001b[37m\u001b[0m \u001b[1m0s\u001b[0m 357ms/step - accuracy: 0.7941 - loss: 0.4566\n",
      "Epoch 2: val_accuracy improved from 0.58388 to 0.62866, saving model to /kaggle/working/best_weights.weights.h5\n",
      "\u001b[1m154/154\u001b[0m \u001b[32m━━━━━━━━━━━━━━━━━━━━\u001b[0m\u001b[37m\u001b[0m \u001b[1m74s\u001b[0m 459ms/step - accuracy: 0.7941 - loss: 0.4565 - val_accuracy: 0.6287 - val_loss: 0.9974\n",
      "Epoch 3/100\n",
      "\u001b[1m154/154\u001b[0m \u001b[32m━━━━━━━━━━━━━━━━━━━━\u001b[0m\u001b[37m\u001b[0m \u001b[1m0s\u001b[0m 357ms/step - accuracy: 0.7946 - loss: 0.4499\n",
      "Epoch 3: val_accuracy did not improve from 0.62866\n",
      "\u001b[1m154/154\u001b[0m \u001b[32m━━━━━━━━━━━━━━━━━━━━\u001b[0m\u001b[37m\u001b[0m \u001b[1m73s\u001b[0m 455ms/step - accuracy: 0.7947 - loss: 0.4498 - val_accuracy: 0.5375 - val_loss: 1.0883\n",
      "Epoch 4/100\n",
      "\u001b[1m154/154\u001b[0m \u001b[32m━━━━━━━━━━━━━━━━━━━━\u001b[0m\u001b[37m\u001b[0m \u001b[1m0s\u001b[0m 358ms/step - accuracy: 0.8199 - loss: 0.4028\n",
      "Epoch 4: val_accuracy did not improve from 0.62866\n",
      "\u001b[1m154/154\u001b[0m \u001b[32m━━━━━━━━━━━━━━━━━━━━\u001b[0m\u001b[37m\u001b[0m \u001b[1m73s\u001b[0m 454ms/step - accuracy: 0.8199 - loss: 0.4027 - val_accuracy: 0.5285 - val_loss: 0.9984\n",
      "Epoch 5/100\n",
      "\u001b[1m154/154\u001b[0m \u001b[32m━━━━━━━━━━━━━━━━━━━━\u001b[0m\u001b[37m\u001b[0m \u001b[1m0s\u001b[0m 359ms/step - accuracy: 0.8378 - loss: 0.3618\n",
      "Epoch 5: val_accuracy improved from 0.62866 to 0.66612, saving model to /kaggle/working/best_weights.weights.h5\n",
      "\u001b[1m154/154\u001b[0m \u001b[32m━━━━━━━━━━━━━━━━━━━━\u001b[0m\u001b[37m\u001b[0m \u001b[1m74s\u001b[0m 458ms/step - accuracy: 0.8377 - loss: 0.3619 - val_accuracy: 0.6661 - val_loss: 0.6513\n",
      "Epoch 6/100\n",
      "\u001b[1m154/154\u001b[0m \u001b[32m━━━━━━━━━━━━━━━━━━━━\u001b[0m\u001b[37m\u001b[0m \u001b[1m0s\u001b[0m 355ms/step - accuracy: 0.8328 - loss: 0.3804\n",
      "Epoch 6: val_accuracy improved from 0.66612 to 0.72313, saving model to /kaggle/working/best_weights.weights.h5\n",
      "\u001b[1m154/154\u001b[0m \u001b[32m━━━━━━━━━━━━━━━━━━━━\u001b[0m\u001b[37m\u001b[0m \u001b[1m74s\u001b[0m 457ms/step - accuracy: 0.8328 - loss: 0.3804 - val_accuracy: 0.7231 - val_loss: 0.6517\n",
      "Epoch 7/100\n",
      "\u001b[1m154/154\u001b[0m \u001b[32m━━━━━━━━━━━━━━━━━━━━\u001b[0m\u001b[37m\u001b[0m \u001b[1m0s\u001b[0m 354ms/step - accuracy: 0.8386 - loss: 0.3664\n",
      "Epoch 7: val_accuracy did not improve from 0.72313\n",
      "\u001b[1m154/154\u001b[0m \u001b[32m━━━━━━━━━━━━━━━━━━━━\u001b[0m\u001b[37m\u001b[0m \u001b[1m73s\u001b[0m 453ms/step - accuracy: 0.8386 - loss: 0.3664 - val_accuracy: 0.7068 - val_loss: 0.6041\n",
      "Epoch 8/100\n",
      "\u001b[1m154/154\u001b[0m \u001b[32m━━━━━━━━━━━━━━━━━━━━\u001b[0m\u001b[37m\u001b[0m \u001b[1m0s\u001b[0m 354ms/step - accuracy: 0.8383 - loss: 0.3580\n",
      "Epoch 8: val_accuracy did not improve from 0.72313\n",
      "\u001b[1m154/154\u001b[0m \u001b[32m━━━━━━━━━━━━━━━━━━━━\u001b[0m\u001b[37m\u001b[0m \u001b[1m73s\u001b[0m 450ms/step - accuracy: 0.8383 - loss: 0.3580 - val_accuracy: 0.7134 - val_loss: 0.7406\n",
      "Epoch 9/100\n",
      "\u001b[1m154/154\u001b[0m \u001b[32m━━━━━━━━━━━━━━━━━━━━\u001b[0m\u001b[37m\u001b[0m \u001b[1m0s\u001b[0m 356ms/step - accuracy: 0.8353 - loss: 0.3779\n",
      "Epoch 9: val_accuracy improved from 0.72313 to 0.81433, saving model to /kaggle/working/best_weights.weights.h5\n",
      "\u001b[1m154/154\u001b[0m \u001b[32m━━━━━━━━━━━━━━━━━━━━\u001b[0m\u001b[37m\u001b[0m \u001b[1m74s\u001b[0m 459ms/step - accuracy: 0.8353 - loss: 0.3779 - val_accuracy: 0.8143 - val_loss: 0.3979\n",
      "Epoch 10/100\n",
      "\u001b[1m154/154\u001b[0m \u001b[32m━━━━━━━━━━━━━━━━━━━━\u001b[0m\u001b[37m\u001b[0m \u001b[1m0s\u001b[0m 357ms/step - accuracy: 0.8397 - loss: 0.3579\n",
      "Epoch 10: val_accuracy did not improve from 0.81433\n",
      "\u001b[1m154/154\u001b[0m \u001b[32m━━━━━━━━━━━━━━━━━━━━\u001b[0m\u001b[37m\u001b[0m \u001b[1m73s\u001b[0m 455ms/step - accuracy: 0.8397 - loss: 0.3579 - val_accuracy: 0.7948 - val_loss: 0.4073\n",
      "Epoch 11/100\n",
      "\u001b[1m154/154\u001b[0m \u001b[32m━━━━━━━━━━━━━━━━━━━━\u001b[0m\u001b[37m\u001b[0m \u001b[1m0s\u001b[0m 355ms/step - accuracy: 0.8434 - loss: 0.3450\n",
      "Epoch 11: val_accuracy improved from 0.81433 to 0.82736, saving model to /kaggle/working/best_weights.weights.h5\n",
      "\u001b[1m154/154\u001b[0m \u001b[32m━━━━━━━━━━━━━━━━━━━━\u001b[0m\u001b[37m\u001b[0m \u001b[1m73s\u001b[0m 454ms/step - accuracy: 0.8434 - loss: 0.3451 - val_accuracy: 0.8274 - val_loss: 0.3588\n",
      "Epoch 12/100\n",
      "\u001b[1m154/154\u001b[0m \u001b[32m━━━━━━━━━━━━━━━━━━━━\u001b[0m\u001b[37m\u001b[0m \u001b[1m0s\u001b[0m 352ms/step - accuracy: 0.8482 - loss: 0.3518\n",
      "Epoch 12: val_accuracy did not improve from 0.82736\n",
      "\u001b[1m154/154\u001b[0m \u001b[32m━━━━━━━━━━━━━━━━━━━━\u001b[0m\u001b[37m\u001b[0m \u001b[1m73s\u001b[0m 450ms/step - accuracy: 0.8482 - loss: 0.3517 - val_accuracy: 0.8013 - val_loss: 0.4205\n",
      "Epoch 13/100\n",
      "\u001b[1m154/154\u001b[0m \u001b[32m━━━━━━━━━━━━━━━━━━━━\u001b[0m\u001b[37m\u001b[0m \u001b[1m0s\u001b[0m 353ms/step - accuracy: 0.8462 - loss: 0.3446\n",
      "Epoch 13: val_accuracy did not improve from 0.82736\n",
      "\u001b[1m154/154\u001b[0m \u001b[32m━━━━━━━━━━━━━━━━━━━━\u001b[0m\u001b[37m\u001b[0m \u001b[1m72s\u001b[0m 449ms/step - accuracy: 0.8462 - loss: 0.3446 - val_accuracy: 0.7638 - val_loss: 0.5572\n",
      "Epoch 14/100\n",
      "\u001b[1m154/154\u001b[0m \u001b[32m━━━━━━━━━━━━━━━━━━━━\u001b[0m\u001b[37m\u001b[0m \u001b[1m0s\u001b[0m 354ms/step - accuracy: 0.8521 - loss: 0.3354\n",
      "Epoch 14: val_accuracy did not improve from 0.82736\n",
      "\u001b[1m154/154\u001b[0m \u001b[32m━━━━━━━━━━━━━━━━━━━━\u001b[0m\u001b[37m\u001b[0m \u001b[1m72s\u001b[0m 450ms/step - accuracy: 0.8521 - loss: 0.3355 - val_accuracy: 0.7858 - val_loss: 0.4569\n",
      "Epoch 15/100\n",
      "\u001b[1m154/154\u001b[0m \u001b[32m━━━━━━━━━━━━━━━━━━━━\u001b[0m\u001b[37m\u001b[0m \u001b[1m0s\u001b[0m 354ms/step - accuracy: 0.8470 - loss: 0.3352\n",
      "Epoch 15: val_accuracy did not improve from 0.82736\n",
      "\u001b[1m154/154\u001b[0m \u001b[32m━━━━━━━━━━━━━━━━━━━━\u001b[0m\u001b[37m\u001b[0m \u001b[1m73s\u001b[0m 453ms/step - accuracy: 0.8470 - loss: 0.3352 - val_accuracy: 0.8094 - val_loss: 0.3951\n",
      "Epoch 16/100\n",
      "\u001b[1m154/154\u001b[0m \u001b[32m━━━━━━━━━━━━━━━━━━━━\u001b[0m\u001b[37m\u001b[0m \u001b[1m0s\u001b[0m 353ms/step - accuracy: 0.8492 - loss: 0.3274\n",
      "Epoch 16: val_accuracy did not improve from 0.82736\n",
      "\u001b[1m154/154\u001b[0m \u001b[32m━━━━━━━━━━━━━━━━━━━━\u001b[0m\u001b[37m\u001b[0m \u001b[1m73s\u001b[0m 452ms/step - accuracy: 0.8492 - loss: 0.3274 - val_accuracy: 0.8225 - val_loss: 0.3719\n",
      "Epoch 17/100\n",
      "\u001b[1m154/154\u001b[0m \u001b[32m━━━━━━━━━━━━━━━━━━━━\u001b[0m\u001b[37m\u001b[0m \u001b[1m0s\u001b[0m 355ms/step - accuracy: 0.8532 - loss: 0.3320\n",
      "Epoch 17: val_accuracy did not improve from 0.82736\n",
      "\u001b[1m154/154\u001b[0m \u001b[32m━━━━━━━━━━━━━━━━━━━━\u001b[0m\u001b[37m\u001b[0m \u001b[1m73s\u001b[0m 451ms/step - accuracy: 0.8532 - loss: 0.3321 - val_accuracy: 0.8135 - val_loss: 0.3864\n",
      "Epoch 18/100\n",
      "\u001b[1m154/154\u001b[0m \u001b[32m━━━━━━━━━━━━━━━━━━━━\u001b[0m\u001b[37m\u001b[0m \u001b[1m0s\u001b[0m 356ms/step - accuracy: 0.8554 - loss: 0.3382\n",
      "Epoch 18: val_accuracy did not improve from 0.82736\n",
      "\u001b[1m154/154\u001b[0m \u001b[32m━━━━━━━━━━━━━━━━━━━━\u001b[0m\u001b[37m\u001b[0m \u001b[1m73s\u001b[0m 454ms/step - accuracy: 0.8554 - loss: 0.3382 - val_accuracy: 0.7948 - val_loss: 0.4046\n",
      "Epoch 19/100\n",
      "\u001b[1m154/154\u001b[0m \u001b[32m━━━━━━━━━━━━━━━━━━━━\u001b[0m\u001b[37m\u001b[0m \u001b[1m0s\u001b[0m 355ms/step - accuracy: 0.8650 - loss: 0.3057\n",
      "Epoch 19: val_accuracy did not improve from 0.82736\n",
      "\u001b[1m154/154\u001b[0m \u001b[32m━━━━━━━━━━━━━━━━━━━━\u001b[0m\u001b[37m\u001b[0m \u001b[1m73s\u001b[0m 453ms/step - accuracy: 0.8650 - loss: 0.3058 - val_accuracy: 0.7435 - val_loss: 0.6591\n",
      "Epoch 20/100\n",
      "\u001b[1m154/154\u001b[0m \u001b[32m━━━━━━━━━━━━━━━━━━━━\u001b[0m\u001b[37m\u001b[0m \u001b[1m0s\u001b[0m 357ms/step - accuracy: 0.8453 - loss: 0.3214\n",
      "Epoch 20: val_accuracy did not improve from 0.82736\n",
      "\u001b[1m154/154\u001b[0m \u001b[32m━━━━━━━━━━━━━━━━━━━━\u001b[0m\u001b[37m\u001b[0m \u001b[1m73s\u001b[0m 454ms/step - accuracy: 0.8454 - loss: 0.3213 - val_accuracy: 0.7565 - val_loss: 0.5397\n",
      "Epoch 21/100\n",
      "\u001b[1m154/154\u001b[0m \u001b[32m━━━━━━━━━━━━━━━━━━━━\u001b[0m\u001b[37m\u001b[0m \u001b[1m0s\u001b[0m 355ms/step - accuracy: 0.8580 - loss: 0.3290\n",
      "Epoch 21: val_accuracy did not improve from 0.82736\n",
      "\u001b[1m154/154\u001b[0m \u001b[32m━━━━━━━━━━━━━━━━━━━━\u001b[0m\u001b[37m\u001b[0m \u001b[1m73s\u001b[0m 454ms/step - accuracy: 0.8580 - loss: 0.3290 - val_accuracy: 0.7923 - val_loss: 0.4059\n",
      "Epoch 21: early stopping\n",
      "Restoring model weights from the end of the best epoch: 11.\n",
      "\u001b[1m38/38\u001b[0m \u001b[32m━━━━━━━━━━━━━━━━━━━━\u001b[0m\u001b[37m\u001b[0m \u001b[1m14s\u001b[0m 369ms/step - accuracy: 0.8022 - loss: 0.3962\n",
      "Test Accuracy Before Fine-tuning: 81.25%\n"
     ]
    }
   ],
   "source": [
    "history = model.fit(\n",
    "    train_generator,\n",
    "    epochs=EPOCHS,\n",
    "    validation_data=validation_generator,\n",
    "    callbacks=[checkpoint_callback, early_stopping_callback, ClearMemory()]\n",
    ")\n",
    "\n",
    "initial_test_loss, initial_test_acc = model.evaluate(validation_generator, \n",
    "                                                     steps=validation_generator.samples // BATCH_SIZE)\n",
    "\n",
    "print(f\"Test Accuracy Before Fine-tuning: {initial_test_acc*100:.2f}%\")"
   ]
  }
 ],
 "metadata": {
  "kaggle": {
   "accelerator": "nvidiaTeslaT4",
   "dataSources": [
    {
     "datasetId": 6807513,
     "sourceId": 10945047,
     "sourceType": "datasetVersion"
    },
    {
     "sourceId": 226199528,
     "sourceType": "kernelVersion"
    }
   ],
   "dockerImageVersionId": 30919,
   "isGpuEnabled": true,
   "isInternetEnabled": true,
   "language": "python",
   "sourceType": "notebook"
  },
  "kernelspec": {
   "display_name": "Python 3",
   "language": "python",
   "name": "python3"
  },
  "language_info": {
   "codemirror_mode": {
    "name": "ipython",
    "version": 3
   },
   "file_extension": ".py",
   "mimetype": "text/x-python",
   "name": "python",
   "nbconvert_exporter": "python",
   "pygments_lexer": "ipython3",
   "version": "3.10.12"
  },
  "papermill": {
   "default_parameters": {},
   "duration": 1621.465701,
   "end_time": "2025-03-09T02:38:19.177129",
   "environment_variables": {},
   "exception": null,
   "input_path": "__notebook__.ipynb",
   "output_path": "__notebook__.ipynb",
   "parameters": {},
   "start_time": "2025-03-09T02:11:17.711428",
   "version": "2.6.0"
  }
 },
 "nbformat": 4,
 "nbformat_minor": 5
}
