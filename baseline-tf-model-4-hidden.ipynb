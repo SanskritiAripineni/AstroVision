{
 "cells": [
  {
   "cell_type": "code",
   "execution_count": 1,
   "id": "935b0e55",
   "metadata": {
    "_cell_guid": "b1076dfc-b9ad-4769-8c92-a6c4dae69d19",
    "_uuid": "8f2839f25d086af736a60e9eeb907d3b93b6e0e5",
    "execution": {
     "iopub.execute_input": "2025-03-06T21:41:50.873255Z",
     "iopub.status.busy": "2025-03-06T21:41:50.872914Z",
     "iopub.status.idle": "2025-03-06T21:42:11.512831Z",
     "shell.execute_reply": "2025-03-06T21:42:11.511996Z"
    },
    "papermill": {
     "duration": 20.645453,
     "end_time": "2025-03-06T21:42:11.514533",
     "exception": false,
     "start_time": "2025-03-06T21:41:50.869080",
     "status": "completed"
    },
    "tags": []
   },
   "outputs": [],
   "source": [
    "import numpy as np\n",
    "import matplotlib.pyplot as plt\n",
    "import seaborn as sea\n",
    "import tensorflow as tf\n",
    "import random\n",
    "import gc\n",
    "\n",
    "import tensorflow.keras.backend as K\n",
    "from tensorflow.keras.callbacks import Callback\n",
    "from tensorflow.keras.preprocessing.image import ImageDataGenerator\n",
    "from tensorflow.keras.applications import MobileNetV2\n",
    "from tensorflow.keras.models import Model, Sequential\n",
    "from tensorflow.keras.layers import Dense, GlobalAveragePooling2D, ReLU, BatchNormalization\n",
    "from tensorflow.keras.initializers import HeNormal, Ones, Constant\n",
    "from tensorflow.keras.optimizers import Adam\n",
    "from tensorflow.keras.callbacks import ModelCheckpoint, EarlyStopping"
   ]
  },
  {
   "cell_type": "code",
   "execution_count": 2,
   "id": "e6c9eb2e",
   "metadata": {
    "execution": {
     "iopub.execute_input": "2025-03-06T21:42:11.520910Z",
     "iopub.status.busy": "2025-03-06T21:42:11.520294Z",
     "iopub.status.idle": "2025-03-06T21:42:11.524658Z",
     "shell.execute_reply": "2025-03-06T21:42:11.523776Z"
    },
    "papermill": {
     "duration": 0.008675,
     "end_time": "2025-03-06T21:42:11.526161",
     "exception": false,
     "start_time": "2025-03-06T21:42:11.517486",
     "status": "completed"
    },
    "tags": []
   },
   "outputs": [],
   "source": [
    "SEED = 3126  \n",
    "random.seed(SEED)\n",
    "np.random.seed(SEED)\n",
    "tf.random.set_seed(SEED)"
   ]
  },
  {
   "cell_type": "code",
   "execution_count": 3,
   "id": "d64a2068",
   "metadata": {
    "execution": {
     "iopub.execute_input": "2025-03-06T21:42:11.531048Z",
     "iopub.status.busy": "2025-03-06T21:42:11.530826Z",
     "iopub.status.idle": "2025-03-06T21:42:22.479422Z",
     "shell.execute_reply": "2025-03-06T21:42:22.478693Z"
    },
    "papermill": {
     "duration": 10.95279,
     "end_time": "2025-03-06T21:42:22.480959",
     "exception": false,
     "start_time": "2025-03-06T21:42:11.528169",
     "status": "completed"
    },
    "tags": []
   },
   "outputs": [
    {
     "name": "stdout",
     "output_type": "stream",
     "text": [
      "Found 4913 images belonging to 4 classes.\n",
      "Found 1228 images belonging to 4 classes.\n"
     ]
    }
   ],
   "source": [
    "WIDTH, HEIGHT = 224, 224\n",
    "BATCH_SIZE = 32\n",
    "LEARNING_RATE = .01\n",
    "EPOCHS = 100\n",
    "DIR = \"/kaggle/input/finalized-astrovision-data\"\n",
    "\n",
    "train_datagen = ImageDataGenerator(\n",
    "    rescale=1./255,\n",
    "    rotation_range=30,\n",
    "    width_shift_range=0,\n",
    "    height_shift_range=0,\n",
    "    shear_range=0.2,\n",
    "    zoom_range=0.2,\n",
    "    horizontal_flip=True,\n",
    "    fill_mode='nearest',\n",
    "    validation_split=0.2\n",
    ")\n",
    "\n",
    "train_generator = train_datagen.flow_from_directory(\n",
    "    DIR,\n",
    "    target_size=(WIDTH, HEIGHT),\n",
    "    batch_size=BATCH_SIZE,\n",
    "    class_mode='categorical',\n",
    "    subset='training',\n",
    "    seed=SEED  \n",
    ")\n",
    "\n",
    "validation_generator = train_datagen.flow_from_directory(\n",
    "    DIR,\n",
    "    target_size=(WIDTH, HEIGHT),\n",
    "    batch_size=BATCH_SIZE,\n",
    "    class_mode='categorical',\n",
    "    subset='validation',\n",
    "    seed=SEED \n",
    ")"
   ]
  },
  {
   "cell_type": "code",
   "execution_count": 4,
   "id": "9cdb0e00",
   "metadata": {
    "execution": {
     "iopub.execute_input": "2025-03-06T21:42:22.486784Z",
     "iopub.status.busy": "2025-03-06T21:42:22.486450Z",
     "iopub.status.idle": "2025-03-06T21:42:22.491779Z",
     "shell.execute_reply": "2025-03-06T21:42:22.490848Z"
    },
    "papermill": {
     "duration": 0.009745,
     "end_time": "2025-03-06T21:42:22.493284",
     "exception": false,
     "start_time": "2025-03-06T21:42:22.483539",
     "status": "completed"
    },
    "tags": []
   },
   "outputs": [],
   "source": [
    "def make_dense_layer(input_size, dropout_rate=0.0, input_shape=None):\n",
    "    layers = []\n",
    "    if input_shape:\n",
    "        layers.append(Dense(input_size,\n",
    "                            use_bias=False, \n",
    "                            input_shape=input_shape,\n",
    "                            kernel_initializer=HeNormal()\n",
    "                            ))\n",
    "    else:\n",
    "        layers.append(Dense(input_size, use_bias=False, kernel_initializer=HeNormal()))\n",
    "    layers.extend([BatchNormalization(gamma_initializer=Ones(), beta_initializer=Constant(0.25)),\n",
    "                  ReLU()])\n",
    "    if dropout_rate > 0:\n",
    "        layers.append(Dropout(dropout_rate))\n",
    "    return Sequential(layers)"
   ]
  },
  {
   "cell_type": "code",
   "execution_count": 5,
   "id": "7779a97c",
   "metadata": {
    "execution": {
     "iopub.execute_input": "2025-03-06T21:42:22.498571Z",
     "iopub.status.busy": "2025-03-06T21:42:22.498287Z",
     "iopub.status.idle": "2025-03-06T21:42:22.503784Z",
     "shell.execute_reply": "2025-03-06T21:42:22.502865Z"
    },
    "papermill": {
     "duration": 0.009706,
     "end_time": "2025-03-06T21:42:22.505305",
     "exception": false,
     "start_time": "2025-03-06T21:42:22.495599",
     "status": "completed"
    },
    "tags": []
   },
   "outputs": [],
   "source": [
    "def build_model():\n",
    "    base_model = MobileNetV2(weights='imagenet', include_top=False,\n",
    "                             input_shape=(WIDTH, HEIGHT, 3))\n",
    "    base_model.trainable = False\n",
    "    x = base_model.output\n",
    "    x = GlobalAveragePooling2D()(x)\n",
    "\n",
    "    fc_layers = Sequential([\n",
    "        make_dense_layer(1024, input_shape=(x.shape[-1],)),\n",
    "        make_dense_layer(512),\n",
    "        make_dense_layer(256),\n",
    "        make_dense_layer(8)\n",
    "    ])\n",
    "    x = fc_layers(x)\n",
    "    predictions = Dense(train_generator.num_classes,\n",
    "                        activation='softmax',\n",
    "                        kernel_initializer=HeNormal())(x)\n",
    "\n",
    "    model = Model(inputs=base_model.input, outputs=predictions)\n",
    "    model.compile(optimizer=Adam(learning_rate=LEARNING_RATE),\n",
    "                 loss='categorical_crossentropy',\n",
    "                 metrics=['accuracy'])   \n",
    "    return model"
   ]
  },
  {
   "cell_type": "code",
   "execution_count": 6,
   "id": "2914990e",
   "metadata": {
    "execution": {
     "iopub.execute_input": "2025-03-06T21:42:22.510931Z",
     "iopub.status.busy": "2025-03-06T21:42:22.510653Z",
     "iopub.status.idle": "2025-03-06T21:42:22.514670Z",
     "shell.execute_reply": "2025-03-06T21:42:22.513910Z"
    },
    "papermill": {
     "duration": 0.008371,
     "end_time": "2025-03-06T21:42:22.516071",
     "exception": false,
     "start_time": "2025-03-06T21:42:22.507700",
     "status": "completed"
    },
    "tags": []
   },
   "outputs": [],
   "source": [
    "class ClearMemory(Callback):\n",
    "    def on_epoch_end(self, epoch, logs=None):\n",
    "        K.clear_session()  \n",
    "        gc.collect() "
   ]
  },
  {
   "cell_type": "code",
   "execution_count": 7,
   "id": "35f14598",
   "metadata": {
    "execution": {
     "iopub.execute_input": "2025-03-06T21:42:22.521377Z",
     "iopub.status.busy": "2025-03-06T21:42:22.521150Z",
     "iopub.status.idle": "2025-03-06T21:42:27.032080Z",
     "shell.execute_reply": "2025-03-06T21:42:27.030955Z"
    },
    "papermill": {
     "duration": 4.515436,
     "end_time": "2025-03-06T21:42:27.033756",
     "exception": false,
     "start_time": "2025-03-06T21:42:22.518320",
     "status": "completed"
    },
    "tags": []
   },
   "outputs": [
    {
     "name": "stdout",
     "output_type": "stream",
     "text": [
      "Downloading data from https://storage.googleapis.com/tensorflow/keras-applications/mobilenet_v2/mobilenet_v2_weights_tf_dim_ordering_tf_kernels_1.0_224_no_top.h5\n",
      "\u001b[1m9406464/9406464\u001b[0m \u001b[32m━━━━━━━━━━━━━━━━━━━━\u001b[0m\u001b[37m\u001b[0m \u001b[1m0s\u001b[0m 0us/step\n"
     ]
    },
    {
     "name": "stderr",
     "output_type": "stream",
     "text": [
      "/usr/local/lib/python3.10/dist-packages/keras/src/layers/core/dense.py:87: UserWarning: Do not pass an `input_shape`/`input_dim` argument to a layer. When using Sequential models, prefer using an `Input(shape)` object as the first layer in the model instead.\n",
      "  super().__init__(activity_regularizer=activity_regularizer, **kwargs)\n"
     ]
    }
   ],
   "source": [
    "model = build_model()\n",
    "\n",
    "best_weights_path = \"/kaggle/working/best_weights.weights.h5\"\n",
    "\n",
    "checkpoint_callback = ModelCheckpoint(\n",
    "    filepath=best_weights_path,  \n",
    "    monitor='val_accuracy',    \n",
    "    save_best_only=True,       \n",
    "    save_weights_only=True,    \n",
    "    mode='max',                \n",
    "    verbose=1                  \n",
    ")\n",
    "\n",
    "early_stopping_callback = EarlyStopping(\n",
    "    monitor='val_loss',  \n",
    "    patience=10,              \n",
    "    mode='min',              \n",
    "    min_delta=.001,\n",
    "    restore_best_weights=True,  \n",
    "    verbose=1\n",
    ")"
   ]
  },
  {
   "cell_type": "code",
   "execution_count": 8,
   "id": "48ea016a",
   "metadata": {
    "execution": {
     "iopub.execute_input": "2025-03-06T21:42:27.040571Z",
     "iopub.status.busy": "2025-03-06T21:42:27.040236Z",
     "iopub.status.idle": "2025-03-06T22:17:38.682331Z",
     "shell.execute_reply": "2025-03-06T22:17:38.680761Z"
    },
    "papermill": {
     "duration": 2111.648173,
     "end_time": "2025-03-06T22:17:38.684904",
     "exception": false,
     "start_time": "2025-03-06T21:42:27.036731",
     "status": "completed"
    },
    "tags": []
   },
   "outputs": [
    {
     "name": "stdout",
     "output_type": "stream",
     "text": [
      "Epoch 1/100\n"
     ]
    },
    {
     "name": "stderr",
     "output_type": "stream",
     "text": [
      "/usr/local/lib/python3.10/dist-packages/keras/src/trainers/data_adapters/py_dataset_adapter.py:122: UserWarning: Your `PyDataset` class should call `super().__init__(**kwargs)` in its constructor. `**kwargs` can include `workers`, `use_multiprocessing`, `max_queue_size`. Do not pass these arguments to `fit()`, as they will be ignored.\n",
      "  self._warn_if_super_not_called()\n"
     ]
    },
    {
     "name": "stdout",
     "output_type": "stream",
     "text": [
      "\u001b[1m153/154\u001b[0m \u001b[32m━━━━━━━━━━━━━━━━━━━\u001b[0m\u001b[37m━\u001b[0m \u001b[1m0s\u001b[0m 572ms/step - accuracy: 0.6518 - loss: 0.7648\n",
      "Epoch 1: val_accuracy improved from -inf to 0.76384, saving model to /kaggle/working/best_weights.weights.h5\n",
      "\u001b[1m154/154\u001b[0m \u001b[32m━━━━━━━━━━━━━━━━━━━━\u001b[0m\u001b[37m\u001b[0m \u001b[1m136s\u001b[0m 765ms/step - accuracy: 0.6524 - loss: 0.7634 - val_accuracy: 0.7638 - val_loss: 0.6200\n",
      "Epoch 2/100\n",
      "\u001b[1m153/154\u001b[0m \u001b[32m━━━━━━━━━━━━━━━━━━━\u001b[0m\u001b[37m━\u001b[0m \u001b[1m0s\u001b[0m 398ms/step - accuracy: 0.7539 - loss: 0.5413\n",
      "Epoch 2: val_accuracy did not improve from 0.76384\n",
      "\u001b[1m154/154\u001b[0m \u001b[32m━━━━━━━━━━━━━━━━━━━━\u001b[0m\u001b[37m\u001b[0m \u001b[1m82s\u001b[0m 507ms/step - accuracy: 0.7541 - loss: 0.5411 - val_accuracy: 0.7541 - val_loss: 0.4930\n",
      "Epoch 3/100\n",
      "\u001b[1m153/154\u001b[0m \u001b[32m━━━━━━━━━━━━━━━━━━━\u001b[0m\u001b[37m━\u001b[0m \u001b[1m0s\u001b[0m 391ms/step - accuracy: 0.7814 - loss: 0.4943\n",
      "Epoch 3: val_accuracy improved from 0.76384 to 0.79967, saving model to /kaggle/working/best_weights.weights.h5\n",
      "\u001b[1m154/154\u001b[0m \u001b[32m━━━━━━━━━━━━━━━━━━━━\u001b[0m\u001b[37m\u001b[0m \u001b[1m81s\u001b[0m 499ms/step - accuracy: 0.7814 - loss: 0.4942 - val_accuracy: 0.7997 - val_loss: 0.4520\n",
      "Epoch 4/100\n",
      "\u001b[1m153/154\u001b[0m \u001b[32m━━━━━━━━━━━━━━━━━━━\u001b[0m\u001b[37m━\u001b[0m \u001b[1m0s\u001b[0m 402ms/step - accuracy: 0.8079 - loss: 0.4455\n",
      "Epoch 4: val_accuracy did not improve from 0.79967\n",
      "\u001b[1m154/154\u001b[0m \u001b[32m━━━━━━━━━━━━━━━━━━━━\u001b[0m\u001b[37m\u001b[0m \u001b[1m83s\u001b[0m 512ms/step - accuracy: 0.8077 - loss: 0.4456 - val_accuracy: 0.7940 - val_loss: 0.4972\n",
      "Epoch 5/100\n",
      "\u001b[1m153/154\u001b[0m \u001b[32m━━━━━━━━━━━━━━━━━━━\u001b[0m\u001b[37m━\u001b[0m \u001b[1m0s\u001b[0m 401ms/step - accuracy: 0.8129 - loss: 0.4285\n",
      "Epoch 5: val_accuracy did not improve from 0.79967\n",
      "\u001b[1m154/154\u001b[0m \u001b[32m━━━━━━━━━━━━━━━━━━━━\u001b[0m\u001b[37m\u001b[0m \u001b[1m82s\u001b[0m 508ms/step - accuracy: 0.8128 - loss: 0.4287 - val_accuracy: 0.7907 - val_loss: 0.4348\n",
      "Epoch 6/100\n",
      "\u001b[1m153/154\u001b[0m \u001b[32m━━━━━━━━━━━━━━━━━━━\u001b[0m\u001b[37m━\u001b[0m \u001b[1m0s\u001b[0m 398ms/step - accuracy: 0.8163 - loss: 0.4332\n",
      "Epoch 6: val_accuracy improved from 0.79967 to 0.80456, saving model to /kaggle/working/best_weights.weights.h5\n",
      "\u001b[1m154/154\u001b[0m \u001b[32m━━━━━━━━━━━━━━━━━━━━\u001b[0m\u001b[37m\u001b[0m \u001b[1m82s\u001b[0m 507ms/step - accuracy: 0.8162 - loss: 0.4331 - val_accuracy: 0.8046 - val_loss: 0.4410\n",
      "Epoch 7/100\n",
      "\u001b[1m153/154\u001b[0m \u001b[32m━━━━━━━━━━━━━━━━━━━\u001b[0m\u001b[37m━\u001b[0m \u001b[1m0s\u001b[0m 401ms/step - accuracy: 0.8147 - loss: 0.4233\n",
      "Epoch 7: val_accuracy improved from 0.80456 to 0.83225, saving model to /kaggle/working/best_weights.weights.h5\n",
      "\u001b[1m154/154\u001b[0m \u001b[32m━━━━━━━━━━━━━━━━━━━━\u001b[0m\u001b[37m\u001b[0m \u001b[1m82s\u001b[0m 513ms/step - accuracy: 0.8147 - loss: 0.4232 - val_accuracy: 0.8322 - val_loss: 0.4046\n",
      "Epoch 8/100\n",
      "\u001b[1m153/154\u001b[0m \u001b[32m━━━━━━━━━━━━━━━━━━━\u001b[0m\u001b[37m━\u001b[0m \u001b[1m0s\u001b[0m 403ms/step - accuracy: 0.8203 - loss: 0.4074\n",
      "Epoch 8: val_accuracy did not improve from 0.83225\n",
      "\u001b[1m154/154\u001b[0m \u001b[32m━━━━━━━━━━━━━━━━━━━━\u001b[0m\u001b[37m\u001b[0m \u001b[1m83s\u001b[0m 514ms/step - accuracy: 0.8203 - loss: 0.4074 - val_accuracy: 0.7736 - val_loss: 0.5487\n",
      "Epoch 9/100\n",
      "\u001b[1m153/154\u001b[0m \u001b[32m━━━━━━━━━━━━━━━━━━━\u001b[0m\u001b[37m━\u001b[0m \u001b[1m0s\u001b[0m 392ms/step - accuracy: 0.8176 - loss: 0.3981\n",
      "Epoch 9: val_accuracy did not improve from 0.83225\n",
      "\u001b[1m154/154\u001b[0m \u001b[32m━━━━━━━━━━━━━━━━━━━━\u001b[0m\u001b[37m\u001b[0m \u001b[1m81s\u001b[0m 501ms/step - accuracy: 0.8177 - loss: 0.3980 - val_accuracy: 0.8062 - val_loss: 0.4393\n",
      "Epoch 10/100\n",
      "\u001b[1m153/154\u001b[0m \u001b[32m━━━━━━━━━━━━━━━━━━━\u001b[0m\u001b[37m━\u001b[0m \u001b[1m0s\u001b[0m 402ms/step - accuracy: 0.8264 - loss: 0.3878\n",
      "Epoch 10: val_accuracy did not improve from 0.83225\n",
      "\u001b[1m154/154\u001b[0m \u001b[32m━━━━━━━━━━━━━━━━━━━━\u001b[0m\u001b[37m\u001b[0m \u001b[1m82s\u001b[0m 509ms/step - accuracy: 0.8264 - loss: 0.3878 - val_accuracy: 0.8021 - val_loss: 0.4216\n",
      "Epoch 11/100\n",
      "\u001b[1m153/154\u001b[0m \u001b[32m━━━━━━━━━━━━━━━━━━━\u001b[0m\u001b[37m━\u001b[0m \u001b[1m0s\u001b[0m 404ms/step - accuracy: 0.8261 - loss: 0.3817\n",
      "Epoch 11: val_accuracy did not improve from 0.83225\n",
      "\u001b[1m154/154\u001b[0m \u001b[32m━━━━━━━━━━━━━━━━━━━━\u001b[0m\u001b[37m\u001b[0m \u001b[1m83s\u001b[0m 512ms/step - accuracy: 0.8261 - loss: 0.3817 - val_accuracy: 0.7858 - val_loss: 0.4999\n",
      "Epoch 12/100\n",
      "\u001b[1m153/154\u001b[0m \u001b[32m━━━━━━━━━━━━━━━━━━━\u001b[0m\u001b[37m━\u001b[0m \u001b[1m0s\u001b[0m 401ms/step - accuracy: 0.8279 - loss: 0.3742\n",
      "Epoch 12: val_accuracy did not improve from 0.83225\n",
      "\u001b[1m154/154\u001b[0m \u001b[32m━━━━━━━━━━━━━━━━━━━━\u001b[0m\u001b[37m\u001b[0m \u001b[1m82s\u001b[0m 507ms/step - accuracy: 0.8279 - loss: 0.3742 - val_accuracy: 0.8078 - val_loss: 0.4622\n",
      "Epoch 13/100\n",
      "\u001b[1m153/154\u001b[0m \u001b[32m━━━━━━━━━━━━━━━━━━━\u001b[0m\u001b[37m━\u001b[0m \u001b[1m0s\u001b[0m 405ms/step - accuracy: 0.8342 - loss: 0.3802\n",
      "Epoch 13: val_accuracy did not improve from 0.83225\n",
      "\u001b[1m154/154\u001b[0m \u001b[32m━━━━━━━━━━━━━━━━━━━━\u001b[0m\u001b[37m\u001b[0m \u001b[1m83s\u001b[0m 515ms/step - accuracy: 0.8343 - loss: 0.3801 - val_accuracy: 0.8029 - val_loss: 0.4614\n",
      "Epoch 14/100\n",
      "\u001b[1m153/154\u001b[0m \u001b[32m━━━━━━━━━━━━━━━━━━━\u001b[0m\u001b[37m━\u001b[0m \u001b[1m0s\u001b[0m 397ms/step - accuracy: 0.8282 - loss: 0.3777\n",
      "Epoch 14: val_accuracy did not improve from 0.83225\n",
      "\u001b[1m154/154\u001b[0m \u001b[32m━━━━━━━━━━━━━━━━━━━━\u001b[0m\u001b[37m\u001b[0m \u001b[1m81s\u001b[0m 499ms/step - accuracy: 0.8283 - loss: 0.3775 - val_accuracy: 0.8086 - val_loss: 0.4470\n",
      "Epoch 15/100\n",
      "\u001b[1m153/154\u001b[0m \u001b[32m━━━━━━━━━━━━━━━━━━━\u001b[0m\u001b[37m━\u001b[0m \u001b[1m0s\u001b[0m 405ms/step - accuracy: 0.8471 - loss: 0.3530\n",
      "Epoch 15: val_accuracy did not improve from 0.83225\n",
      "\u001b[1m154/154\u001b[0m \u001b[32m━━━━━━━━━━━━━━━━━━━━\u001b[0m\u001b[37m\u001b[0m \u001b[1m83s\u001b[0m 513ms/step - accuracy: 0.8470 - loss: 0.3532 - val_accuracy: 0.8168 - val_loss: 0.3982\n",
      "Epoch 16/100\n",
      "\u001b[1m153/154\u001b[0m \u001b[32m━━━━━━━━━━━━━━━━━━━\u001b[0m\u001b[37m━\u001b[0m \u001b[1m0s\u001b[0m 398ms/step - accuracy: 0.8395 - loss: 0.3651\n",
      "Epoch 16: val_accuracy did not improve from 0.83225\n",
      "\u001b[1m154/154\u001b[0m \u001b[32m━━━━━━━━━━━━━━━━━━━━\u001b[0m\u001b[37m\u001b[0m \u001b[1m82s\u001b[0m 507ms/step - accuracy: 0.8395 - loss: 0.3650 - val_accuracy: 0.8078 - val_loss: 0.4208\n",
      "Epoch 17/100\n",
      "\u001b[1m153/154\u001b[0m \u001b[32m━━━━━━━━━━━━━━━━━━━\u001b[0m\u001b[37m━\u001b[0m \u001b[1m0s\u001b[0m 396ms/step - accuracy: 0.8449 - loss: 0.3524\n",
      "Epoch 17: val_accuracy did not improve from 0.83225\n",
      "\u001b[1m154/154\u001b[0m \u001b[32m━━━━━━━━━━━━━━━━━━━━\u001b[0m\u001b[37m\u001b[0m \u001b[1m81s\u001b[0m 502ms/step - accuracy: 0.8450 - loss: 0.3523 - val_accuracy: 0.8013 - val_loss: 0.4718\n",
      "Epoch 18/100\n",
      "\u001b[1m153/154\u001b[0m \u001b[32m━━━━━━━━━━━━━━━━━━━\u001b[0m\u001b[37m━\u001b[0m \u001b[1m0s\u001b[0m 396ms/step - accuracy: 0.8523 - loss: 0.3336\n",
      "Epoch 18: val_accuracy did not improve from 0.83225\n",
      "\u001b[1m154/154\u001b[0m \u001b[32m━━━━━━━━━━━━━━━━━━━━\u001b[0m\u001b[37m\u001b[0m \u001b[1m81s\u001b[0m 503ms/step - accuracy: 0.8523 - loss: 0.3338 - val_accuracy: 0.7940 - val_loss: 0.4824\n",
      "Epoch 19/100\n",
      "\u001b[1m153/154\u001b[0m \u001b[32m━━━━━━━━━━━━━━━━━━━\u001b[0m\u001b[37m━\u001b[0m \u001b[1m0s\u001b[0m 394ms/step - accuracy: 0.8617 - loss: 0.3151\n",
      "Epoch 19: val_accuracy did not improve from 0.83225\n",
      "\u001b[1m154/154\u001b[0m \u001b[32m━━━━━━━━━━━━━━━━━━━━\u001b[0m\u001b[37m\u001b[0m \u001b[1m81s\u001b[0m 501ms/step - accuracy: 0.8616 - loss: 0.3154 - val_accuracy: 0.8070 - val_loss: 0.4363\n",
      "Epoch 20/100\n",
      "\u001b[1m153/154\u001b[0m \u001b[32m━━━━━━━━━━━━━━━━━━━\u001b[0m\u001b[37m━\u001b[0m \u001b[1m0s\u001b[0m 381ms/step - accuracy: 0.8424 - loss: 0.3457\n",
      "Epoch 20: val_accuracy did not improve from 0.83225\n",
      "\u001b[1m154/154\u001b[0m \u001b[32m━━━━━━━━━━━━━━━━━━━━\u001b[0m\u001b[37m\u001b[0m \u001b[1m79s\u001b[0m 488ms/step - accuracy: 0.8424 - loss: 0.3458 - val_accuracy: 0.8046 - val_loss: 0.4561\n",
      "Epoch 21/100\n",
      "\u001b[1m153/154\u001b[0m \u001b[32m━━━━━━━━━━━━━━━━━━━\u001b[0m\u001b[37m━\u001b[0m \u001b[1m0s\u001b[0m 394ms/step - accuracy: 0.8540 - loss: 0.3197\n",
      "Epoch 21: val_accuracy did not improve from 0.83225\n",
      "\u001b[1m154/154\u001b[0m \u001b[32m━━━━━━━━━━━━━━━━━━━━\u001b[0m\u001b[37m\u001b[0m \u001b[1m81s\u001b[0m 500ms/step - accuracy: 0.8540 - loss: 0.3198 - val_accuracy: 0.8274 - val_loss: 0.3997\n",
      "Epoch 22/100\n",
      "\u001b[1m153/154\u001b[0m \u001b[32m━━━━━━━━━━━━━━━━━━━\u001b[0m\u001b[37m━\u001b[0m \u001b[1m0s\u001b[0m 394ms/step - accuracy: 0.8466 - loss: 0.3461\n",
      "Epoch 22: val_accuracy did not improve from 0.83225\n",
      "\u001b[1m154/154\u001b[0m \u001b[32m━━━━━━━━━━━━━━━━━━━━\u001b[0m\u001b[37m\u001b[0m \u001b[1m80s\u001b[0m 499ms/step - accuracy: 0.8466 - loss: 0.3459 - val_accuracy: 0.8119 - val_loss: 0.4596\n",
      "Epoch 23/100\n",
      "\u001b[1m153/154\u001b[0m \u001b[32m━━━━━━━━━━━━━━━━━━━\u001b[0m\u001b[37m━\u001b[0m \u001b[1m0s\u001b[0m 395ms/step - accuracy: 0.8487 - loss: 0.3421\n",
      "Epoch 23: val_accuracy did not improve from 0.83225\n",
      "\u001b[1m154/154\u001b[0m \u001b[32m━━━━━━━━━━━━━━━━━━━━\u001b[0m\u001b[37m\u001b[0m \u001b[1m81s\u001b[0m 502ms/step - accuracy: 0.8487 - loss: 0.3420 - val_accuracy: 0.8062 - val_loss: 0.4553\n",
      "Epoch 24/100\n",
      "\u001b[1m153/154\u001b[0m \u001b[32m━━━━━━━━━━━━━━━━━━━\u001b[0m\u001b[37m━\u001b[0m \u001b[1m0s\u001b[0m 400ms/step - accuracy: 0.8529 - loss: 0.3371\n",
      "Epoch 24: val_accuracy did not improve from 0.83225\n",
      "\u001b[1m154/154\u001b[0m \u001b[32m━━━━━━━━━━━━━━━━━━━━\u001b[0m\u001b[37m\u001b[0m \u001b[1m82s\u001b[0m 508ms/step - accuracy: 0.8529 - loss: 0.3371 - val_accuracy: 0.8046 - val_loss: 0.4664\n",
      "Epoch 25/100\n",
      "\u001b[1m153/154\u001b[0m \u001b[32m━━━━━━━━━━━━━━━━━━━\u001b[0m\u001b[37m━\u001b[0m \u001b[1m0s\u001b[0m 402ms/step - accuracy: 0.8616 - loss: 0.3165\n",
      "Epoch 25: val_accuracy did not improve from 0.83225\n",
      "\u001b[1m154/154\u001b[0m \u001b[32m━━━━━━━━━━━━━━━━━━━━\u001b[0m\u001b[37m\u001b[0m \u001b[1m81s\u001b[0m 505ms/step - accuracy: 0.8616 - loss: 0.3166 - val_accuracy: 0.8062 - val_loss: 0.4403\n",
      "Epoch 25: early stopping\n",
      "Restoring model weights from the end of the best epoch: 15.\n",
      "\u001b[1m38/38\u001b[0m \u001b[32m━━━━━━━━━━━━━━━━━━━━\u001b[0m\u001b[37m\u001b[0m \u001b[1m16s\u001b[0m 411ms/step - accuracy: 0.8092 - loss: 0.4479\n",
      "Test Accuracy Before Fine-tuning: 81.66%\n"
     ]
    }
   ],
   "source": [
    "history = model.fit(\n",
    "    train_generator,\n",
    "    epochs=EPOCHS,\n",
    "    validation_data=validation_generator,\n",
    "    callbacks=[checkpoint_callback, early_stopping_callback, ClearMemory()]\n",
    ")\n",
    "\n",
    "initial_test_loss, initial_test_acc = model.evaluate(validation_generator, \n",
    "                                                     steps=validation_generator.samples // BATCH_SIZE)\n",
    "\n",
    "print(f\"Test Accuracy Before Fine-tuning: {initial_test_acc*100:.2f}%\")"
   ]
  }
 ],
 "metadata": {
  "kaggle": {
   "accelerator": "nvidiaTeslaT4",
   "dataSources": [
    {
     "datasetId": 6807513,
     "sourceId": 10945047,
     "sourceType": "datasetVersion"
    }
   ],
   "dockerImageVersionId": 30919,
   "isGpuEnabled": true,
   "isInternetEnabled": true,
   "language": "python",
   "sourceType": "notebook"
  },
  "kernelspec": {
   "display_name": "Python 3",
   "language": "python",
   "name": "python3"
  },
  "language_info": {
   "codemirror_mode": {
    "name": "ipython",
    "version": 3
   },
   "file_extension": ".py",
   "mimetype": "text/x-python",
   "name": "python",
   "nbconvert_exporter": "python",
   "pygments_lexer": "ipython3",
   "version": "3.10.12"
  },
  "papermill": {
   "default_parameters": {},
   "duration": 2155.319157,
   "end_time": "2025-03-06T22:17:42.352304",
   "environment_variables": {},
   "exception": null,
   "input_path": "__notebook__.ipynb",
   "output_path": "__notebook__.ipynb",
   "parameters": {},
   "start_time": "2025-03-06T21:41:47.033147",
   "version": "2.6.0"
  }
 },
 "nbformat": 4,
 "nbformat_minor": 5
}
