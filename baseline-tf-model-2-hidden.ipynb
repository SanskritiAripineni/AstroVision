{
 "cells": [
  {
   "cell_type": "code",
   "execution_count": 1,
   "id": "c0e17457",
   "metadata": {
    "_cell_guid": "b1076dfc-b9ad-4769-8c92-a6c4dae69d19",
    "_uuid": "8f2839f25d086af736a60e9eeb907d3b93b6e0e5",
    "execution": {
     "iopub.execute_input": "2025-03-06T23:09:43.038520Z",
     "iopub.status.busy": "2025-03-06T23:09:43.038306Z",
     "iopub.status.idle": "2025-03-06T23:09:56.305842Z",
     "shell.execute_reply": "2025-03-06T23:09:56.304996Z"
    },
    "papermill": {
     "duration": 13.272194,
     "end_time": "2025-03-06T23:09:56.307506",
     "exception": false,
     "start_time": "2025-03-06T23:09:43.035312",
     "status": "completed"
    },
    "tags": []
   },
   "outputs": [],
   "source": [
    "import numpy as np\n",
    "import matplotlib.pyplot as plt\n",
    "import seaborn as sea\n",
    "import tensorflow as tf\n",
    "import random\n",
    "import gc\n",
    "\n",
    "import tensorflow.keras.backend as K\n",
    "from tensorflow.keras.callbacks import Callback\n",
    "from tensorflow.keras.preprocessing.image import ImageDataGenerator\n",
    "from tensorflow.keras.applications import MobileNetV2\n",
    "from tensorflow.keras.models import Model, Sequential\n",
    "from tensorflow.keras.layers import Dense, GlobalAveragePooling2D, ReLU, BatchNormalization\n",
    "from tensorflow.keras.initializers import HeNormal, Ones, Constant\n",
    "from tensorflow.keras.optimizers import Adam\n",
    "from tensorflow.keras.callbacks import ModelCheckpoint, EarlyStopping"
   ]
  },
  {
   "cell_type": "code",
   "execution_count": 2,
   "id": "1248748d",
   "metadata": {
    "execution": {
     "iopub.execute_input": "2025-03-06T23:09:56.313060Z",
     "iopub.status.busy": "2025-03-06T23:09:56.312450Z",
     "iopub.status.idle": "2025-03-06T23:09:56.317100Z",
     "shell.execute_reply": "2025-03-06T23:09:56.316374Z"
    },
    "papermill": {
     "duration": 0.008535,
     "end_time": "2025-03-06T23:09:56.318438",
     "exception": false,
     "start_time": "2025-03-06T23:09:56.309903",
     "status": "completed"
    },
    "tags": []
   },
   "outputs": [],
   "source": [
    "SEED = 3126  \n",
    "random.seed(SEED)\n",
    "np.random.seed(SEED)\n",
    "tf.random.set_seed(SEED)"
   ]
  },
  {
   "cell_type": "code",
   "execution_count": 3,
   "id": "1bb71e7e",
   "metadata": {
    "execution": {
     "iopub.execute_input": "2025-03-06T23:09:56.323338Z",
     "iopub.status.busy": "2025-03-06T23:09:56.322910Z",
     "iopub.status.idle": "2025-03-06T23:10:07.001409Z",
     "shell.execute_reply": "2025-03-06T23:10:07.000721Z"
    },
    "papermill": {
     "duration": 10.682132,
     "end_time": "2025-03-06T23:10:07.002660",
     "exception": false,
     "start_time": "2025-03-06T23:09:56.320528",
     "status": "completed"
    },
    "tags": []
   },
   "outputs": [
    {
     "name": "stdout",
     "output_type": "stream",
     "text": [
      "Found 4913 images belonging to 4 classes.\n",
      "Found 1228 images belonging to 4 classes.\n"
     ]
    }
   ],
   "source": [
    "WIDTH, HEIGHT = 224, 224\n",
    "BATCH_SIZE = 32\n",
    "LEARNING_RATE = .01\n",
    "EPOCHS = 100\n",
    "DIR = \"/kaggle/input/finalized-astrovision-data\"\n",
    "\n",
    "train_datagen = ImageDataGenerator(\n",
    "    rescale=1./255,\n",
    "    rotation_range=30,\n",
    "    width_shift_range=0,\n",
    "    height_shift_range=0,\n",
    "    shear_range=0.2,\n",
    "    zoom_range=0.2,\n",
    "    horizontal_flip=True,\n",
    "    fill_mode='nearest',\n",
    "    validation_split=0.2\n",
    ")\n",
    "\n",
    "train_generator = train_datagen.flow_from_directory(\n",
    "    DIR,\n",
    "    target_size=(WIDTH, HEIGHT),\n",
    "    batch_size=BATCH_SIZE,\n",
    "    class_mode='categorical',\n",
    "    subset='training',\n",
    "    seed=SEED  \n",
    ")\n",
    "\n",
    "validation_generator = train_datagen.flow_from_directory(\n",
    "    DIR,\n",
    "    target_size=(WIDTH, HEIGHT),\n",
    "    batch_size=BATCH_SIZE,\n",
    "    class_mode='categorical',\n",
    "    subset='validation',\n",
    "    seed=SEED \n",
    ")"
   ]
  },
  {
   "cell_type": "code",
   "execution_count": 4,
   "id": "5d66b9e7",
   "metadata": {
    "execution": {
     "iopub.execute_input": "2025-03-06T23:10:07.007684Z",
     "iopub.status.busy": "2025-03-06T23:10:07.007459Z",
     "iopub.status.idle": "2025-03-06T23:10:07.011913Z",
     "shell.execute_reply": "2025-03-06T23:10:07.011251Z"
    },
    "papermill": {
     "duration": 0.008196,
     "end_time": "2025-03-06T23:10:07.013058",
     "exception": false,
     "start_time": "2025-03-06T23:10:07.004862",
     "status": "completed"
    },
    "tags": []
   },
   "outputs": [],
   "source": [
    "def make_dense_layer(input_size, dropout_rate=0.0, input_shape=None):\n",
    "    layers = []\n",
    "    if input_shape:\n",
    "        layers.append(Dense(input_size,\n",
    "                            use_bias=False, \n",
    "                            input_shape=input_shape,\n",
    "                            kernel_initializer=HeNormal()\n",
    "                            ))\n",
    "    else:\n",
    "        layers.append(Dense(input_size, use_bias=False, kernel_initializer=HeNormal()))\n",
    "    layers.extend([BatchNormalization(gamma_initializer=Ones(), beta_initializer=Constant(0.25)),\n",
    "                  ReLU()])\n",
    "    if dropout_rate > 0:\n",
    "        layers.append(Dropout(dropout_rate))\n",
    "    return Sequential(layers)"
   ]
  },
  {
   "cell_type": "code",
   "execution_count": 5,
   "id": "0a2e9c13",
   "metadata": {
    "execution": {
     "iopub.execute_input": "2025-03-06T23:10:07.017600Z",
     "iopub.status.busy": "2025-03-06T23:10:07.017395Z",
     "iopub.status.idle": "2025-03-06T23:10:07.022102Z",
     "shell.execute_reply": "2025-03-06T23:10:07.021554Z"
    },
    "papermill": {
     "duration": 0.008255,
     "end_time": "2025-03-06T23:10:07.023262",
     "exception": false,
     "start_time": "2025-03-06T23:10:07.015007",
     "status": "completed"
    },
    "tags": []
   },
   "outputs": [],
   "source": [
    "def build_model():\n",
    "    base_model = MobileNetV2(weights='imagenet', include_top=False,\n",
    "                             input_shape=(WIDTH, HEIGHT, 3))\n",
    "    base_model.trainable = False\n",
    "    x = base_model.output\n",
    "    x = GlobalAveragePooling2D()(x)\n",
    "\n",
    "    fc_layers = Sequential([\n",
    "        make_dense_layer(1024, input_shape=(x.shape[-1],)),\n",
    "        make_dense_layer(8)\n",
    "    ])\n",
    "    x = fc_layers(x)\n",
    "    predictions = Dense(train_generator.num_classes,\n",
    "                        activation='softmax',\n",
    "                        kernel_initializer=HeNormal())(x)\n",
    "\n",
    "    model = Model(inputs=base_model.input, outputs=predictions)\n",
    "    model.compile(optimizer=Adam(learning_rate=LEARNING_RATE),\n",
    "                 loss='categorical_crossentropy',\n",
    "                 metrics=['accuracy'])   \n",
    "    return model"
   ]
  },
  {
   "cell_type": "code",
   "execution_count": 6,
   "id": "4db3908f",
   "metadata": {
    "execution": {
     "iopub.execute_input": "2025-03-06T23:10:07.027670Z",
     "iopub.status.busy": "2025-03-06T23:10:07.027474Z",
     "iopub.status.idle": "2025-03-06T23:10:07.030487Z",
     "shell.execute_reply": "2025-03-06T23:10:07.029901Z"
    },
    "papermill": {
     "duration": 0.006539,
     "end_time": "2025-03-06T23:10:07.031730",
     "exception": false,
     "start_time": "2025-03-06T23:10:07.025191",
     "status": "completed"
    },
    "tags": []
   },
   "outputs": [],
   "source": [
    "class ClearMemory(Callback):\n",
    "    def on_epoch_end(self, epoch, logs=None):\n",
    "        K.clear_session()  \n",
    "        gc.collect() "
   ]
  },
  {
   "cell_type": "code",
   "execution_count": 7,
   "id": "de405f97",
   "metadata": {
    "execution": {
     "iopub.execute_input": "2025-03-06T23:10:07.036313Z",
     "iopub.status.busy": "2025-03-06T23:10:07.036085Z",
     "iopub.status.idle": "2025-03-06T23:10:10.544880Z",
     "shell.execute_reply": "2025-03-06T23:10:10.544047Z"
    },
    "papermill": {
     "duration": 3.512635,
     "end_time": "2025-03-06T23:10:10.546413",
     "exception": false,
     "start_time": "2025-03-06T23:10:07.033778",
     "status": "completed"
    },
    "tags": []
   },
   "outputs": [
    {
     "name": "stdout",
     "output_type": "stream",
     "text": [
      "Downloading data from https://storage.googleapis.com/tensorflow/keras-applications/mobilenet_v2/mobilenet_v2_weights_tf_dim_ordering_tf_kernels_1.0_224_no_top.h5\n",
      "\u001b[1m9406464/9406464\u001b[0m \u001b[32m━━━━━━━━━━━━━━━━━━━━\u001b[0m\u001b[37m\u001b[0m \u001b[1m0s\u001b[0m 0us/step\n"
     ]
    },
    {
     "name": "stderr",
     "output_type": "stream",
     "text": [
      "/usr/local/lib/python3.10/dist-packages/keras/src/layers/core/dense.py:87: UserWarning: Do not pass an `input_shape`/`input_dim` argument to a layer. When using Sequential models, prefer using an `Input(shape)` object as the first layer in the model instead.\n",
      "  super().__init__(activity_regularizer=activity_regularizer, **kwargs)\n"
     ]
    }
   ],
   "source": [
    "model = build_model()\n",
    "\n",
    "best_weights_path = \"/kaggle/working/best_weights.weights.h5\"\n",
    "\n",
    "checkpoint_callback = ModelCheckpoint(\n",
    "    filepath=best_weights_path,  \n",
    "    monitor='val_accuracy',    \n",
    "    save_best_only=True,       \n",
    "    save_weights_only=True,    \n",
    "    mode='max',                \n",
    "    verbose=1                  \n",
    ")\n",
    "\n",
    "early_stopping_callback = EarlyStopping(\n",
    "    monitor='val_loss',  \n",
    "    patience=10,              \n",
    "    mode='min',              \n",
    "    min_delta=.001,\n",
    "    restore_best_weights=True,  \n",
    "    verbose=1\n",
    ")"
   ]
  },
  {
   "cell_type": "code",
   "execution_count": 8,
   "id": "12e514b8",
   "metadata": {
    "execution": {
     "iopub.execute_input": "2025-03-06T23:10:10.552659Z",
     "iopub.status.busy": "2025-03-06T23:10:10.552392Z",
     "iopub.status.idle": "2025-03-06T23:32:04.803020Z",
     "shell.execute_reply": "2025-03-06T23:32:04.802268Z"
    },
    "papermill": {
     "duration": 1314.255083,
     "end_time": "2025-03-06T23:32:04.804330",
     "exception": false,
     "start_time": "2025-03-06T23:10:10.549247",
     "status": "completed"
    },
    "tags": []
   },
   "outputs": [
    {
     "name": "stdout",
     "output_type": "stream",
     "text": [
      "Epoch 1/100\n"
     ]
    },
    {
     "name": "stderr",
     "output_type": "stream",
     "text": [
      "/usr/local/lib/python3.10/dist-packages/keras/src/trainers/data_adapters/py_dataset_adapter.py:122: UserWarning: Your `PyDataset` class should call `super().__init__(**kwargs)` in its constructor. `**kwargs` can include `workers`, `use_multiprocessing`, `max_queue_size`. Do not pass these arguments to `fit()`, as they will be ignored.\n",
      "  self._warn_if_super_not_called()\n"
     ]
    },
    {
     "name": "stdout",
     "output_type": "stream",
     "text": [
      "\u001b[1m153/154\u001b[0m \u001b[32m━━━━━━━━━━━━━━━━━━━\u001b[0m\u001b[37m━\u001b[0m \u001b[1m0s\u001b[0m 523ms/step - accuracy: 0.6734 - loss: 0.7912\n",
      "Epoch 1: val_accuracy improved from -inf to 0.76466, saving model to /kaggle/working/best_weights.weights.h5\n",
      "\u001b[1m154/154\u001b[0m \u001b[32m━━━━━━━━━━━━━━━━━━━━\u001b[0m\u001b[37m\u001b[0m \u001b[1m123s\u001b[0m 702ms/step - accuracy: 0.6741 - loss: 0.7893 - val_accuracy: 0.7647 - val_loss: 0.5730\n",
      "Epoch 2/100\n",
      "\u001b[1m153/154\u001b[0m \u001b[32m━━━━━━━━━━━━━━━━━━━\u001b[0m\u001b[37m━\u001b[0m \u001b[1m0s\u001b[0m 359ms/step - accuracy: 0.7773 - loss: 0.5009\n",
      "Epoch 2: val_accuracy improved from 0.76466 to 0.77524, saving model to /kaggle/working/best_weights.weights.h5\n",
      "\u001b[1m154/154\u001b[0m \u001b[32m━━━━━━━━━━━━━━━━━━━━\u001b[0m\u001b[37m\u001b[0m \u001b[1m74s\u001b[0m 458ms/step - accuracy: 0.7774 - loss: 0.5007 - val_accuracy: 0.7752 - val_loss: 0.5231\n",
      "Epoch 3/100\n",
      "\u001b[1m153/154\u001b[0m \u001b[32m━━━━━━━━━━━━━━━━━━━\u001b[0m\u001b[37m━\u001b[0m \u001b[1m0s\u001b[0m 358ms/step - accuracy: 0.8008 - loss: 0.4528\n",
      "Epoch 3: val_accuracy improved from 0.77524 to 0.81515, saving model to /kaggle/working/best_weights.weights.h5\n",
      "\u001b[1m154/154\u001b[0m \u001b[32m━━━━━━━━━━━━━━━━━━━━\u001b[0m\u001b[37m\u001b[0m \u001b[1m74s\u001b[0m 458ms/step - accuracy: 0.8008 - loss: 0.4528 - val_accuracy: 0.8151 - val_loss: 0.4167\n",
      "Epoch 4/100\n",
      "\u001b[1m153/154\u001b[0m \u001b[32m━━━━━━━━━━━━━━━━━━━\u001b[0m\u001b[37m━\u001b[0m \u001b[1m0s\u001b[0m 358ms/step - accuracy: 0.8243 - loss: 0.4116\n",
      "Epoch 4: val_accuracy improved from 0.81515 to 0.81596, saving model to /kaggle/working/best_weights.weights.h5\n",
      "\u001b[1m154/154\u001b[0m \u001b[32m━━━━━━━━━━━━━━━━━━━━\u001b[0m\u001b[37m\u001b[0m \u001b[1m74s\u001b[0m 459ms/step - accuracy: 0.8242 - loss: 0.4118 - val_accuracy: 0.8160 - val_loss: 0.4399\n",
      "Epoch 5/100\n",
      "\u001b[1m153/154\u001b[0m \u001b[32m━━━━━━━━━━━━━━━━━━━\u001b[0m\u001b[37m━\u001b[0m \u001b[1m0s\u001b[0m 363ms/step - accuracy: 0.8185 - loss: 0.4070\n",
      "Epoch 5: val_accuracy did not improve from 0.81596\n",
      "\u001b[1m154/154\u001b[0m \u001b[32m━━━━━━━━━━━━━━━━━━━━\u001b[0m\u001b[37m\u001b[0m \u001b[1m74s\u001b[0m 458ms/step - accuracy: 0.8185 - loss: 0.4071 - val_accuracy: 0.8021 - val_loss: 0.4194\n",
      "Epoch 6/100\n",
      "\u001b[1m153/154\u001b[0m \u001b[32m━━━━━━━━━━━━━━━━━━━\u001b[0m\u001b[37m━\u001b[0m \u001b[1m0s\u001b[0m 358ms/step - accuracy: 0.8264 - loss: 0.4018\n",
      "Epoch 6: val_accuracy did not improve from 0.81596\n",
      "\u001b[1m154/154\u001b[0m \u001b[32m━━━━━━━━━━━━━━━━━━━━\u001b[0m\u001b[37m\u001b[0m \u001b[1m73s\u001b[0m 453ms/step - accuracy: 0.8263 - loss: 0.4018 - val_accuracy: 0.7989 - val_loss: 0.4225\n",
      "Epoch 7/100\n",
      "\u001b[1m153/154\u001b[0m \u001b[32m━━━━━━━━━━━━━━━━━━━\u001b[0m\u001b[37m━\u001b[0m \u001b[1m0s\u001b[0m 357ms/step - accuracy: 0.8216 - loss: 0.4057\n",
      "Epoch 7: val_accuracy improved from 0.81596 to 0.84039, saving model to /kaggle/working/best_weights.weights.h5\n",
      "\u001b[1m154/154\u001b[0m \u001b[32m━━━━━━━━━━━━━━━━━━━━\u001b[0m\u001b[37m\u001b[0m \u001b[1m73s\u001b[0m 455ms/step - accuracy: 0.8216 - loss: 0.4056 - val_accuracy: 0.8404 - val_loss: 0.3982\n",
      "Epoch 8/100\n",
      "\u001b[1m153/154\u001b[0m \u001b[32m━━━━━━━━━━━━━━━━━━━\u001b[0m\u001b[37m━\u001b[0m \u001b[1m0s\u001b[0m 355ms/step - accuracy: 0.8306 - loss: 0.3905\n",
      "Epoch 8: val_accuracy did not improve from 0.84039\n",
      "\u001b[1m154/154\u001b[0m \u001b[32m━━━━━━━━━━━━━━━━━━━━\u001b[0m\u001b[37m\u001b[0m \u001b[1m73s\u001b[0m 450ms/step - accuracy: 0.8306 - loss: 0.3904 - val_accuracy: 0.7541 - val_loss: 0.5826\n",
      "Epoch 9/100\n",
      "\u001b[1m153/154\u001b[0m \u001b[32m━━━━━━━━━━━━━━━━━━━\u001b[0m\u001b[37m━\u001b[0m \u001b[1m0s\u001b[0m 359ms/step - accuracy: 0.8263 - loss: 0.3656\n",
      "Epoch 9: val_accuracy did not improve from 0.84039\n",
      "\u001b[1m154/154\u001b[0m \u001b[32m━━━━━━━━━━━━━━━━━━━━\u001b[0m\u001b[37m\u001b[0m \u001b[1m73s\u001b[0m 455ms/step - accuracy: 0.8263 - loss: 0.3657 - val_accuracy: 0.8021 - val_loss: 0.4413\n",
      "Epoch 10/100\n",
      "\u001b[1m153/154\u001b[0m \u001b[32m━━━━━━━━━━━━━━━━━━━\u001b[0m\u001b[37m━\u001b[0m \u001b[1m0s\u001b[0m 357ms/step - accuracy: 0.8354 - loss: 0.3678\n",
      "Epoch 10: val_accuracy did not improve from 0.84039\n",
      "\u001b[1m154/154\u001b[0m \u001b[32m━━━━━━━━━━━━━━━━━━━━\u001b[0m\u001b[37m\u001b[0m \u001b[1m73s\u001b[0m 452ms/step - accuracy: 0.8354 - loss: 0.3679 - val_accuracy: 0.8111 - val_loss: 0.4286\n",
      "Epoch 11/100\n",
      "\u001b[1m153/154\u001b[0m \u001b[32m━━━━━━━━━━━━━━━━━━━\u001b[0m\u001b[37m━\u001b[0m \u001b[1m0s\u001b[0m 361ms/step - accuracy: 0.8333 - loss: 0.3791\n",
      "Epoch 11: val_accuracy did not improve from 0.84039\n",
      "\u001b[1m154/154\u001b[0m \u001b[32m━━━━━━━━━━━━━━━━━━━━\u001b[0m\u001b[37m\u001b[0m \u001b[1m73s\u001b[0m 456ms/step - accuracy: 0.8334 - loss: 0.3790 - val_accuracy: 0.8021 - val_loss: 0.4737\n",
      "Epoch 12/100\n",
      "\u001b[1m153/154\u001b[0m \u001b[32m━━━━━━━━━━━━━━━━━━━\u001b[0m\u001b[37m━\u001b[0m \u001b[1m0s\u001b[0m 356ms/step - accuracy: 0.8220 - loss: 0.3653\n",
      "Epoch 12: val_accuracy did not improve from 0.84039\n",
      "\u001b[1m154/154\u001b[0m \u001b[32m━━━━━━━━━━━━━━━━━━━━\u001b[0m\u001b[37m\u001b[0m \u001b[1m73s\u001b[0m 452ms/step - accuracy: 0.8221 - loss: 0.3652 - val_accuracy: 0.8078 - val_loss: 0.4299\n",
      "Epoch 13/100\n",
      "\u001b[1m153/154\u001b[0m \u001b[32m━━━━━━━━━━━━━━━━━━━\u001b[0m\u001b[37m━\u001b[0m \u001b[1m0s\u001b[0m 358ms/step - accuracy: 0.8371 - loss: 0.3712\n",
      "Epoch 13: val_accuracy did not improve from 0.84039\n",
      "\u001b[1m154/154\u001b[0m \u001b[32m━━━━━━━━━━━━━━━━━━━━\u001b[0m\u001b[37m\u001b[0m \u001b[1m74s\u001b[0m 458ms/step - accuracy: 0.8372 - loss: 0.3711 - val_accuracy: 0.8249 - val_loss: 0.4303\n",
      "Epoch 14/100\n",
      "\u001b[1m153/154\u001b[0m \u001b[32m━━━━━━━━━━━━━━━━━━━\u001b[0m\u001b[37m━\u001b[0m \u001b[1m0s\u001b[0m 363ms/step - accuracy: 0.8370 - loss: 0.3575\n",
      "Epoch 14: val_accuracy did not improve from 0.84039\n",
      "\u001b[1m154/154\u001b[0m \u001b[32m━━━━━━━━━━━━━━━━━━━━\u001b[0m\u001b[37m\u001b[0m \u001b[1m74s\u001b[0m 460ms/step - accuracy: 0.8371 - loss: 0.3574 - val_accuracy: 0.8111 - val_loss: 0.4368\n",
      "Epoch 15/100\n",
      "\u001b[1m153/154\u001b[0m \u001b[32m━━━━━━━━━━━━━━━━━━━\u001b[0m\u001b[37m━\u001b[0m \u001b[1m0s\u001b[0m 357ms/step - accuracy: 0.8494 - loss: 0.3419\n",
      "Epoch 15: val_accuracy did not improve from 0.84039\n",
      "\u001b[1m154/154\u001b[0m \u001b[32m━━━━━━━━━━━━━━━━━━━━\u001b[0m\u001b[37m\u001b[0m \u001b[1m73s\u001b[0m 451ms/step - accuracy: 0.8494 - loss: 0.3420 - val_accuracy: 0.8037 - val_loss: 0.4319\n",
      "Epoch 16/100\n",
      "\u001b[1m153/154\u001b[0m \u001b[32m━━━━━━━━━━━━━━━━━━━\u001b[0m\u001b[37m━\u001b[0m \u001b[1m0s\u001b[0m 362ms/step - accuracy: 0.8411 - loss: 0.3644\n",
      "Epoch 16: val_accuracy did not improve from 0.84039\n",
      "\u001b[1m154/154\u001b[0m \u001b[32m━━━━━━━━━━━━━━━━━━━━\u001b[0m\u001b[37m\u001b[0m \u001b[1m74s\u001b[0m 458ms/step - accuracy: 0.8410 - loss: 0.3643 - val_accuracy: 0.8127 - val_loss: 0.4247\n",
      "Epoch 17/100\n",
      "\u001b[1m153/154\u001b[0m \u001b[32m━━━━━━━━━━━━━━━━━━━\u001b[0m\u001b[37m━\u001b[0m \u001b[1m0s\u001b[0m 358ms/step - accuracy: 0.8447 - loss: 0.3412\n",
      "Epoch 17: val_accuracy did not improve from 0.84039\n",
      "\u001b[1m154/154\u001b[0m \u001b[32m━━━━━━━━━━━━━━━━━━━━\u001b[0m\u001b[37m\u001b[0m \u001b[1m74s\u001b[0m 457ms/step - accuracy: 0.8448 - loss: 0.3411 - val_accuracy: 0.8111 - val_loss: 0.4443\n",
      "Epoch 17: early stopping\n",
      "Restoring model weights from the end of the best epoch: 7.\n",
      "\u001b[1m38/38\u001b[0m \u001b[32m━━━━━━━━━━━━━━━━━━━━\u001b[0m\u001b[37m\u001b[0m \u001b[1m15s\u001b[0m 377ms/step - accuracy: 0.8300 - loss: 0.4178\n",
      "Test Accuracy Before Fine-tuning: 84.05%\n"
     ]
    }
   ],
   "source": [
    "history = model.fit(\n",
    "    train_generator,\n",
    "    epochs=EPOCHS,\n",
    "    validation_data=validation_generator,\n",
    "    callbacks=[checkpoint_callback, early_stopping_callback, ClearMemory()]\n",
    ")\n",
    "\n",
    "initial_test_loss, initial_test_acc = model.evaluate(validation_generator, \n",
    "                                                     steps=validation_generator.samples // BATCH_SIZE)\n",
    "\n",
    "print(f\"Test Accuracy Before Fine-tuning: {initial_test_acc*100:.2f}%\")"
   ]
  }
 ],
 "metadata": {
  "kaggle": {
   "accelerator": "nvidiaTeslaT4",
   "dataSources": [
    {
     "datasetId": 6807513,
     "sourceId": 10945047,
     "sourceType": "datasetVersion"
    }
   ],
   "dockerImageVersionId": 30919,
   "isGpuEnabled": true,
   "isInternetEnabled": true,
   "language": "python",
   "sourceType": "notebook"
  },
  "kernelspec": {
   "display_name": "Python 3",
   "language": "python",
   "name": "python3"
  },
  "language_info": {
   "codemirror_mode": {
    "name": "ipython",
    "version": 3
   },
   "file_extension": ".py",
   "mimetype": "text/x-python",
   "name": "python",
   "nbconvert_exporter": "python",
   "pygments_lexer": "ipython3",
   "version": "3.10.12"
  },
  "papermill": {
   "default_parameters": {},
   "duration": 1347.297847,
   "end_time": "2025-03-06T23:32:07.773436",
   "environment_variables": {},
   "exception": null,
   "input_path": "__notebook__.ipynb",
   "output_path": "__notebook__.ipynb",
   "parameters": {},
   "start_time": "2025-03-06T23:09:40.475589",
   "version": "2.6.0"
  }
 },
 "nbformat": 4,
 "nbformat_minor": 5
}
