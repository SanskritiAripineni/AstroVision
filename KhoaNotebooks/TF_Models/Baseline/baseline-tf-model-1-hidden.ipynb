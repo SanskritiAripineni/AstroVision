{
 "cells": [
  {
   "cell_type": "code",
   "execution_count": 1,
   "id": "076e1fae",
   "metadata": {
    "_cell_guid": "b1076dfc-b9ad-4769-8c92-a6c4dae69d19",
    "_uuid": "8f2839f25d086af736a60e9eeb907d3b93b6e0e5",
    "execution": {
     "iopub.execute_input": "2025-03-06T23:37:54.057296Z",
     "iopub.status.busy": "2025-03-06T23:37:54.056953Z",
     "iopub.status.idle": "2025-03-06T23:38:08.792973Z",
     "shell.execute_reply": "2025-03-06T23:38:08.791953Z"
    },
    "papermill": {
     "duration": 14.741389,
     "end_time": "2025-03-06T23:38:08.794717",
     "exception": false,
     "start_time": "2025-03-06T23:37:54.053328",
     "status": "completed"
    },
    "tags": []
   },
   "outputs": [],
   "source": [
    "import numpy as np\n",
    "import matplotlib.pyplot as plt\n",
    "import seaborn as sea\n",
    "import tensorflow as tf\n",
    "import random\n",
    "import gc\n",
    "\n",
    "import tensorflow.keras.backend as K\n",
    "from tensorflow.keras.callbacks import Callback\n",
    "from tensorflow.keras.preprocessing.image import ImageDataGenerator\n",
    "from tensorflow.keras.applications import MobileNetV2\n",
    "from tensorflow.keras.models import Model, Sequential\n",
    "from tensorflow.keras.layers import Dense, GlobalAveragePooling2D, ReLU, BatchNormalization\n",
    "from tensorflow.keras.initializers import HeNormal, Ones, Constant\n",
    "from tensorflow.keras.optimizers import Adam\n",
    "from tensorflow.keras.callbacks import ModelCheckpoint, EarlyStopping"
   ]
  },
  {
   "cell_type": "code",
   "execution_count": 2,
   "id": "811e557b",
   "metadata": {
    "execution": {
     "iopub.execute_input": "2025-03-06T23:38:08.800450Z",
     "iopub.status.busy": "2025-03-06T23:38:08.799930Z",
     "iopub.status.idle": "2025-03-06T23:38:08.804317Z",
     "shell.execute_reply": "2025-03-06T23:38:08.803412Z"
    },
    "papermill": {
     "duration": 0.008439,
     "end_time": "2025-03-06T23:38:08.805675",
     "exception": false,
     "start_time": "2025-03-06T23:38:08.797236",
     "status": "completed"
    },
    "tags": []
   },
   "outputs": [],
   "source": [
    "SEED = 3126  \n",
    "random.seed(SEED)\n",
    "np.random.seed(SEED)\n",
    "tf.random.set_seed(SEED)"
   ]
  },
  {
   "cell_type": "code",
   "execution_count": 3,
   "id": "84d1ddad",
   "metadata": {
    "execution": {
     "iopub.execute_input": "2025-03-06T23:38:08.810536Z",
     "iopub.status.busy": "2025-03-06T23:38:08.810276Z",
     "iopub.status.idle": "2025-03-06T23:38:17.946733Z",
     "shell.execute_reply": "2025-03-06T23:38:17.946035Z"
    },
    "papermill": {
     "duration": 9.140645,
     "end_time": "2025-03-06T23:38:17.948368",
     "exception": false,
     "start_time": "2025-03-06T23:38:08.807723",
     "status": "completed"
    },
    "tags": []
   },
   "outputs": [
    {
     "name": "stdout",
     "output_type": "stream",
     "text": [
      "Found 4913 images belonging to 4 classes.\n",
      "Found 1228 images belonging to 4 classes.\n"
     ]
    }
   ],
   "source": [
    "WIDTH, HEIGHT = 224, 224\n",
    "BATCH_SIZE = 32\n",
    "LEARNING_RATE = .01\n",
    "EPOCHS = 100\n",
    "DIR = \"/kaggle/input/finalized-astrovision-data\"\n",
    "\n",
    "train_datagen = ImageDataGenerator(\n",
    "    rescale=1./255,\n",
    "    rotation_range=30,\n",
    "    width_shift_range=0,\n",
    "    height_shift_range=0,\n",
    "    shear_range=0.2,\n",
    "    zoom_range=0.2,\n",
    "    horizontal_flip=True,\n",
    "    fill_mode='nearest',\n",
    "    validation_split=0.2\n",
    ")\n",
    "\n",
    "train_generator = train_datagen.flow_from_directory(\n",
    "    DIR,\n",
    "    target_size=(WIDTH, HEIGHT),\n",
    "    batch_size=BATCH_SIZE,\n",
    "    class_mode='categorical',\n",
    "    subset='training',\n",
    "    seed=SEED  \n",
    ")\n",
    "\n",
    "validation_generator = train_datagen.flow_from_directory(\n",
    "    DIR,\n",
    "    target_size=(WIDTH, HEIGHT),\n",
    "    batch_size=BATCH_SIZE,\n",
    "    class_mode='categorical',\n",
    "    subset='validation',\n",
    "    seed=SEED \n",
    ")"
   ]
  },
  {
   "cell_type": "code",
   "execution_count": 4,
   "id": "c6d1f219",
   "metadata": {
    "execution": {
     "iopub.execute_input": "2025-03-06T23:38:17.954472Z",
     "iopub.status.busy": "2025-03-06T23:38:17.954193Z",
     "iopub.status.idle": "2025-03-06T23:38:17.959255Z",
     "shell.execute_reply": "2025-03-06T23:38:17.958357Z"
    },
    "papermill": {
     "duration": 0.00938,
     "end_time": "2025-03-06T23:38:17.960497",
     "exception": false,
     "start_time": "2025-03-06T23:38:17.951117",
     "status": "completed"
    },
    "tags": []
   },
   "outputs": [],
   "source": [
    "def make_dense_layer(input_size, dropout_rate=0.0, input_shape=None):\n",
    "    layers = []\n",
    "    if input_shape:\n",
    "        layers.append(Dense(input_size,\n",
    "                            use_bias=False, \n",
    "                            input_shape=input_shape,\n",
    "                            kernel_initializer=HeNormal()\n",
    "                            ))\n",
    "    else:\n",
    "        layers.append(Dense(input_size, use_bias=False, kernel_initializer=HeNormal()))\n",
    "    layers.extend([BatchNormalization(gamma_initializer=Ones(), beta_initializer=Constant(0.25)),\n",
    "                  ReLU()])\n",
    "    if dropout_rate > 0:\n",
    "        layers.append(Dropout(dropout_rate))\n",
    "    return Sequential(layers)"
   ]
  },
  {
   "cell_type": "code",
   "execution_count": 5,
   "id": "faa312d4",
   "metadata": {
    "execution": {
     "iopub.execute_input": "2025-03-06T23:38:17.965561Z",
     "iopub.status.busy": "2025-03-06T23:38:17.965314Z",
     "iopub.status.idle": "2025-03-06T23:38:17.970440Z",
     "shell.execute_reply": "2025-03-06T23:38:17.969546Z"
    },
    "papermill": {
     "duration": 0.008958,
     "end_time": "2025-03-06T23:38:17.971658",
     "exception": false,
     "start_time": "2025-03-06T23:38:17.962700",
     "status": "completed"
    },
    "tags": []
   },
   "outputs": [],
   "source": [
    "def build_model():\n",
    "    base_model = MobileNetV2(weights='imagenet', include_top=False,\n",
    "                             input_shape=(WIDTH, HEIGHT, 3))\n",
    "    base_model.trainable = False\n",
    "    x = base_model.output\n",
    "    x = GlobalAveragePooling2D()(x)\n",
    "\n",
    "    fc_layers = Sequential([\n",
    "        make_dense_layer(1024, input_shape=(x.shape[-1],)),\n",
    "    ])\n",
    "    x = fc_layers(x)\n",
    "    predictions = Dense(train_generator.num_classes,\n",
    "                        activation='softmax',\n",
    "                        kernel_initializer=HeNormal())(x)\n",
    "\n",
    "    model = Model(inputs=base_model.input, outputs=predictions)\n",
    "    model.compile(optimizer=Adam(learning_rate=LEARNING_RATE),\n",
    "                 loss='categorical_crossentropy',\n",
    "                 metrics=['accuracy'])   \n",
    "    return model"
   ]
  },
  {
   "cell_type": "code",
   "execution_count": 6,
   "id": "07f185e7",
   "metadata": {
    "execution": {
     "iopub.execute_input": "2025-03-06T23:38:17.976673Z",
     "iopub.status.busy": "2025-03-06T23:38:17.976443Z",
     "iopub.status.idle": "2025-03-06T23:38:17.980002Z",
     "shell.execute_reply": "2025-03-06T23:38:17.979171Z"
    },
    "papermill": {
     "duration": 0.00738,
     "end_time": "2025-03-06T23:38:17.981224",
     "exception": false,
     "start_time": "2025-03-06T23:38:17.973844",
     "status": "completed"
    },
    "tags": []
   },
   "outputs": [],
   "source": [
    "class ClearMemory(Callback):\n",
    "    def on_epoch_end(self, epoch, logs=None):\n",
    "        K.clear_session()  \n",
    "        gc.collect() "
   ]
  },
  {
   "cell_type": "code",
   "execution_count": 7,
   "id": "58695356",
   "metadata": {
    "execution": {
     "iopub.execute_input": "2025-03-06T23:38:17.986208Z",
     "iopub.status.busy": "2025-03-06T23:38:17.985970Z",
     "iopub.status.idle": "2025-03-06T23:38:21.712046Z",
     "shell.execute_reply": "2025-03-06T23:38:21.711091Z"
    },
    "papermill": {
     "duration": 3.730948,
     "end_time": "2025-03-06T23:38:21.714284",
     "exception": false,
     "start_time": "2025-03-06T23:38:17.983336",
     "status": "completed"
    },
    "tags": []
   },
   "outputs": [
    {
     "name": "stdout",
     "output_type": "stream",
     "text": [
      "Downloading data from https://storage.googleapis.com/tensorflow/keras-applications/mobilenet_v2/mobilenet_v2_weights_tf_dim_ordering_tf_kernels_1.0_224_no_top.h5\n",
      "\u001b[1m9406464/9406464\u001b[0m \u001b[32m━━━━━━━━━━━━━━━━━━━━\u001b[0m\u001b[37m\u001b[0m \u001b[1m0s\u001b[0m 0us/step\n"
     ]
    },
    {
     "name": "stderr",
     "output_type": "stream",
     "text": [
      "/usr/local/lib/python3.10/dist-packages/keras/src/layers/core/dense.py:87: UserWarning: Do not pass an `input_shape`/`input_dim` argument to a layer. When using Sequential models, prefer using an `Input(shape)` object as the first layer in the model instead.\n",
      "  super().__init__(activity_regularizer=activity_regularizer, **kwargs)\n"
     ]
    }
   ],
   "source": [
    "model = build_model()\n",
    "\n",
    "best_weights_path = \"/kaggle/working/best_weights.weights.h5\"\n",
    "\n",
    "checkpoint_callback = ModelCheckpoint(\n",
    "    filepath=best_weights_path,  \n",
    "    monitor='val_accuracy',    \n",
    "    save_best_only=True,       \n",
    "    save_weights_only=True,    \n",
    "    mode='max',                \n",
    "    verbose=1                  \n",
    ")\n",
    "\n",
    "early_stopping_callback = EarlyStopping(\n",
    "    monitor='val_loss',  \n",
    "    patience=10,              \n",
    "    mode='min',              \n",
    "    min_delta=.001,\n",
    "    restore_best_weights=True,  \n",
    "    verbose=1\n",
    ")"
   ]
  },
  {
   "cell_type": "code",
   "execution_count": 8,
   "id": "817a8bdd",
   "metadata": {
    "execution": {
     "iopub.execute_input": "2025-03-06T23:38:21.726026Z",
     "iopub.status.busy": "2025-03-06T23:38:21.725665Z",
     "iopub.status.idle": "2025-03-07T00:09:14.670205Z",
     "shell.execute_reply": "2025-03-07T00:09:14.669169Z"
    },
    "papermill": {
     "duration": 1852.949801,
     "end_time": "2025-03-07T00:09:14.671818",
     "exception": false,
     "start_time": "2025-03-06T23:38:21.722017",
     "status": "completed"
    },
    "tags": []
   },
   "outputs": [
    {
     "name": "stdout",
     "output_type": "stream",
     "text": [
      "Epoch 1/100\n"
     ]
    },
    {
     "name": "stderr",
     "output_type": "stream",
     "text": [
      "/usr/local/lib/python3.10/dist-packages/keras/src/trainers/data_adapters/py_dataset_adapter.py:122: UserWarning: Your `PyDataset` class should call `super().__init__(**kwargs)` in its constructor. `**kwargs` can include `workers`, `use_multiprocessing`, `max_queue_size`. Do not pass these arguments to `fit()`, as they will be ignored.\n",
      "  self._warn_if_super_not_called()\n"
     ]
    },
    {
     "name": "stdout",
     "output_type": "stream",
     "text": [
      "\u001b[1m153/154\u001b[0m \u001b[32m━━━━━━━━━━━━━━━━━━━\u001b[0m\u001b[37m━\u001b[0m \u001b[1m0s\u001b[0m 532ms/step - accuracy: 0.6706 - loss: 1.2830\n",
      "Epoch 1: val_accuracy improved from -inf to 0.75000, saving model to /kaggle/working/best_weights.weights.h5\n",
      "\u001b[1m154/154\u001b[0m \u001b[32m━━━━━━━━━━━━━━━━━━━━\u001b[0m\u001b[37m\u001b[0m \u001b[1m125s\u001b[0m 714ms/step - accuracy: 0.6711 - loss: 1.2779 - val_accuracy: 0.7500 - val_loss: 0.6580\n",
      "Epoch 2/100\n",
      "\u001b[1m153/154\u001b[0m \u001b[32m━━━━━━━━━━━━━━━━━━━\u001b[0m\u001b[37m━\u001b[0m \u001b[1m0s\u001b[0m 393ms/step - accuracy: 0.7670 - loss: 0.5598\n",
      "Epoch 2: val_accuracy improved from 0.75000 to 0.79479, saving model to /kaggle/working/best_weights.weights.h5\n",
      "\u001b[1m154/154\u001b[0m \u001b[32m━━━━━━━━━━━━━━━━━━━━\u001b[0m\u001b[37m\u001b[0m \u001b[1m81s\u001b[0m 502ms/step - accuracy: 0.7671 - loss: 0.5595 - val_accuracy: 0.7948 - val_loss: 0.4532\n",
      "Epoch 3/100\n",
      "\u001b[1m153/154\u001b[0m \u001b[32m━━━━━━━━━━━━━━━━━━━\u001b[0m\u001b[37m━\u001b[0m \u001b[1m0s\u001b[0m 391ms/step - accuracy: 0.7887 - loss: 0.4774\n",
      "Epoch 3: val_accuracy improved from 0.79479 to 0.80863, saving model to /kaggle/working/best_weights.weights.h5\n",
      "\u001b[1m154/154\u001b[0m \u001b[32m━━━━━━━━━━━━━━━━━━━━\u001b[0m\u001b[37m\u001b[0m \u001b[1m80s\u001b[0m 499ms/step - accuracy: 0.7886 - loss: 0.4773 - val_accuracy: 0.8086 - val_loss: 0.4574\n",
      "Epoch 4/100\n",
      "\u001b[1m153/154\u001b[0m \u001b[32m━━━━━━━━━━━━━━━━━━━\u001b[0m\u001b[37m━\u001b[0m \u001b[1m0s\u001b[0m 392ms/step - accuracy: 0.8097 - loss: 0.4180\n",
      "Epoch 4: val_accuracy did not improve from 0.80863\n",
      "\u001b[1m154/154\u001b[0m \u001b[32m━━━━━━━━━━━━━━━━━━━━\u001b[0m\u001b[37m\u001b[0m \u001b[1m80s\u001b[0m 497ms/step - accuracy: 0.8096 - loss: 0.4182 - val_accuracy: 0.7793 - val_loss: 0.4700\n",
      "Epoch 5/100\n",
      "\u001b[1m153/154\u001b[0m \u001b[32m━━━━━━━━━━━━━━━━━━━\u001b[0m\u001b[37m━\u001b[0m \u001b[1m0s\u001b[0m 394ms/step - accuracy: 0.8067 - loss: 0.4210\n",
      "Epoch 5: val_accuracy did not improve from 0.80863\n",
      "\u001b[1m154/154\u001b[0m \u001b[32m━━━━━━━━━━━━━━━━━━━━\u001b[0m\u001b[37m\u001b[0m \u001b[1m80s\u001b[0m 497ms/step - accuracy: 0.8067 - loss: 0.4211 - val_accuracy: 0.7883 - val_loss: 0.4567\n",
      "Epoch 6/100\n",
      "\u001b[1m153/154\u001b[0m \u001b[32m━━━━━━━━━━━━━━━━━━━\u001b[0m\u001b[37m━\u001b[0m \u001b[1m0s\u001b[0m 389ms/step - accuracy: 0.8225 - loss: 0.4145\n",
      "Epoch 6: val_accuracy improved from 0.80863 to 0.80945, saving model to /kaggle/working/best_weights.weights.h5\n",
      "\u001b[1m154/154\u001b[0m \u001b[32m━━━━━━━━━━━━━━━━━━━━\u001b[0m\u001b[37m\u001b[0m \u001b[1m80s\u001b[0m 496ms/step - accuracy: 0.8224 - loss: 0.4143 - val_accuracy: 0.8094 - val_loss: 0.4366\n",
      "Epoch 7/100\n",
      "\u001b[1m153/154\u001b[0m \u001b[32m━━━━━━━━━━━━━━━━━━━\u001b[0m\u001b[37m━\u001b[0m \u001b[1m0s\u001b[0m 388ms/step - accuracy: 0.8156 - loss: 0.4290\n",
      "Epoch 7: val_accuracy improved from 0.80945 to 0.81759, saving model to /kaggle/working/best_weights.weights.h5\n",
      "\u001b[1m154/154\u001b[0m \u001b[32m━━━━━━━━━━━━━━━━━━━━\u001b[0m\u001b[37m\u001b[0m \u001b[1m80s\u001b[0m 495ms/step - accuracy: 0.8157 - loss: 0.4287 - val_accuracy: 0.8176 - val_loss: 0.4493\n",
      "Epoch 8/100\n",
      "\u001b[1m153/154\u001b[0m \u001b[32m━━━━━━━━━━━━━━━━━━━\u001b[0m\u001b[37m━\u001b[0m \u001b[1m0s\u001b[0m 389ms/step - accuracy: 0.8222 - loss: 0.4080\n",
      "Epoch 8: val_accuracy did not improve from 0.81759\n",
      "\u001b[1m154/154\u001b[0m \u001b[32m━━━━━━━━━━━━━━━━━━━━\u001b[0m\u001b[37m\u001b[0m \u001b[1m79s\u001b[0m 494ms/step - accuracy: 0.8223 - loss: 0.4079 - val_accuracy: 0.7459 - val_loss: 0.5452\n",
      "Epoch 9/100\n",
      "\u001b[1m153/154\u001b[0m \u001b[32m━━━━━━━━━━━━━━━━━━━\u001b[0m\u001b[37m━\u001b[0m \u001b[1m0s\u001b[0m 384ms/step - accuracy: 0.8286 - loss: 0.3726\n",
      "Epoch 9: val_accuracy did not improve from 0.81759\n",
      "\u001b[1m154/154\u001b[0m \u001b[32m━━━━━━━━━━━━━━━━━━━━\u001b[0m\u001b[37m\u001b[0m \u001b[1m79s\u001b[0m 488ms/step - accuracy: 0.8286 - loss: 0.3726 - val_accuracy: 0.7948 - val_loss: 0.4597\n",
      "Epoch 10/100\n",
      "\u001b[1m153/154\u001b[0m \u001b[32m━━━━━━━━━━━━━━━━━━━\u001b[0m\u001b[37m━\u001b[0m \u001b[1m0s\u001b[0m 385ms/step - accuracy: 0.8306 - loss: 0.3737\n",
      "Epoch 10: val_accuracy did not improve from 0.81759\n",
      "\u001b[1m154/154\u001b[0m \u001b[32m━━━━━━━━━━━━━━━━━━━━\u001b[0m\u001b[37m\u001b[0m \u001b[1m79s\u001b[0m 488ms/step - accuracy: 0.8307 - loss: 0.3737 - val_accuracy: 0.8070 - val_loss: 0.4457\n",
      "Epoch 11/100\n",
      "\u001b[1m153/154\u001b[0m \u001b[32m━━━━━━━━━━━━━━━━━━━\u001b[0m\u001b[37m━\u001b[0m \u001b[1m0s\u001b[0m 385ms/step - accuracy: 0.8220 - loss: 0.3815\n",
      "Epoch 11: val_accuracy did not improve from 0.81759\n",
      "\u001b[1m154/154\u001b[0m \u001b[32m━━━━━━━━━━━━━━━━━━━━\u001b[0m\u001b[37m\u001b[0m \u001b[1m78s\u001b[0m 486ms/step - accuracy: 0.8221 - loss: 0.3814 - val_accuracy: 0.7907 - val_loss: 0.4929\n",
      "Epoch 12/100\n",
      "\u001b[1m153/154\u001b[0m \u001b[32m━━━━━━━━━━━━━━━━━━━\u001b[0m\u001b[37m━\u001b[0m \u001b[1m0s\u001b[0m 377ms/step - accuracy: 0.8293 - loss: 0.3691\n",
      "Epoch 12: val_accuracy improved from 0.81759 to 0.82329, saving model to /kaggle/working/best_weights.weights.h5\n",
      "\u001b[1m154/154\u001b[0m \u001b[32m━━━━━━━━━━━━━━━━━━━━\u001b[0m\u001b[37m\u001b[0m \u001b[1m78s\u001b[0m 484ms/step - accuracy: 0.8293 - loss: 0.3690 - val_accuracy: 0.8233 - val_loss: 0.4122\n",
      "Epoch 13/100\n",
      "\u001b[1m153/154\u001b[0m \u001b[32m━━━━━━━━━━━━━━━━━━━\u001b[0m\u001b[37m━\u001b[0m \u001b[1m0s\u001b[0m 381ms/step - accuracy: 0.8316 - loss: 0.3767\n",
      "Epoch 13: val_accuracy did not improve from 0.82329\n",
      "\u001b[1m154/154\u001b[0m \u001b[32m━━━━━━━━━━━━━━━━━━━━\u001b[0m\u001b[37m\u001b[0m \u001b[1m79s\u001b[0m 492ms/step - accuracy: 0.8316 - loss: 0.3766 - val_accuracy: 0.7891 - val_loss: 0.4950\n",
      "Epoch 14/100\n",
      "\u001b[1m153/154\u001b[0m \u001b[32m━━━━━━━━━━━━━━━━━━━\u001b[0m\u001b[37m━\u001b[0m \u001b[1m0s\u001b[0m 415ms/step - accuracy: 0.8262 - loss: 0.3728\n",
      "Epoch 14: val_accuracy did not improve from 0.82329\n",
      "\u001b[1m154/154\u001b[0m \u001b[32m━━━━━━━━━━━━━━━━━━━━\u001b[0m\u001b[37m\u001b[0m \u001b[1m85s\u001b[0m 527ms/step - accuracy: 0.8264 - loss: 0.3725 - val_accuracy: 0.7834 - val_loss: 0.5243\n",
      "Epoch 15/100\n",
      "\u001b[1m153/154\u001b[0m \u001b[32m━━━━━━━━━━━━━━━━━━━\u001b[0m\u001b[37m━\u001b[0m \u001b[1m0s\u001b[0m 414ms/step - accuracy: 0.8429 - loss: 0.3456\n",
      "Epoch 15: val_accuracy did not improve from 0.82329\n",
      "\u001b[1m154/154\u001b[0m \u001b[32m━━━━━━━━━━━━━━━━━━━━\u001b[0m\u001b[37m\u001b[0m \u001b[1m85s\u001b[0m 529ms/step - accuracy: 0.8429 - loss: 0.3457 - val_accuracy: 0.8111 - val_loss: 0.4189\n",
      "Epoch 16/100\n",
      "\u001b[1m153/154\u001b[0m \u001b[32m━━━━━━━━━━━━━━━━━━━\u001b[0m\u001b[37m━\u001b[0m \u001b[1m0s\u001b[0m 414ms/step - accuracy: 0.8454 - loss: 0.3542\n",
      "Epoch 16: val_accuracy did not improve from 0.82329\n",
      "\u001b[1m154/154\u001b[0m \u001b[32m━━━━━━━━━━━━━━━━━━━━\u001b[0m\u001b[37m\u001b[0m \u001b[1m84s\u001b[0m 524ms/step - accuracy: 0.8454 - loss: 0.3542 - val_accuracy: 0.8037 - val_loss: 0.4492\n",
      "Epoch 17/100\n",
      "\u001b[1m153/154\u001b[0m \u001b[32m━━━━━━━━━━━━━━━━━━━\u001b[0m\u001b[37m━\u001b[0m \u001b[1m0s\u001b[0m 408ms/step - accuracy: 0.8396 - loss: 0.3482\n",
      "Epoch 17: val_accuracy did not improve from 0.82329\n",
      "\u001b[1m154/154\u001b[0m \u001b[32m━━━━━━━━━━━━━━━━━━━━\u001b[0m\u001b[37m\u001b[0m \u001b[1m83s\u001b[0m 518ms/step - accuracy: 0.8397 - loss: 0.3482 - val_accuracy: 0.8151 - val_loss: 0.4474\n",
      "Epoch 18/100\n",
      "\u001b[1m153/154\u001b[0m \u001b[32m━━━━━━━━━━━━━━━━━━━\u001b[0m\u001b[37m━\u001b[0m \u001b[1m0s\u001b[0m 408ms/step - accuracy: 0.8541 - loss: 0.3312\n",
      "Epoch 18: val_accuracy did not improve from 0.82329\n",
      "\u001b[1m154/154\u001b[0m \u001b[32m━━━━━━━━━━━━━━━━━━━━\u001b[0m\u001b[37m\u001b[0m \u001b[1m83s\u001b[0m 518ms/step - accuracy: 0.8540 - loss: 0.3314 - val_accuracy: 0.7997 - val_loss: 0.4723\n",
      "Epoch 19/100\n",
      "\u001b[1m153/154\u001b[0m \u001b[32m━━━━━━━━━━━━━━━━━━━\u001b[0m\u001b[37m━\u001b[0m \u001b[1m0s\u001b[0m 402ms/step - accuracy: 0.8648 - loss: 0.3117\n",
      "Epoch 19: val_accuracy did not improve from 0.82329\n",
      "\u001b[1m154/154\u001b[0m \u001b[32m━━━━━━━━━━━━━━━━━━━━\u001b[0m\u001b[37m\u001b[0m \u001b[1m82s\u001b[0m 510ms/step - accuracy: 0.8647 - loss: 0.3119 - val_accuracy: 0.8046 - val_loss: 0.5053\n",
      "Epoch 20/100\n",
      "\u001b[1m153/154\u001b[0m \u001b[32m━━━━━━━━━━━━━━━━━━━\u001b[0m\u001b[37m━\u001b[0m \u001b[1m0s\u001b[0m 416ms/step - accuracy: 0.8470 - loss: 0.3366\n",
      "Epoch 20: val_accuracy did not improve from 0.82329\n",
      "\u001b[1m154/154\u001b[0m \u001b[32m━━━━━━━━━━━━━━━━━━━━\u001b[0m\u001b[37m\u001b[0m \u001b[1m85s\u001b[0m 529ms/step - accuracy: 0.8469 - loss: 0.3367 - val_accuracy: 0.8086 - val_loss: 0.4560\n",
      "Epoch 21/100\n",
      "\u001b[1m153/154\u001b[0m \u001b[32m━━━━━━━━━━━━━━━━━━━\u001b[0m\u001b[37m━\u001b[0m \u001b[1m0s\u001b[0m 411ms/step - accuracy: 0.8690 - loss: 0.3066\n",
      "Epoch 21: val_accuracy did not improve from 0.82329\n",
      "\u001b[1m154/154\u001b[0m \u001b[32m━━━━━━━━━━━━━━━━━━━━\u001b[0m\u001b[37m\u001b[0m \u001b[1m83s\u001b[0m 518ms/step - accuracy: 0.8688 - loss: 0.3068 - val_accuracy: 0.8168 - val_loss: 0.4467\n",
      "Epoch 22/100\n",
      "\u001b[1m153/154\u001b[0m \u001b[32m━━━━━━━━━━━━━━━━━━━\u001b[0m\u001b[37m━\u001b[0m \u001b[1m0s\u001b[0m 406ms/step - accuracy: 0.8443 - loss: 0.3566\n",
      "Epoch 22: val_accuracy did not improve from 0.82329\n",
      "\u001b[1m154/154\u001b[0m \u001b[32m━━━━━━━━━━━━━━━━━━━━\u001b[0m\u001b[37m\u001b[0m \u001b[1m83s\u001b[0m 514ms/step - accuracy: 0.8443 - loss: 0.3564 - val_accuracy: 0.8094 - val_loss: 0.4363\n",
      "Epoch 22: early stopping\n",
      "Restoring model weights from the end of the best epoch: 12.\n",
      "\u001b[1m38/38\u001b[0m \u001b[32m━━━━━━━━━━━━━━━━━━━━\u001b[0m\u001b[37m\u001b[0m \u001b[1m17s\u001b[0m 430ms/step - accuracy: 0.8210 - loss: 0.4373\n",
      "Test Accuracy Before Fine-tuning: 82.32%\n"
     ]
    }
   ],
   "source": [
    "history = model.fit(\n",
    "    train_generator,\n",
    "    epochs=EPOCHS,\n",
    "    validation_data=validation_generator,\n",
    "    callbacks=[checkpoint_callback, early_stopping_callback, ClearMemory()]\n",
    ")\n",
    "\n",
    "initial_test_loss, initial_test_acc = model.evaluate(validation_generator, \n",
    "                                                     steps=validation_generator.samples // BATCH_SIZE)\n",
    "\n",
    "print(f\"Test Accuracy Before Fine-tuning: {initial_test_acc*100:.2f}%\")"
   ]
  }
 ],
 "metadata": {
  "kaggle": {
   "accelerator": "nvidiaTeslaT4",
   "dataSources": [
    {
     "datasetId": 6807513,
     "sourceId": 10945047,
     "sourceType": "datasetVersion"
    }
   ],
   "dockerImageVersionId": 30919,
   "isGpuEnabled": true,
   "isInternetEnabled": true,
   "language": "python",
   "sourceType": "notebook"
  },
  "kernelspec": {
   "display_name": "Python 3",
   "language": "python",
   "name": "python3"
  },
  "language_info": {
   "codemirror_mode": {
    "name": "ipython",
    "version": 3
   },
   "file_extension": ".py",
   "mimetype": "text/x-python",
   "name": "python",
   "nbconvert_exporter": "python",
   "pygments_lexer": "ipython3",
   "version": "3.10.12"
  },
  "papermill": {
   "default_parameters": {},
   "duration": 1886.714501,
   "end_time": "2025-03-07T00:09:17.944352",
   "environment_variables": {},
   "exception": null,
   "input_path": "__notebook__.ipynb",
   "output_path": "__notebook__.ipynb",
   "parameters": {},
   "start_time": "2025-03-06T23:37:51.229851",
   "version": "2.6.0"
  }
 },
 "nbformat": 4,
 "nbformat_minor": 5
}
