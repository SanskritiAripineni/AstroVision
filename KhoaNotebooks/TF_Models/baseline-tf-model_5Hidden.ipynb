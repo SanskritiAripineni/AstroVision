{
 "cells": [
  {
   "cell_type": "code",
   "execution_count": 1,
   "id": "8dd28967",
   "metadata": {
    "_cell_guid": "b1076dfc-b9ad-4769-8c92-a6c4dae69d19",
    "_uuid": "8f2839f25d086af736a60e9eeb907d3b93b6e0e5",
    "execution": {
     "iopub.execute_input": "2025-03-06T19:05:37.830088Z",
     "iopub.status.busy": "2025-03-06T19:05:37.829711Z",
     "iopub.status.idle": "2025-03-06T19:05:53.552669Z",
     "shell.execute_reply": "2025-03-06T19:05:53.551518Z"
    },
    "papermill": {
     "duration": 15.728627,
     "end_time": "2025-03-06T19:05:53.554628",
     "exception": false,
     "start_time": "2025-03-06T19:05:37.826001",
     "status": "completed"
    },
    "tags": []
   },
   "outputs": [],
   "source": [
    "import numpy as np\n",
    "import matplotlib.pyplot as plt\n",
    "import seaborn as sea\n",
    "import tensorflow as tf\n",
    "import random\n",
    "import gc\n",
    "\n",
    "import tensorflow.keras.backend as K\n",
    "from tensorflow.keras.callbacks import Callback\n",
    "from tensorflow.keras.preprocessing.image import ImageDataGenerator\n",
    "from tensorflow.keras.applications import MobileNetV2\n",
    "from tensorflow.keras.models import Model, Sequential\n",
    "from tensorflow.keras.layers import Dense, GlobalAveragePooling2D, ReLU, BatchNormalization\n",
    "from tensorflow.keras.initializers import HeNormal, Ones, Constant\n",
    "from tensorflow.keras.optimizers import Adam\n",
    "from tensorflow.keras.callbacks import ModelCheckpoint, EarlyStopping"
   ]
  },
  {
   "cell_type": "code",
   "execution_count": 2,
   "id": "21a9b7c3",
   "metadata": {
    "execution": {
     "iopub.execute_input": "2025-03-06T19:05:53.560734Z",
     "iopub.status.busy": "2025-03-06T19:05:53.560172Z",
     "iopub.status.idle": "2025-03-06T19:05:53.564648Z",
     "shell.execute_reply": "2025-03-06T19:05:53.563820Z"
    },
    "papermill": {
     "duration": 0.00863,
     "end_time": "2025-03-06T19:05:53.566058",
     "exception": false,
     "start_time": "2025-03-06T19:05:53.557428",
     "status": "completed"
    },
    "tags": []
   },
   "outputs": [],
   "source": [
    "SEED = 3126  \n",
    "random.seed(SEED)\n",
    "np.random.seed(SEED)\n",
    "tf.random.set_seed(SEED)"
   ]
  },
  {
   "cell_type": "code",
   "execution_count": 3,
   "id": "a9887c52",
   "metadata": {
    "execution": {
     "iopub.execute_input": "2025-03-06T19:05:53.571090Z",
     "iopub.status.busy": "2025-03-06T19:05:53.570806Z",
     "iopub.status.idle": "2025-03-06T19:05:58.744296Z",
     "shell.execute_reply": "2025-03-06T19:05:58.743345Z"
    },
    "papermill": {
     "duration": 5.177891,
     "end_time": "2025-03-06T19:05:58.746013",
     "exception": false,
     "start_time": "2025-03-06T19:05:53.568122",
     "status": "completed"
    },
    "tags": []
   },
   "outputs": [
    {
     "name": "stdout",
     "output_type": "stream",
     "text": [
      "Found 4913 images belonging to 4 classes.\n",
      "Found 1228 images belonging to 4 classes.\n"
     ]
    }
   ],
   "source": [
    "WIDTH, HEIGHT = 224, 224\n",
    "BATCH_SIZE = 32\n",
    "LEARNING_RATE = .01\n",
    "EPOCHS = 100\n",
    "DIR = \"/kaggle/input/finalized-astrovision-data\"\n",
    "\n",
    "train_datagen = ImageDataGenerator(\n",
    "    rescale=1./255,\n",
    "    rotation_range=30,\n",
    "    width_shift_range=0,\n",
    "    height_shift_range=0,\n",
    "    shear_range=0.2,\n",
    "    zoom_range=0.2,\n",
    "    horizontal_flip=True,\n",
    "    fill_mode='nearest',\n",
    "    validation_split=0.2\n",
    ")\n",
    "\n",
    "train_generator = train_datagen.flow_from_directory(\n",
    "    DIR,\n",
    "    target_size=(WIDTH, HEIGHT),\n",
    "    batch_size=BATCH_SIZE,\n",
    "    class_mode='categorical',\n",
    "    subset='training',\n",
    "    seed=SEED  \n",
    ")\n",
    "\n",
    "validation_generator = train_datagen.flow_from_directory(\n",
    "    DIR,\n",
    "    target_size=(WIDTH, HEIGHT),\n",
    "    batch_size=BATCH_SIZE,\n",
    "    class_mode='categorical',\n",
    "    subset='validation',\n",
    "    seed=SEED \n",
    ")"
   ]
  },
  {
   "cell_type": "code",
   "execution_count": 4,
   "id": "d1bfe9c2",
   "metadata": {
    "execution": {
     "iopub.execute_input": "2025-03-06T19:05:58.752278Z",
     "iopub.status.busy": "2025-03-06T19:05:58.752029Z",
     "iopub.status.idle": "2025-03-06T19:05:58.757063Z",
     "shell.execute_reply": "2025-03-06T19:05:58.756311Z"
    },
    "papermill": {
     "duration": 0.009353,
     "end_time": "2025-03-06T19:05:58.758426",
     "exception": false,
     "start_time": "2025-03-06T19:05:58.749073",
     "status": "completed"
    },
    "tags": []
   },
   "outputs": [],
   "source": [
    "def make_dense_layer(input_size, dropout_rate=0.0, input_shape=None):\n",
    "    layers = []\n",
    "    if input_shape:\n",
    "        layers.append(Dense(input_size,\n",
    "                            use_bias=False, \n",
    "                            input_shape=input_shape,\n",
    "                            kernel_initializer=HeNormal()\n",
    "                            ))\n",
    "    else:\n",
    "        layers.append(Dense(input_size, use_bias=False, kernel_initializer=HeNormal()))\n",
    "    layers.extend([BatchNormalization(gamma_initializer=Ones(), beta_initializer=Constant(0.25)),\n",
    "                  ReLU()])\n",
    "    if dropout_rate > 0:\n",
    "        layers.append(Dropout(dropout_rate))\n",
    "    return Sequential(layers)"
   ]
  },
  {
   "cell_type": "code",
   "execution_count": 5,
   "id": "0f3351ac",
   "metadata": {
    "execution": {
     "iopub.execute_input": "2025-03-06T19:05:58.763854Z",
     "iopub.status.busy": "2025-03-06T19:05:58.763620Z",
     "iopub.status.idle": "2025-03-06T19:05:58.768978Z",
     "shell.execute_reply": "2025-03-06T19:05:58.768174Z"
    },
    "papermill": {
     "duration": 0.009631,
     "end_time": "2025-03-06T19:05:58.770414",
     "exception": false,
     "start_time": "2025-03-06T19:05:58.760783",
     "status": "completed"
    },
    "tags": []
   },
   "outputs": [],
   "source": [
    "def build_model():\n",
    "    base_model = MobileNetV2(weights='imagenet', include_top=False,\n",
    "                             input_shape=(WIDTH, HEIGHT, 3))\n",
    "    base_model.trainable = False\n",
    "    x = base_model.output\n",
    "    x = GlobalAveragePooling2D()(x)\n",
    "\n",
    "    fc_layers = Sequential([\n",
    "        make_dense_layer(1024, input_shape=(x.shape[-1],)),\n",
    "        make_dense_layer(512),\n",
    "        make_dense_layer(256),\n",
    "        make_dense_layer(32),\n",
    "        make_dense_layer(8)\n",
    "    ])\n",
    "    x = fc_layers(x)\n",
    "    predictions = Dense(train_generator.num_classes,\n",
    "                        activation='softmax',\n",
    "                        kernel_initializer=HeNormal())(x)\n",
    "\n",
    "    model = Model(inputs=base_model.input, outputs=predictions)\n",
    "    model.compile(optimizer=Adam(learning_rate=LEARNING_RATE),\n",
    "                 loss='categorical_crossentropy',\n",
    "                 metrics=['accuracy'])   \n",
    "    return model"
   ]
  },
  {
   "cell_type": "code",
   "execution_count": 6,
   "id": "2a8a06a6",
   "metadata": {
    "execution": {
     "iopub.execute_input": "2025-03-06T19:05:58.776281Z",
     "iopub.status.busy": "2025-03-06T19:05:58.776018Z",
     "iopub.status.idle": "2025-03-06T19:05:58.779742Z",
     "shell.execute_reply": "2025-03-06T19:05:58.779000Z"
    },
    "papermill": {
     "duration": 0.008315,
     "end_time": "2025-03-06T19:05:58.781107",
     "exception": false,
     "start_time": "2025-03-06T19:05:58.772792",
     "status": "completed"
    },
    "tags": []
   },
   "outputs": [],
   "source": [
    "class ClearMemory(Callback):\n",
    "    def on_epoch_end(self, epoch, logs=None):\n",
    "        K.clear_session()  \n",
    "        gc.collect() "
   ]
  },
  {
   "cell_type": "code",
   "execution_count": 7,
   "id": "da668608",
   "metadata": {
    "execution": {
     "iopub.execute_input": "2025-03-06T19:05:58.786550Z",
     "iopub.status.busy": "2025-03-06T19:05:58.786295Z",
     "iopub.status.idle": "2025-03-06T19:06:02.717007Z",
     "shell.execute_reply": "2025-03-06T19:06:02.716014Z"
    },
    "papermill": {
     "duration": 3.935114,
     "end_time": "2025-03-06T19:06:02.718533",
     "exception": false,
     "start_time": "2025-03-06T19:05:58.783419",
     "status": "completed"
    },
    "tags": []
   },
   "outputs": [
    {
     "name": "stdout",
     "output_type": "stream",
     "text": [
      "Downloading data from https://storage.googleapis.com/tensorflow/keras-applications/mobilenet_v2/mobilenet_v2_weights_tf_dim_ordering_tf_kernels_1.0_224_no_top.h5\n",
      "\u001b[1m9406464/9406464\u001b[0m \u001b[32m━━━━━━━━━━━━━━━━━━━━\u001b[0m\u001b[37m\u001b[0m \u001b[1m0s\u001b[0m 0us/step\n"
     ]
    },
    {
     "name": "stderr",
     "output_type": "stream",
     "text": [
      "/usr/local/lib/python3.10/dist-packages/keras/src/layers/core/dense.py:87: UserWarning: Do not pass an `input_shape`/`input_dim` argument to a layer. When using Sequential models, prefer using an `Input(shape)` object as the first layer in the model instead.\n",
      "  super().__init__(activity_regularizer=activity_regularizer, **kwargs)\n"
     ]
    }
   ],
   "source": [
    "model = build_model()\n",
    "\n",
    "best_weights_path = \"/kaggle/working/best_weights.weights.h5\"\n",
    "\n",
    "checkpoint_callback = ModelCheckpoint(\n",
    "    filepath=best_weights_path,  \n",
    "    monitor='val_accuracy',    \n",
    "    save_best_only=True,       \n",
    "    save_weights_only=True,    \n",
    "    mode='max',                \n",
    "    verbose=1                  \n",
    ")\n",
    "\n",
    "early_stopping_callback = EarlyStopping(\n",
    "    monitor='val_loss',  \n",
    "    patience=10,              \n",
    "    mode='min',              \n",
    "    min_delta=.001,\n",
    "    restore_best_weights=True,  \n",
    "    verbose=1\n",
    ")"
   ]
  },
  {
   "cell_type": "code",
   "execution_count": 8,
   "id": "9b2e16a5",
   "metadata": {
    "execution": {
     "iopub.execute_input": "2025-03-06T19:06:02.724963Z",
     "iopub.status.busy": "2025-03-06T19:06:02.724667Z",
     "iopub.status.idle": "2025-03-06T19:32:24.070892Z",
     "shell.execute_reply": "2025-03-06T19:32:24.069774Z"
    },
    "papermill": {
     "duration": 1581.351061,
     "end_time": "2025-03-06T19:32:24.072469",
     "exception": false,
     "start_time": "2025-03-06T19:06:02.721408",
     "status": "completed"
    },
    "tags": []
   },
   "outputs": [
    {
     "name": "stdout",
     "output_type": "stream",
     "text": [
      "Epoch 1/100\n"
     ]
    },
    {
     "name": "stderr",
     "output_type": "stream",
     "text": [
      "/usr/local/lib/python3.10/dist-packages/keras/src/trainers/data_adapters/py_dataset_adapter.py:122: UserWarning: Your `PyDataset` class should call `super().__init__(**kwargs)` in its constructor. `**kwargs` can include `workers`, `use_multiprocessing`, `max_queue_size`. Do not pass these arguments to `fit()`, as they will be ignored.\n",
      "  self._warn_if_super_not_called()\n"
     ]
    },
    {
     "name": "stdout",
     "output_type": "stream",
     "text": [
      "\u001b[1m153/154\u001b[0m \u001b[32m━━━━━━━━━━━━━━━━━━━\u001b[0m\u001b[37m━\u001b[0m \u001b[1m0s\u001b[0m 509ms/step - accuracy: 0.6435 - loss: 0.8638\n",
      "Epoch 1: val_accuracy improved from -inf to 0.75651, saving model to /kaggle/working/best_weights.weights.h5\n",
      "\u001b[1m154/154\u001b[0m \u001b[32m━━━━━━━━━━━━━━━━━━━━\u001b[0m\u001b[37m\u001b[0m \u001b[1m123s\u001b[0m 687ms/step - accuracy: 0.6442 - loss: 0.8616 - val_accuracy: 0.7565 - val_loss: 0.6847\n",
      "Epoch 2/100\n",
      "\u001b[1m153/154\u001b[0m \u001b[32m━━━━━━━━━━━━━━━━━━━\u001b[0m\u001b[37m━\u001b[0m \u001b[1m0s\u001b[0m 392ms/step - accuracy: 0.7546 - loss: 0.5468\n",
      "Epoch 2: val_accuracy improved from 0.75651 to 0.76629, saving model to /kaggle/working/best_weights.weights.h5\n",
      "\u001b[1m154/154\u001b[0m \u001b[32m━━━━━━━━━━━━━━━━━━━━\u001b[0m\u001b[37m\u001b[0m \u001b[1m81s\u001b[0m 501ms/step - accuracy: 0.7547 - loss: 0.5466 - val_accuracy: 0.7663 - val_loss: 0.5757\n",
      "Epoch 3/100\n",
      "\u001b[1m153/154\u001b[0m \u001b[32m━━━━━━━━━━━━━━━━━━━\u001b[0m\u001b[37m━\u001b[0m \u001b[1m0s\u001b[0m 387ms/step - accuracy: 0.7872 - loss: 0.4990\n",
      "Epoch 3: val_accuracy improved from 0.76629 to 0.80212, saving model to /kaggle/working/best_weights.weights.h5\n",
      "\u001b[1m154/154\u001b[0m \u001b[32m━━━━━━━━━━━━━━━━━━━━\u001b[0m\u001b[37m\u001b[0m \u001b[1m80s\u001b[0m 495ms/step - accuracy: 0.7872 - loss: 0.4988 - val_accuracy: 0.8021 - val_loss: 0.4614\n",
      "Epoch 4/100\n",
      "\u001b[1m153/154\u001b[0m \u001b[32m━━━━━━━━━━━━━━━━━━━\u001b[0m\u001b[37m━\u001b[0m \u001b[1m0s\u001b[0m 387ms/step - accuracy: 0.8100 - loss: 0.4409\n",
      "Epoch 4: val_accuracy improved from 0.80212 to 0.81515, saving model to /kaggle/working/best_weights.weights.h5\n",
      "\u001b[1m154/154\u001b[0m \u001b[32m━━━━━━━━━━━━━━━━━━━━\u001b[0m\u001b[37m\u001b[0m \u001b[1m80s\u001b[0m 494ms/step - accuracy: 0.8099 - loss: 0.4411 - val_accuracy: 0.8151 - val_loss: 0.4322\n",
      "Epoch 5/100\n",
      "\u001b[1m153/154\u001b[0m \u001b[32m━━━━━━━━━━━━━━━━━━━\u001b[0m\u001b[37m━\u001b[0m \u001b[1m0s\u001b[0m 395ms/step - accuracy: 0.8125 - loss: 0.4299\n",
      "Epoch 5: val_accuracy did not improve from 0.81515\n",
      "\u001b[1m154/154\u001b[0m \u001b[32m━━━━━━━━━━━━━━━━━━━━\u001b[0m\u001b[37m\u001b[0m \u001b[1m81s\u001b[0m 502ms/step - accuracy: 0.8123 - loss: 0.4301 - val_accuracy: 0.7866 - val_loss: 0.4198\n",
      "Epoch 6/100\n",
      "\u001b[1m153/154\u001b[0m \u001b[32m━━━━━━━━━━━━━━━━━━━\u001b[0m\u001b[37m━\u001b[0m \u001b[1m0s\u001b[0m 388ms/step - accuracy: 0.8046 - loss: 0.4441\n",
      "Epoch 6: val_accuracy did not improve from 0.81515\n",
      "\u001b[1m154/154\u001b[0m \u001b[32m━━━━━━━━━━━━━━━━━━━━\u001b[0m\u001b[37m\u001b[0m \u001b[1m80s\u001b[0m 494ms/step - accuracy: 0.8046 - loss: 0.4439 - val_accuracy: 0.8037 - val_loss: 0.4352\n",
      "Epoch 7/100\n",
      "\u001b[1m153/154\u001b[0m \u001b[32m━━━━━━━━━━━━━━━━━━━\u001b[0m\u001b[37m━\u001b[0m \u001b[1m0s\u001b[0m 389ms/step - accuracy: 0.8142 - loss: 0.4230\n",
      "Epoch 7: val_accuracy improved from 0.81515 to 0.83550, saving model to /kaggle/working/best_weights.weights.h5\n",
      "\u001b[1m154/154\u001b[0m \u001b[32m━━━━━━━━━━━━━━━━━━━━\u001b[0m\u001b[37m\u001b[0m \u001b[1m80s\u001b[0m 496ms/step - accuracy: 0.8143 - loss: 0.4229 - val_accuracy: 0.8355 - val_loss: 0.4287\n",
      "Epoch 8/100\n",
      "\u001b[1m153/154\u001b[0m \u001b[32m━━━━━━━━━━━━━━━━━━━\u001b[0m\u001b[37m━\u001b[0m \u001b[1m0s\u001b[0m 389ms/step - accuracy: 0.8152 - loss: 0.4201\n",
      "Epoch 8: val_accuracy did not improve from 0.83550\n",
      "\u001b[1m154/154\u001b[0m \u001b[32m━━━━━━━━━━━━━━━━━━━━\u001b[0m\u001b[37m\u001b[0m \u001b[1m80s\u001b[0m 497ms/step - accuracy: 0.8152 - loss: 0.4201 - val_accuracy: 0.7875 - val_loss: 0.4971\n",
      "Epoch 9/100\n",
      "\u001b[1m153/154\u001b[0m \u001b[32m━━━━━━━━━━━━━━━━━━━\u001b[0m\u001b[37m━\u001b[0m \u001b[1m0s\u001b[0m 390ms/step - accuracy: 0.8275 - loss: 0.3874\n",
      "Epoch 9: val_accuracy did not improve from 0.83550\n",
      "\u001b[1m154/154\u001b[0m \u001b[32m━━━━━━━━━━━━━━━━━━━━\u001b[0m\u001b[37m\u001b[0m \u001b[1m80s\u001b[0m 494ms/step - accuracy: 0.8275 - loss: 0.3875 - val_accuracy: 0.8111 - val_loss: 0.4159\n",
      "Epoch 10/100\n",
      "\u001b[1m153/154\u001b[0m \u001b[32m━━━━━━━━━━━━━━━━━━━\u001b[0m\u001b[37m━\u001b[0m \u001b[1m0s\u001b[0m 388ms/step - accuracy: 0.8276 - loss: 0.3882\n",
      "Epoch 10: val_accuracy did not improve from 0.83550\n",
      "\u001b[1m154/154\u001b[0m \u001b[32m━━━━━━━━━━━━━━━━━━━━\u001b[0m\u001b[37m\u001b[0m \u001b[1m79s\u001b[0m 493ms/step - accuracy: 0.8276 - loss: 0.3883 - val_accuracy: 0.8127 - val_loss: 0.4312\n",
      "Epoch 11/100\n",
      "\u001b[1m153/154\u001b[0m \u001b[32m━━━━━━━━━━━━━━━━━━━\u001b[0m\u001b[37m━\u001b[0m \u001b[1m0s\u001b[0m 386ms/step - accuracy: 0.8267 - loss: 0.3844\n",
      "Epoch 11: val_accuracy did not improve from 0.83550\n",
      "\u001b[1m154/154\u001b[0m \u001b[32m━━━━━━━━━━━━━━━━━━━━\u001b[0m\u001b[37m\u001b[0m \u001b[1m80s\u001b[0m 494ms/step - accuracy: 0.8267 - loss: 0.3844 - val_accuracy: 0.7956 - val_loss: 0.4699\n",
      "Epoch 12/100\n",
      "\u001b[1m153/154\u001b[0m \u001b[32m━━━━━━━━━━━━━━━━━━━\u001b[0m\u001b[37m━\u001b[0m \u001b[1m0s\u001b[0m 387ms/step - accuracy: 0.8220 - loss: 0.3824\n",
      "Epoch 12: val_accuracy did not improve from 0.83550\n",
      "\u001b[1m154/154\u001b[0m \u001b[32m━━━━━━━━━━━━━━━━━━━━\u001b[0m\u001b[37m\u001b[0m \u001b[1m79s\u001b[0m 492ms/step - accuracy: 0.8222 - loss: 0.3823 - val_accuracy: 0.8094 - val_loss: 0.4475\n",
      "Epoch 13/100\n",
      "\u001b[1m153/154\u001b[0m \u001b[32m━━━━━━━━━━━━━━━━━━━\u001b[0m\u001b[37m━\u001b[0m \u001b[1m0s\u001b[0m 389ms/step - accuracy: 0.8272 - loss: 0.3937\n",
      "Epoch 13: val_accuracy did not improve from 0.83550\n",
      "\u001b[1m154/154\u001b[0m \u001b[32m━━━━━━━━━━━━━━━━━━━━\u001b[0m\u001b[37m\u001b[0m \u001b[1m80s\u001b[0m 495ms/step - accuracy: 0.8273 - loss: 0.3936 - val_accuracy: 0.8013 - val_loss: 0.4727\n",
      "Epoch 14/100\n",
      "\u001b[1m153/154\u001b[0m \u001b[32m━━━━━━━━━━━━━━━━━━━\u001b[0m\u001b[37m━\u001b[0m \u001b[1m0s\u001b[0m 390ms/step - accuracy: 0.8233 - loss: 0.3867\n",
      "Epoch 14: val_accuracy did not improve from 0.83550\n",
      "\u001b[1m154/154\u001b[0m \u001b[32m━━━━━━━━━━━━━━━━━━━━\u001b[0m\u001b[37m\u001b[0m \u001b[1m80s\u001b[0m 497ms/step - accuracy: 0.8235 - loss: 0.3864 - val_accuracy: 0.8111 - val_loss: 0.4321\n",
      "Epoch 15/100\n",
      "\u001b[1m153/154\u001b[0m \u001b[32m━━━━━━━━━━━━━━━━━━━\u001b[0m\u001b[37m━\u001b[0m \u001b[1m0s\u001b[0m 388ms/step - accuracy: 0.8527 - loss: 0.3546\n",
      "Epoch 15: val_accuracy did not improve from 0.83550\n",
      "\u001b[1m154/154\u001b[0m \u001b[32m━━━━━━━━━━━━━━━━━━━━\u001b[0m\u001b[37m\u001b[0m \u001b[1m79s\u001b[0m 492ms/step - accuracy: 0.8526 - loss: 0.3548 - val_accuracy: 0.8037 - val_loss: 0.4257\n",
      "Epoch 16/100\n",
      "\u001b[1m153/154\u001b[0m \u001b[32m━━━━━━━━━━━━━━━━━━━\u001b[0m\u001b[37m━\u001b[0m \u001b[1m0s\u001b[0m 389ms/step - accuracy: 0.8324 - loss: 0.3791\n",
      "Epoch 16: val_accuracy did not improve from 0.83550\n",
      "\u001b[1m154/154\u001b[0m \u001b[32m━━━━━━━━━━━━━━━━━━━━\u001b[0m\u001b[37m\u001b[0m \u001b[1m80s\u001b[0m 495ms/step - accuracy: 0.8325 - loss: 0.3789 - val_accuracy: 0.8143 - val_loss: 0.4236\n",
      "Epoch 17/100\n",
      "\u001b[1m153/154\u001b[0m \u001b[32m━━━━━━━━━━━━━━━━━━━\u001b[0m\u001b[37m━\u001b[0m \u001b[1m0s\u001b[0m 389ms/step - accuracy: 0.8530 - loss: 0.3479\n",
      "Epoch 17: val_accuracy did not improve from 0.83550\n",
      "\u001b[1m154/154\u001b[0m \u001b[32m━━━━━━━━━━━━━━━━━━━━\u001b[0m\u001b[37m\u001b[0m \u001b[1m80s\u001b[0m 494ms/step - accuracy: 0.8530 - loss: 0.3479 - val_accuracy: 0.8200 - val_loss: 0.4280\n",
      "Epoch 18/100\n",
      "\u001b[1m153/154\u001b[0m \u001b[32m━━━━━━━━━━━━━━━━━━━\u001b[0m\u001b[37m━\u001b[0m \u001b[1m0s\u001b[0m 391ms/step - accuracy: 0.8477 - loss: 0.3384\n",
      "Epoch 18: val_accuracy did not improve from 0.83550\n",
      "\u001b[1m154/154\u001b[0m \u001b[32m━━━━━━━━━━━━━━━━━━━━\u001b[0m\u001b[37m\u001b[0m \u001b[1m80s\u001b[0m 497ms/step - accuracy: 0.8477 - loss: 0.3386 - val_accuracy: 0.8094 - val_loss: 0.4527\n",
      "Epoch 19/100\n",
      "\u001b[1m153/154\u001b[0m \u001b[32m━━━━━━━━━━━━━━━━━━━\u001b[0m\u001b[37m━\u001b[0m \u001b[1m0s\u001b[0m 392ms/step - accuracy: 0.8588 - loss: 0.3159\n",
      "Epoch 19: val_accuracy did not improve from 0.83550\n",
      "\u001b[1m154/154\u001b[0m \u001b[32m━━━━━━━━━━━━━━━━━━━━\u001b[0m\u001b[37m\u001b[0m \u001b[1m80s\u001b[0m 497ms/step - accuracy: 0.8586 - loss: 0.3162 - val_accuracy: 0.8086 - val_loss: 0.4445\n",
      "Epoch 19: early stopping\n",
      "Restoring model weights from the end of the best epoch: 9.\n",
      "\u001b[1m38/38\u001b[0m \u001b[32m━━━━━━━━━━━━━━━━━━━━\u001b[0m\u001b[37m\u001b[0m \u001b[1m16s\u001b[0m 409ms/step - accuracy: 0.8130 - loss: 0.3915\n",
      "Test Accuracy Before Fine-tuning: 81.33%\n"
     ]
    }
   ],
   "source": [
    "history = model.fit(\n",
    "    train_generator,\n",
    "    epochs=EPOCHS,\n",
    "    validation_data=validation_generator,\n",
    "    callbacks=[checkpoint_callback, early_stopping_callback, ClearMemory()]\n",
    ")\n",
    "\n",
    "initial_test_loss, initial_test_acc = model.evaluate(validation_generator, \n",
    "                                                     steps=validation_generator.samples // BATCH_SIZE)\n",
    "\n",
    "print(f\"Test Accuracy Before Fine-tuning: {initial_test_acc*100:.2f}%\")"
   ]
  }
 ],
 "metadata": {
  "kaggle": {
   "accelerator": "nvidiaTeslaT4",
   "dataSources": [
    {
     "datasetId": 6807513,
     "sourceId": 10945047,
     "sourceType": "datasetVersion"
    }
   ],
   "isGpuEnabled": true,
   "isInternetEnabled": true,
   "language": "python",
   "sourceType": "notebook"
  },
  "kernelspec": {
   "display_name": "Python 3",
   "language": "python",
   "name": "python3"
  },
  "language_info": {
   "codemirror_mode": {
    "name": "ipython",
    "version": 3
   },
   "file_extension": ".py",
   "mimetype": "text/x-python",
   "name": "python",
   "nbconvert_exporter": "python",
   "pygments_lexer": "ipython3",
   "version": "3.10.12"
  },
  "papermill": {
   "default_parameters": {},
   "duration": 1612.622632,
   "end_time": "2025-03-06T19:32:27.518850",
   "environment_variables": {},
   "exception": null,
   "input_path": "__notebook__.ipynb",
   "output_path": "__notebook__.ipynb",
   "parameters": {},
   "start_time": "2025-03-06T19:05:34.896218",
   "version": "2.6.0"
  }
 },
 "nbformat": 4,
 "nbformat_minor": 5
}
