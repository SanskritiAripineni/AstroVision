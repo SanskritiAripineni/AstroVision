{
 "cells": [
  {
   "cell_type": "code",
   "execution_count": 1,
   "id": "9f28e57c",
   "metadata": {
    "_cell_guid": "b1076dfc-b9ad-4769-8c92-a6c4dae69d19",
    "_uuid": "8f2839f25d086af736a60e9eeb907d3b93b6e0e5",
    "execution": {
     "iopub.execute_input": "2025-03-06T22:42:32.695498Z",
     "iopub.status.busy": "2025-03-06T22:42:32.695262Z",
     "iopub.status.idle": "2025-03-06T22:42:47.190373Z",
     "shell.execute_reply": "2025-03-06T22:42:47.189659Z"
    },
    "papermill": {
     "duration": 14.499399,
     "end_time": "2025-03-06T22:42:47.191837",
     "exception": false,
     "start_time": "2025-03-06T22:42:32.692438",
     "status": "completed"
    },
    "tags": []
   },
   "outputs": [],
   "source": [
    "import numpy as np\n",
    "import matplotlib.pyplot as plt\n",
    "import seaborn as sea\n",
    "import tensorflow as tf\n",
    "import random\n",
    "import gc\n",
    "\n",
    "import tensorflow.keras.backend as K\n",
    "from tensorflow.keras.callbacks import Callback\n",
    "from tensorflow.keras.preprocessing.image import ImageDataGenerator\n",
    "from tensorflow.keras.applications import MobileNetV2\n",
    "from tensorflow.keras.models import Model, Sequential\n",
    "from tensorflow.keras.layers import Dense, GlobalAveragePooling2D, ReLU, BatchNormalization\n",
    "from tensorflow.keras.initializers import HeNormal, Ones, Constant\n",
    "from tensorflow.keras.optimizers import Adam\n",
    "from tensorflow.keras.callbacks import ModelCheckpoint, EarlyStopping"
   ]
  },
  {
   "cell_type": "code",
   "execution_count": 2,
   "id": "64f39f7e",
   "metadata": {
    "execution": {
     "iopub.execute_input": "2025-03-06T22:42:47.197107Z",
     "iopub.status.busy": "2025-03-06T22:42:47.196672Z",
     "iopub.status.idle": "2025-03-06T22:42:47.200539Z",
     "shell.execute_reply": "2025-03-06T22:42:47.199744Z"
    },
    "papermill": {
     "duration": 0.007551,
     "end_time": "2025-03-06T22:42:47.201824",
     "exception": false,
     "start_time": "2025-03-06T22:42:47.194273",
     "status": "completed"
    },
    "tags": []
   },
   "outputs": [],
   "source": [
    "SEED = 3126  \n",
    "random.seed(SEED)\n",
    "np.random.seed(SEED)\n",
    "tf.random.set_seed(SEED)"
   ]
  },
  {
   "cell_type": "code",
   "execution_count": 3,
   "id": "4a62b29c",
   "metadata": {
    "execution": {
     "iopub.execute_input": "2025-03-06T22:42:47.206082Z",
     "iopub.status.busy": "2025-03-06T22:42:47.205877Z",
     "iopub.status.idle": "2025-03-06T22:42:52.297251Z",
     "shell.execute_reply": "2025-03-06T22:42:52.296379Z"
    },
    "papermill": {
     "duration": 5.094989,
     "end_time": "2025-03-06T22:42:52.298632",
     "exception": false,
     "start_time": "2025-03-06T22:42:47.203643",
     "status": "completed"
    },
    "tags": []
   },
   "outputs": [
    {
     "name": "stdout",
     "output_type": "stream",
     "text": [
      "Found 4913 images belonging to 4 classes.\n",
      "Found 1228 images belonging to 4 classes.\n"
     ]
    }
   ],
   "source": [
    "WIDTH, HEIGHT = 224, 224\n",
    "BATCH_SIZE = 32\n",
    "LEARNING_RATE = .01\n",
    "EPOCHS = 100\n",
    "DIR = \"/kaggle/input/finalized-astrovision-data\"\n",
    "\n",
    "train_datagen = ImageDataGenerator(\n",
    "    rescale=1./255,\n",
    "    rotation_range=30,\n",
    "    width_shift_range=0,\n",
    "    height_shift_range=0,\n",
    "    shear_range=0.2,\n",
    "    zoom_range=0.2,\n",
    "    horizontal_flip=True,\n",
    "    fill_mode='nearest',\n",
    "    validation_split=0.2\n",
    ")\n",
    "\n",
    "train_generator = train_datagen.flow_from_directory(\n",
    "    DIR,\n",
    "    target_size=(WIDTH, HEIGHT),\n",
    "    batch_size=BATCH_SIZE,\n",
    "    class_mode='categorical',\n",
    "    subset='training',\n",
    "    seed=SEED  \n",
    ")\n",
    "\n",
    "validation_generator = train_datagen.flow_from_directory(\n",
    "    DIR,\n",
    "    target_size=(WIDTH, HEIGHT),\n",
    "    batch_size=BATCH_SIZE,\n",
    "    class_mode='categorical',\n",
    "    subset='validation',\n",
    "    seed=SEED \n",
    ")"
   ]
  },
  {
   "cell_type": "code",
   "execution_count": 4,
   "id": "a5e3f051",
   "metadata": {
    "execution": {
     "iopub.execute_input": "2025-03-06T22:42:52.304012Z",
     "iopub.status.busy": "2025-03-06T22:42:52.303772Z",
     "iopub.status.idle": "2025-03-06T22:42:52.308301Z",
     "shell.execute_reply": "2025-03-06T22:42:52.307505Z"
    },
    "papermill": {
     "duration": 0.008649,
     "end_time": "2025-03-06T22:42:52.309601",
     "exception": false,
     "start_time": "2025-03-06T22:42:52.300952",
     "status": "completed"
    },
    "tags": []
   },
   "outputs": [],
   "source": [
    "def make_dense_layer(input_size, dropout_rate=0.0, input_shape=None):\n",
    "    layers = []\n",
    "    if input_shape:\n",
    "        layers.append(Dense(input_size,\n",
    "                            use_bias=False, \n",
    "                            input_shape=input_shape,\n",
    "                            kernel_initializer=HeNormal()\n",
    "                            ))\n",
    "    else:\n",
    "        layers.append(Dense(input_size, use_bias=False, kernel_initializer=HeNormal()))\n",
    "    layers.extend([BatchNormalization(gamma_initializer=Ones(), beta_initializer=Constant(0.25)),\n",
    "                  ReLU()])\n",
    "    if dropout_rate > 0:\n",
    "        layers.append(Dropout(dropout_rate))\n",
    "    return Sequential(layers)"
   ]
  },
  {
   "cell_type": "code",
   "execution_count": 5,
   "id": "723c936d",
   "metadata": {
    "execution": {
     "iopub.execute_input": "2025-03-06T22:42:52.314121Z",
     "iopub.status.busy": "2025-03-06T22:42:52.313917Z",
     "iopub.status.idle": "2025-03-06T22:42:52.318180Z",
     "shell.execute_reply": "2025-03-06T22:42:52.317633Z"
    },
    "papermill": {
     "duration": 0.007844,
     "end_time": "2025-03-06T22:42:52.319377",
     "exception": false,
     "start_time": "2025-03-06T22:42:52.311533",
     "status": "completed"
    },
    "tags": []
   },
   "outputs": [],
   "source": [
    "def build_model():\n",
    "    base_model = MobileNetV2(weights='imagenet', include_top=False,\n",
    "                             input_shape=(WIDTH, HEIGHT, 3))\n",
    "    base_model.trainable = False\n",
    "    x = base_model.output\n",
    "    x = GlobalAveragePooling2D()(x)\n",
    "\n",
    "    fc_layers = Sequential([\n",
    "        make_dense_layer(1024, input_shape=(x.shape[-1],)),\n",
    "        make_dense_layer(512),\n",
    "        make_dense_layer(8)\n",
    "    ])\n",
    "    x = fc_layers(x)\n",
    "    predictions = Dense(train_generator.num_classes,\n",
    "                        activation='softmax',\n",
    "                        kernel_initializer=HeNormal())(x)\n",
    "\n",
    "    model = Model(inputs=base_model.input, outputs=predictions)\n",
    "    model.compile(optimizer=Adam(learning_rate=LEARNING_RATE),\n",
    "                 loss='categorical_crossentropy',\n",
    "                 metrics=['accuracy'])   \n",
    "    return model"
   ]
  },
  {
   "cell_type": "code",
   "execution_count": 6,
   "id": "a89e14ba",
   "metadata": {
    "execution": {
     "iopub.execute_input": "2025-03-06T22:42:52.323843Z",
     "iopub.status.busy": "2025-03-06T22:42:52.323649Z",
     "iopub.status.idle": "2025-03-06T22:42:52.326634Z",
     "shell.execute_reply": "2025-03-06T22:42:52.326054Z"
    },
    "papermill": {
     "duration": 0.006379,
     "end_time": "2025-03-06T22:42:52.327696",
     "exception": false,
     "start_time": "2025-03-06T22:42:52.321317",
     "status": "completed"
    },
    "tags": []
   },
   "outputs": [],
   "source": [
    "class ClearMemory(Callback):\n",
    "    def on_epoch_end(self, epoch, logs=None):\n",
    "        K.clear_session()  \n",
    "        gc.collect() "
   ]
  },
  {
   "cell_type": "code",
   "execution_count": 7,
   "id": "3be7ebea",
   "metadata": {
    "execution": {
     "iopub.execute_input": "2025-03-06T22:42:52.332289Z",
     "iopub.status.busy": "2025-03-06T22:42:52.332043Z",
     "iopub.status.idle": "2025-03-06T22:42:55.833189Z",
     "shell.execute_reply": "2025-03-06T22:42:55.832342Z"
    },
    "papermill": {
     "duration": 3.505022,
     "end_time": "2025-03-06T22:42:55.834688",
     "exception": false,
     "start_time": "2025-03-06T22:42:52.329666",
     "status": "completed"
    },
    "tags": []
   },
   "outputs": [
    {
     "name": "stdout",
     "output_type": "stream",
     "text": [
      "Downloading data from https://storage.googleapis.com/tensorflow/keras-applications/mobilenet_v2/mobilenet_v2_weights_tf_dim_ordering_tf_kernels_1.0_224_no_top.h5\n",
      "\u001b[1m9406464/9406464\u001b[0m \u001b[32m━━━━━━━━━━━━━━━━━━━━\u001b[0m\u001b[37m\u001b[0m \u001b[1m0s\u001b[0m 0us/step\n"
     ]
    },
    {
     "name": "stderr",
     "output_type": "stream",
     "text": [
      "/usr/local/lib/python3.10/dist-packages/keras/src/layers/core/dense.py:87: UserWarning: Do not pass an `input_shape`/`input_dim` argument to a layer. When using Sequential models, prefer using an `Input(shape)` object as the first layer in the model instead.\n",
      "  super().__init__(activity_regularizer=activity_regularizer, **kwargs)\n"
     ]
    }
   ],
   "source": [
    "model = build_model()\n",
    "\n",
    "best_weights_path = \"/kaggle/working/best_weights.weights.h5\"\n",
    "\n",
    "checkpoint_callback = ModelCheckpoint(\n",
    "    filepath=best_weights_path,  \n",
    "    monitor='val_accuracy',    \n",
    "    save_best_only=True,       \n",
    "    save_weights_only=True,    \n",
    "    mode='max',                \n",
    "    verbose=1                  \n",
    ")\n",
    "\n",
    "early_stopping_callback = EarlyStopping(\n",
    "    monitor='val_loss',  \n",
    "    patience=10,              \n",
    "    mode='min',              \n",
    "    min_delta=.001,\n",
    "    restore_best_weights=True,  \n",
    "    verbose=1\n",
    ")"
   ]
  },
  {
   "cell_type": "code",
   "execution_count": 8,
   "id": "4b68df32",
   "metadata": {
    "execution": {
     "iopub.execute_input": "2025-03-06T22:42:55.840505Z",
     "iopub.status.busy": "2025-03-06T22:42:55.840237Z",
     "iopub.status.idle": "2025-03-06T23:05:54.787620Z",
     "shell.execute_reply": "2025-03-06T23:05:54.786687Z"
    },
    "papermill": {
     "duration": 1378.951924,
     "end_time": "2025-03-06T23:05:54.789251",
     "exception": false,
     "start_time": "2025-03-06T22:42:55.837327",
     "status": "completed"
    },
    "tags": []
   },
   "outputs": [
    {
     "name": "stdout",
     "output_type": "stream",
     "text": [
      "Epoch 1/100\n"
     ]
    },
    {
     "name": "stderr",
     "output_type": "stream",
     "text": [
      "/usr/local/lib/python3.10/dist-packages/keras/src/trainers/data_adapters/py_dataset_adapter.py:122: UserWarning: Your `PyDataset` class should call `super().__init__(**kwargs)` in its constructor. `**kwargs` can include `workers`, `use_multiprocessing`, `max_queue_size`. Do not pass these arguments to `fit()`, as they will be ignored.\n",
      "  self._warn_if_super_not_called()\n"
     ]
    },
    {
     "name": "stdout",
     "output_type": "stream",
     "text": [
      "\u001b[1m153/154\u001b[0m \u001b[32m━━━━━━━━━━━━━━━━━━━\u001b[0m\u001b[37m━\u001b[0m \u001b[1m0s\u001b[0m 537ms/step - accuracy: 0.6775 - loss: 0.7634\n",
      "Epoch 1: val_accuracy improved from -inf to 0.76059, saving model to /kaggle/working/best_weights.weights.h5\n",
      "\u001b[1m154/154\u001b[0m \u001b[32m━━━━━━━━━━━━━━━━━━━━\u001b[0m\u001b[37m\u001b[0m \u001b[1m128s\u001b[0m 731ms/step - accuracy: 0.6781 - loss: 0.7616 - val_accuracy: 0.7606 - val_loss: 0.6066\n",
      "Epoch 2/100\n",
      "\u001b[1m153/154\u001b[0m \u001b[32m━━━━━━━━━━━━━━━━━━━\u001b[0m\u001b[37m━\u001b[0m \u001b[1m0s\u001b[0m 398ms/step - accuracy: 0.7626 - loss: 0.5262\n",
      "Epoch 2: val_accuracy did not improve from 0.76059\n",
      "\u001b[1m154/154\u001b[0m \u001b[32m━━━━━━━━━━━━━━━━━━━━\u001b[0m\u001b[37m\u001b[0m \u001b[1m82s\u001b[0m 509ms/step - accuracy: 0.7627 - loss: 0.5260 - val_accuracy: 0.7492 - val_loss: 0.5454\n",
      "Epoch 3/100\n",
      "\u001b[1m153/154\u001b[0m \u001b[32m━━━━━━━━━━━━━━━━━━━\u001b[0m\u001b[37m━\u001b[0m \u001b[1m0s\u001b[0m 399ms/step - accuracy: 0.7950 - loss: 0.4680\n",
      "Epoch 3: val_accuracy improved from 0.76059 to 0.79479, saving model to /kaggle/working/best_weights.weights.h5\n",
      "\u001b[1m154/154\u001b[0m \u001b[32m━━━━━━━━━━━━━━━━━━━━\u001b[0m\u001b[37m\u001b[0m \u001b[1m81s\u001b[0m 503ms/step - accuracy: 0.7950 - loss: 0.4679 - val_accuracy: 0.7948 - val_loss: 0.4455\n",
      "Epoch 4/100\n",
      "\u001b[1m153/154\u001b[0m \u001b[32m━━━━━━━━━━━━━━━━━━━\u001b[0m\u001b[37m━\u001b[0m \u001b[1m0s\u001b[0m 389ms/step - accuracy: 0.8137 - loss: 0.4261\n",
      "Epoch 4: val_accuracy did not improve from 0.79479\n",
      "\u001b[1m154/154\u001b[0m \u001b[32m━━━━━━━━━━━━━━━━━━━━\u001b[0m\u001b[37m\u001b[0m \u001b[1m78s\u001b[0m 487ms/step - accuracy: 0.8136 - loss: 0.4263 - val_accuracy: 0.7907 - val_loss: 0.4896\n",
      "Epoch 5/100\n",
      "\u001b[1m153/154\u001b[0m \u001b[32m━━━━━━━━━━━━━━━━━━━\u001b[0m\u001b[37m━\u001b[0m \u001b[1m0s\u001b[0m 369ms/step - accuracy: 0.8195 - loss: 0.4197\n",
      "Epoch 5: val_accuracy improved from 0.79479 to 0.80293, saving model to /kaggle/working/best_weights.weights.h5\n",
      "\u001b[1m154/154\u001b[0m \u001b[32m━━━━━━━━━━━━━━━━━━━━\u001b[0m\u001b[37m\u001b[0m \u001b[1m76s\u001b[0m 469ms/step - accuracy: 0.8194 - loss: 0.4198 - val_accuracy: 0.8029 - val_loss: 0.4032\n",
      "Epoch 6/100\n",
      "\u001b[1m153/154\u001b[0m \u001b[32m━━━━━━━━━━━━━━━━━━━\u001b[0m\u001b[37m━\u001b[0m \u001b[1m0s\u001b[0m 373ms/step - accuracy: 0.8212 - loss: 0.4198\n",
      "Epoch 6: val_accuracy improved from 0.80293 to 0.81107, saving model to /kaggle/working/best_weights.weights.h5\n",
      "\u001b[1m154/154\u001b[0m \u001b[32m━━━━━━━━━━━━━━━━━━━━\u001b[0m\u001b[37m\u001b[0m \u001b[1m76s\u001b[0m 474ms/step - accuracy: 0.8211 - loss: 0.4198 - val_accuracy: 0.8111 - val_loss: 0.4295\n",
      "Epoch 7/100\n",
      "\u001b[1m153/154\u001b[0m \u001b[32m━━━━━━━━━━━━━━━━━━━\u001b[0m\u001b[37m━\u001b[0m \u001b[1m0s\u001b[0m 371ms/step - accuracy: 0.8181 - loss: 0.4133\n",
      "Epoch 7: val_accuracy improved from 0.81107 to 0.83795, saving model to /kaggle/working/best_weights.weights.h5\n",
      "\u001b[1m154/154\u001b[0m \u001b[32m━━━━━━━━━━━━━━━━━━━━\u001b[0m\u001b[37m\u001b[0m \u001b[1m76s\u001b[0m 472ms/step - accuracy: 0.8181 - loss: 0.4132 - val_accuracy: 0.8379 - val_loss: 0.3958\n",
      "Epoch 8/100\n",
      "\u001b[1m153/154\u001b[0m \u001b[32m━━━━━━━━━━━━━━━━━━━\u001b[0m\u001b[37m━\u001b[0m \u001b[1m0s\u001b[0m 375ms/step - accuracy: 0.8268 - loss: 0.4055\n",
      "Epoch 8: val_accuracy did not improve from 0.83795\n",
      "\u001b[1m154/154\u001b[0m \u001b[32m━━━━━━━━━━━━━━━━━━━━\u001b[0m\u001b[37m\u001b[0m \u001b[1m77s\u001b[0m 476ms/step - accuracy: 0.8268 - loss: 0.4054 - val_accuracy: 0.7826 - val_loss: 0.5060\n",
      "Epoch 9/100\n",
      "\u001b[1m153/154\u001b[0m \u001b[32m━━━━━━━━━━━━━━━━━━━\u001b[0m\u001b[37m━\u001b[0m \u001b[1m0s\u001b[0m 376ms/step - accuracy: 0.8288 - loss: 0.3791\n",
      "Epoch 9: val_accuracy did not improve from 0.83795\n",
      "\u001b[1m154/154\u001b[0m \u001b[32m━━━━━━━━━━━━━━━━━━━━\u001b[0m\u001b[37m\u001b[0m \u001b[1m77s\u001b[0m 476ms/step - accuracy: 0.8289 - loss: 0.3791 - val_accuracy: 0.7956 - val_loss: 0.4443\n",
      "Epoch 10/100\n",
      "\u001b[1m153/154\u001b[0m \u001b[32m━━━━━━━━━━━━━━━━━━━\u001b[0m\u001b[37m━\u001b[0m \u001b[1m0s\u001b[0m 370ms/step - accuracy: 0.8321 - loss: 0.3818\n",
      "Epoch 10: val_accuracy did not improve from 0.83795\n",
      "\u001b[1m154/154\u001b[0m \u001b[32m━━━━━━━━━━━━━━━━━━━━\u001b[0m\u001b[37m\u001b[0m \u001b[1m75s\u001b[0m 468ms/step - accuracy: 0.8321 - loss: 0.3818 - val_accuracy: 0.7940 - val_loss: 0.4482\n",
      "Epoch 11/100\n",
      "\u001b[1m153/154\u001b[0m \u001b[32m━━━━━━━━━━━━━━━━━━━\u001b[0m\u001b[37m━\u001b[0m \u001b[1m0s\u001b[0m 370ms/step - accuracy: 0.8317 - loss: 0.3808\n",
      "Epoch 11: val_accuracy did not improve from 0.83795\n",
      "\u001b[1m154/154\u001b[0m \u001b[32m━━━━━━━━━━━━━━━━━━━━\u001b[0m\u001b[37m\u001b[0m \u001b[1m76s\u001b[0m 469ms/step - accuracy: 0.8317 - loss: 0.3807 - val_accuracy: 0.8046 - val_loss: 0.4716\n",
      "Epoch 12/100\n",
      "\u001b[1m153/154\u001b[0m \u001b[32m━━━━━━━━━━━━━━━━━━━\u001b[0m\u001b[37m━\u001b[0m \u001b[1m0s\u001b[0m 373ms/step - accuracy: 0.8286 - loss: 0.3792\n",
      "Epoch 12: val_accuracy did not improve from 0.83795\n",
      "\u001b[1m154/154\u001b[0m \u001b[32m━━━━━━━━━━━━━━━━━━━━\u001b[0m\u001b[37m\u001b[0m \u001b[1m76s\u001b[0m 472ms/step - accuracy: 0.8287 - loss: 0.3790 - val_accuracy: 0.8005 - val_loss: 0.4628\n",
      "Epoch 13/100\n",
      "\u001b[1m153/154\u001b[0m \u001b[32m━━━━━━━━━━━━━━━━━━━\u001b[0m\u001b[37m━\u001b[0m \u001b[1m0s\u001b[0m 373ms/step - accuracy: 0.8388 - loss: 0.3762\n",
      "Epoch 13: val_accuracy did not improve from 0.83795\n",
      "\u001b[1m154/154\u001b[0m \u001b[32m━━━━━━━━━━━━━━━━━━━━\u001b[0m\u001b[37m\u001b[0m \u001b[1m76s\u001b[0m 474ms/step - accuracy: 0.8389 - loss: 0.3761 - val_accuracy: 0.8151 - val_loss: 0.4258\n",
      "Epoch 14/100\n",
      "\u001b[1m153/154\u001b[0m \u001b[32m━━━━━━━━━━━━━━━━━━━\u001b[0m\u001b[37m━\u001b[0m \u001b[1m0s\u001b[0m 376ms/step - accuracy: 0.8301 - loss: 0.3683\n",
      "Epoch 14: val_accuracy did not improve from 0.83795\n",
      "\u001b[1m154/154\u001b[0m \u001b[32m━━━━━━━━━━━━━━━━━━━━\u001b[0m\u001b[37m\u001b[0m \u001b[1m77s\u001b[0m 477ms/step - accuracy: 0.8302 - loss: 0.3681 - val_accuracy: 0.8127 - val_loss: 0.4204\n",
      "Epoch 15/100\n",
      "\u001b[1m153/154\u001b[0m \u001b[32m━━━━━━━━━━━━━━━━━━━\u001b[0m\u001b[37m━\u001b[0m \u001b[1m0s\u001b[0m 375ms/step - accuracy: 0.8528 - loss: 0.3447\n",
      "Epoch 15: val_accuracy did not improve from 0.83795\n",
      "\u001b[1m154/154\u001b[0m \u001b[32m━━━━━━━━━━━━━━━━━━━━\u001b[0m\u001b[37m\u001b[0m \u001b[1m76s\u001b[0m 475ms/step - accuracy: 0.8527 - loss: 0.3448 - val_accuracy: 0.8005 - val_loss: 0.4304\n",
      "Epoch 16/100\n",
      "\u001b[1m153/154\u001b[0m \u001b[32m━━━━━━━━━━━━━━━━━━━\u001b[0m\u001b[37m━\u001b[0m \u001b[1m0s\u001b[0m 378ms/step - accuracy: 0.8500 - loss: 0.3624\n",
      "Epoch 16: val_accuracy did not improve from 0.83795\n",
      "\u001b[1m154/154\u001b[0m \u001b[32m━━━━━━━━━━━━━━━━━━━━\u001b[0m\u001b[37m\u001b[0m \u001b[1m77s\u001b[0m 479ms/step - accuracy: 0.8500 - loss: 0.3623 - val_accuracy: 0.8029 - val_loss: 0.4239\n",
      "Epoch 17/100\n",
      "\u001b[1m153/154\u001b[0m \u001b[32m━━━━━━━━━━━━━━━━━━━\u001b[0m\u001b[37m━\u001b[0m \u001b[1m0s\u001b[0m 373ms/step - accuracy: 0.8451 - loss: 0.3490\n",
      "Epoch 17: val_accuracy did not improve from 0.83795\n",
      "\u001b[1m154/154\u001b[0m \u001b[32m━━━━━━━━━━━━━━━━━━━━\u001b[0m\u001b[37m\u001b[0m \u001b[1m76s\u001b[0m 471ms/step - accuracy: 0.8451 - loss: 0.3489 - val_accuracy: 0.8119 - val_loss: 0.4219\n",
      "Epoch 17: early stopping\n",
      "Restoring model weights from the end of the best epoch: 7.\n",
      "\u001b[1m38/38\u001b[0m \u001b[32m━━━━━━━━━━━━━━━━━━━━\u001b[0m\u001b[37m\u001b[0m \u001b[1m15s\u001b[0m 388ms/step - accuracy: 0.8392 - loss: 0.4155\n",
      "Test Accuracy Before Fine-tuning: 84.95%\n"
     ]
    }
   ],
   "source": [
    "history = model.fit(\n",
    "    train_generator,\n",
    "    epochs=EPOCHS,\n",
    "    validation_data=validation_generator,\n",
    "    callbacks=[checkpoint_callback, early_stopping_callback, ClearMemory()]\n",
    ")\n",
    "\n",
    "initial_test_loss, initial_test_acc = model.evaluate(validation_generator, \n",
    "                                                     steps=validation_generator.samples // BATCH_SIZE)\n",
    "\n",
    "print(f\"Test Accuracy Before Fine-tuning: {initial_test_acc*100:.2f}%\")"
   ]
  }
 ],
 "metadata": {
  "kaggle": {
   "accelerator": "nvidiaTeslaT4",
   "dataSources": [
    {
     "datasetId": 6807513,
     "sourceId": 10945047,
     "sourceType": "datasetVersion"
    }
   ],
   "dockerImageVersionId": 30919,
   "isGpuEnabled": true,
   "isInternetEnabled": true,
   "language": "python",
   "sourceType": "notebook"
  },
  "kernelspec": {
   "display_name": "Python 3",
   "language": "python",
   "name": "python3"
  },
  "language_info": {
   "codemirror_mode": {
    "name": "ipython",
    "version": 3
   },
   "file_extension": ".py",
   "mimetype": "text/x-python",
   "name": "python",
   "nbconvert_exporter": "python",
   "pygments_lexer": "ipython3",
   "version": "3.10.12"
  },
  "papermill": {
   "default_parameters": {},
   "duration": 1407.431591,
   "end_time": "2025-03-06T23:05:57.431985",
   "environment_variables": {},
   "exception": null,
   "input_path": "__notebook__.ipynb",
   "output_path": "__notebook__.ipynb",
   "parameters": {},
   "start_time": "2025-03-06T22:42:30.000394",
   "version": "2.6.0"
  }
 },
 "nbformat": 4,
 "nbformat_minor": 5
}
