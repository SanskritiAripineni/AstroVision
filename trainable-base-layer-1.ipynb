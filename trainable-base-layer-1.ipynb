{
 "cells": [
  {
   "cell_type": "code",
   "execution_count": 1,
   "id": "6eef26ba",
   "metadata": {
    "_cell_guid": "b1076dfc-b9ad-4769-8c92-a6c4dae69d19",
    "_uuid": "8f2839f25d086af736a60e9eeb907d3b93b6e0e5",
    "execution": {
     "iopub.execute_input": "2025-03-09T01:15:49.718567Z",
     "iopub.status.busy": "2025-03-09T01:15:49.718341Z",
     "iopub.status.idle": "2025-03-09T01:16:03.050263Z",
     "shell.execute_reply": "2025-03-09T01:16:03.049569Z"
    },
    "papermill": {
     "duration": 13.336558,
     "end_time": "2025-03-09T01:16:03.051806",
     "exception": false,
     "start_time": "2025-03-09T01:15:49.715248",
     "status": "completed"
    },
    "tags": []
   },
   "outputs": [],
   "source": [
    "import numpy as np\n",
    "import matplotlib.pyplot as plt\n",
    "import seaborn as sea\n",
    "import tensorflow as tf\n",
    "import random\n",
    "import gc\n",
    "\n",
    "import tensorflow.keras.backend as K\n",
    "from tensorflow.keras.callbacks import Callback\n",
    "from tensorflow.keras.preprocessing.image import ImageDataGenerator\n",
    "from tensorflow.keras.applications import MobileNetV2\n",
    "from tensorflow.keras.models import Model, Sequential\n",
    "from tensorflow.keras.layers import Dense, GlobalAveragePooling2D, ReLU, BatchNormalization\n",
    "from tensorflow.keras.initializers import HeNormal, Ones, Constant\n",
    "from tensorflow.keras.optimizers import Adam\n",
    "from tensorflow.keras.callbacks import ModelCheckpoint, EarlyStopping\n",
    "\n",
    "import warnings\n",
    "warnings.filterwarnings(\"ignore\")"
   ]
  },
  {
   "cell_type": "code",
   "execution_count": 2,
   "id": "4a3e2dfe",
   "metadata": {
    "execution": {
     "iopub.execute_input": "2025-03-09T01:16:03.056997Z",
     "iopub.status.busy": "2025-03-09T01:16:03.056526Z",
     "iopub.status.idle": "2025-03-09T01:16:03.060129Z",
     "shell.execute_reply": "2025-03-09T01:16:03.059516Z"
    },
    "papermill": {
     "duration": 0.007181,
     "end_time": "2025-03-09T01:16:03.061425",
     "exception": false,
     "start_time": "2025-03-09T01:16:03.054244",
     "status": "completed"
    },
    "tags": []
   },
   "outputs": [],
   "source": [
    "SEED = 3126  \n",
    "random.seed(SEED)\n",
    "np.random.seed(SEED)\n",
    "tf.random.set_seed(SEED)"
   ]
  },
  {
   "cell_type": "code",
   "execution_count": 3,
   "id": "5e07f247",
   "metadata": {
    "execution": {
     "iopub.execute_input": "2025-03-09T01:16:03.065726Z",
     "iopub.status.busy": "2025-03-09T01:16:03.065486Z",
     "iopub.status.idle": "2025-03-09T01:16:08.009314Z",
     "shell.execute_reply": "2025-03-09T01:16:08.008548Z"
    },
    "papermill": {
     "duration": 4.947391,
     "end_time": "2025-03-09T01:16:08.010644",
     "exception": false,
     "start_time": "2025-03-09T01:16:03.063253",
     "status": "completed"
    },
    "tags": []
   },
   "outputs": [
    {
     "name": "stdout",
     "output_type": "stream",
     "text": [
      "Found 4913 images belonging to 4 classes.\n",
      "Found 1228 images belonging to 4 classes.\n"
     ]
    }
   ],
   "source": [
    "WIDTH, HEIGHT = 224, 224\n",
    "BATCH_SIZE = 32\n",
    "LEARNING_RATE = .01\n",
    "EPOCHS = 100\n",
    "DIR = \"/kaggle/input/finalized-astrovision-data\"\n",
    "\n",
    "train_datagen = ImageDataGenerator(\n",
    "    rescale=1./255,\n",
    "    rotation_range=30,\n",
    "    width_shift_range=0.1,\n",
    "    height_shift_range=0.1,\n",
    "    shear_range=0.2,\n",
    "    zoom_range=0.2,\n",
    "    horizontal_flip=True,\n",
    "    fill_mode='nearest',\n",
    "    validation_split=0.2\n",
    ")\n",
    "\n",
    "train_generator = train_datagen.flow_from_directory(\n",
    "    DIR,\n",
    "    target_size=(WIDTH, HEIGHT),\n",
    "    batch_size=BATCH_SIZE,\n",
    "    class_mode='categorical',\n",
    "    subset='training',\n",
    "    seed=SEED  \n",
    ")\n",
    "\n",
    "validation_generator = train_datagen.flow_from_directory(\n",
    "    DIR,\n",
    "    target_size=(WIDTH, HEIGHT),\n",
    "    batch_size=BATCH_SIZE,\n",
    "    class_mode='categorical',\n",
    "    subset='validation',\n",
    "    seed=SEED \n",
    ")"
   ]
  },
  {
   "cell_type": "code",
   "execution_count": 4,
   "id": "8a7260b6",
   "metadata": {
    "execution": {
     "iopub.execute_input": "2025-03-09T01:16:08.015924Z",
     "iopub.status.busy": "2025-03-09T01:16:08.015691Z",
     "iopub.status.idle": "2025-03-09T01:16:08.020311Z",
     "shell.execute_reply": "2025-03-09T01:16:08.019663Z"
    },
    "papermill": {
     "duration": 0.008492,
     "end_time": "2025-03-09T01:16:08.021421",
     "exception": false,
     "start_time": "2025-03-09T01:16:08.012929",
     "status": "completed"
    },
    "tags": []
   },
   "outputs": [],
   "source": [
    "def make_dense_layer(input_size, dropout_rate=0.0, input_shape=None):\n",
    "    layers = []\n",
    "    if input_shape:\n",
    "        layers.append(Dense(input_size,\n",
    "                            use_bias=False, \n",
    "                            input_shape=input_shape,\n",
    "                            kernel_initializer=HeNormal()\n",
    "                            ))\n",
    "    else:\n",
    "        layers.append(Dense(input_size, use_bias=False, kernel_initializer=HeNormal()))\n",
    "    layers.extend([BatchNormalization(gamma_initializer=Ones(), beta_initializer=Constant(0.25)),\n",
    "                  ReLU()])\n",
    "    if dropout_rate > 0:\n",
    "        layers.append(Dropout(dropout_rate))\n",
    "    return Sequential(layers)"
   ]
  },
  {
   "cell_type": "code",
   "execution_count": 5,
   "id": "a04db782",
   "metadata": {
    "execution": {
     "iopub.execute_input": "2025-03-09T01:16:08.026507Z",
     "iopub.status.busy": "2025-03-09T01:16:08.026252Z",
     "iopub.status.idle": "2025-03-09T01:16:08.031303Z",
     "shell.execute_reply": "2025-03-09T01:16:08.030670Z"
    },
    "papermill": {
     "duration": 0.008978,
     "end_time": "2025-03-09T01:16:08.032500",
     "exception": false,
     "start_time": "2025-03-09T01:16:08.023522",
     "status": "completed"
    },
    "tags": []
   },
   "outputs": [],
   "source": [
    "def build_model():\n",
    "    base_model = MobileNetV2(weights='imagenet', include_top=False,\n",
    "                             input_shape=(WIDTH, HEIGHT, 3))\n",
    "    base_model.trainable = True\n",
    "    for layer in base_model.layers[1:]:  \n",
    "        layer.trainable = False\n",
    "        \n",
    "    x = base_model.output\n",
    "    x = GlobalAveragePooling2D()(x)\n",
    "\n",
    "    fc_layers = Sequential([\n",
    "        make_dense_layer(1024, input_shape=(x.shape[-1],)),\n",
    "        make_dense_layer(8)\n",
    "    ])\n",
    "    x = fc_layers(x)\n",
    "    predictions = Dense(train_generator.num_classes,\n",
    "                        activation='softmax',\n",
    "                        kernel_initializer=HeNormal())(x)\n",
    "\n",
    "    model = Model(inputs=base_model.input, outputs=predictions)\n",
    "    model.compile(optimizer=Adam(learning_rate=LEARNING_RATE),\n",
    "                 loss='categorical_crossentropy',\n",
    "                 metrics=['accuracy'])   \n",
    "    return model"
   ]
  },
  {
   "cell_type": "code",
   "execution_count": 6,
   "id": "951497ea",
   "metadata": {
    "execution": {
     "iopub.execute_input": "2025-03-09T01:16:08.037492Z",
     "iopub.status.busy": "2025-03-09T01:16:08.037285Z",
     "iopub.status.idle": "2025-03-09T01:16:08.040904Z",
     "shell.execute_reply": "2025-03-09T01:16:08.040058Z"
    },
    "papermill": {
     "duration": 0.007416,
     "end_time": "2025-03-09T01:16:08.042132",
     "exception": false,
     "start_time": "2025-03-09T01:16:08.034716",
     "status": "completed"
    },
    "tags": []
   },
   "outputs": [],
   "source": [
    "class ClearMemory(Callback):\n",
    "    def on_epoch_end(self, epoch, logs=None):\n",
    "        K.clear_session()  \n",
    "        gc.collect() "
   ]
  },
  {
   "cell_type": "code",
   "execution_count": 7,
   "id": "22e5f8c0",
   "metadata": {
    "execution": {
     "iopub.execute_input": "2025-03-09T01:16:08.047244Z",
     "iopub.status.busy": "2025-03-09T01:16:08.047019Z",
     "iopub.status.idle": "2025-03-09T01:16:11.939587Z",
     "shell.execute_reply": "2025-03-09T01:16:11.938632Z"
    },
    "papermill": {
     "duration": 3.896884,
     "end_time": "2025-03-09T01:16:11.941158",
     "exception": false,
     "start_time": "2025-03-09T01:16:08.044274",
     "status": "completed"
    },
    "tags": []
   },
   "outputs": [
    {
     "name": "stdout",
     "output_type": "stream",
     "text": [
      "Downloading data from https://storage.googleapis.com/tensorflow/keras-applications/mobilenet_v2/mobilenet_v2_weights_tf_dim_ordering_tf_kernels_1.0_224_no_top.h5\n",
      "\u001b[1m9406464/9406464\u001b[0m \u001b[32m━━━━━━━━━━━━━━━━━━━━\u001b[0m\u001b[37m\u001b[0m \u001b[1m0s\u001b[0m 0us/step\n"
     ]
    }
   ],
   "source": [
    "model = build_model()\n",
    "model.load_weights(\"/kaggle/input/baseline-tf-model-2-hidden/best_weights.weights.h5\")\n",
    "\n",
    "best_weights_path = \"/kaggle/working/best_weights.weights.h5\"\n",
    "\n",
    "checkpoint_callback = ModelCheckpoint(\n",
    "    filepath=best_weights_path,  \n",
    "    monitor='val_accuracy',    \n",
    "    save_best_only=True,       \n",
    "    save_weights_only=True,    \n",
    "    mode='max',                \n",
    "    verbose=1                  \n",
    ")\n",
    "\n",
    "early_stopping_callback = EarlyStopping(\n",
    "    monitor='val_loss',  \n",
    "    patience=10,              \n",
    "    mode='min',              \n",
    "    min_delta=.001,\n",
    "    restore_best_weights=True,  \n",
    "    verbose=1\n",
    ")"
   ]
  },
  {
   "cell_type": "code",
   "execution_count": 8,
   "id": "4732955c",
   "metadata": {
    "execution": {
     "iopub.execute_input": "2025-03-09T01:16:11.946953Z",
     "iopub.status.busy": "2025-03-09T01:16:11.946686Z",
     "iopub.status.idle": "2025-03-09T01:33:11.552554Z",
     "shell.execute_reply": "2025-03-09T01:33:11.551706Z"
    },
    "papermill": {
     "duration": 1019.610129,
     "end_time": "2025-03-09T01:33:11.553979",
     "exception": false,
     "start_time": "2025-03-09T01:16:11.943850",
     "status": "completed"
    },
    "tags": []
   },
   "outputs": [
    {
     "name": "stdout",
     "output_type": "stream",
     "text": [
      "Epoch 1/100\n",
      "\u001b[1m153/154\u001b[0m \u001b[32m━━━━━━━━━━━━━━━━━━━\u001b[0m\u001b[37m━\u001b[0m \u001b[1m0s\u001b[0m 477ms/step - accuracy: 0.8186 - loss: 0.4047\n",
      "Epoch 1: val_accuracy improved from -inf to 0.79316, saving model to /kaggle/working/best_weights.weights.h5\n",
      "\u001b[1m154/154\u001b[0m \u001b[32m━━━━━━━━━━━━━━━━━━━━\u001b[0m\u001b[37m\u001b[0m \u001b[1m113s\u001b[0m 643ms/step - accuracy: 0.8187 - loss: 0.4047 - val_accuracy: 0.7932 - val_loss: 0.4477\n",
      "Epoch 2/100\n",
      "\u001b[1m153/154\u001b[0m \u001b[32m━━━━━━━━━━━━━━━━━━━\u001b[0m\u001b[37m━\u001b[0m \u001b[1m0s\u001b[0m 364ms/step - accuracy: 0.8247 - loss: 0.3825\n",
      "Epoch 2: val_accuracy did not improve from 0.79316\n",
      "\u001b[1m154/154\u001b[0m \u001b[32m━━━━━━━━━━━━━━━━━━━━\u001b[0m\u001b[37m\u001b[0m \u001b[1m75s\u001b[0m 463ms/step - accuracy: 0.8247 - loss: 0.3826 - val_accuracy: 0.7744 - val_loss: 0.5045\n",
      "Epoch 3/100\n",
      "\u001b[1m153/154\u001b[0m \u001b[32m━━━━━━━━━━━━━━━━━━━\u001b[0m\u001b[37m━\u001b[0m \u001b[1m0s\u001b[0m 363ms/step - accuracy: 0.8187 - loss: 0.4010\n",
      "Epoch 3: val_accuracy improved from 0.79316 to 0.80456, saving model to /kaggle/working/best_weights.weights.h5\n",
      "\u001b[1m154/154\u001b[0m \u001b[32m━━━━━━━━━━━━━━━━━━━━\u001b[0m\u001b[37m\u001b[0m \u001b[1m75s\u001b[0m 465ms/step - accuracy: 0.8188 - loss: 0.4009 - val_accuracy: 0.8046 - val_loss: 0.3981\n",
      "Epoch 4/100\n",
      "\u001b[1m153/154\u001b[0m \u001b[32m━━━━━━━━━━━━━━━━━━━\u001b[0m\u001b[37m━\u001b[0m \u001b[1m0s\u001b[0m 364ms/step - accuracy: 0.8308 - loss: 0.3749\n",
      "Epoch 4: val_accuracy did not improve from 0.80456\n",
      "\u001b[1m154/154\u001b[0m \u001b[32m━━━━━━━━━━━━━━━━━━━━\u001b[0m\u001b[37m\u001b[0m \u001b[1m74s\u001b[0m 463ms/step - accuracy: 0.8309 - loss: 0.3748 - val_accuracy: 0.7989 - val_loss: 0.4382\n",
      "Epoch 5/100\n",
      "\u001b[1m153/154\u001b[0m \u001b[32m━━━━━━━━━━━━━━━━━━━\u001b[0m\u001b[37m━\u001b[0m \u001b[1m0s\u001b[0m 360ms/step - accuracy: 0.8500 - loss: 0.3449\n",
      "Epoch 5: val_accuracy improved from 0.80456 to 0.81189, saving model to /kaggle/working/best_weights.weights.h5\n",
      "\u001b[1m154/154\u001b[0m \u001b[32m━━━━━━━━━━━━━━━━━━━━\u001b[0m\u001b[37m\u001b[0m \u001b[1m74s\u001b[0m 461ms/step - accuracy: 0.8498 - loss: 0.3452 - val_accuracy: 0.8119 - val_loss: 0.3987\n",
      "Epoch 6/100\n",
      "\u001b[1m153/154\u001b[0m \u001b[32m━━━━━━━━━━━━━━━━━━━\u001b[0m\u001b[37m━\u001b[0m \u001b[1m0s\u001b[0m 363ms/step - accuracy: 0.8319 - loss: 0.3742\n",
      "Epoch 6: val_accuracy improved from 0.81189 to 0.82003, saving model to /kaggle/working/best_weights.weights.h5\n",
      "\u001b[1m154/154\u001b[0m \u001b[32m━━━━━━━━━━━━━━━━━━━━\u001b[0m\u001b[37m\u001b[0m \u001b[1m74s\u001b[0m 462ms/step - accuracy: 0.8320 - loss: 0.3740 - val_accuracy: 0.8200 - val_loss: 0.4231\n",
      "Epoch 7/100\n",
      "\u001b[1m153/154\u001b[0m \u001b[32m━━━━━━━━━━━━━━━━━━━\u001b[0m\u001b[37m━\u001b[0m \u001b[1m0s\u001b[0m 363ms/step - accuracy: 0.8535 - loss: 0.3515\n",
      "Epoch 7: val_accuracy did not improve from 0.82003\n",
      "\u001b[1m154/154\u001b[0m \u001b[32m━━━━━━━━━━━━━━━━━━━━\u001b[0m\u001b[37m\u001b[0m \u001b[1m74s\u001b[0m 460ms/step - accuracy: 0.8533 - loss: 0.3517 - val_accuracy: 0.8160 - val_loss: 0.4207\n",
      "Epoch 8/100\n",
      "\u001b[1m153/154\u001b[0m \u001b[32m━━━━━━━━━━━━━━━━━━━\u001b[0m\u001b[37m━\u001b[0m \u001b[1m0s\u001b[0m 361ms/step - accuracy: 0.8433 - loss: 0.3520\n",
      "Epoch 8: val_accuracy did not improve from 0.82003\n",
      "\u001b[1m154/154\u001b[0m \u001b[32m━━━━━━━━━━━━━━━━━━━━\u001b[0m\u001b[37m\u001b[0m \u001b[1m73s\u001b[0m 456ms/step - accuracy: 0.8432 - loss: 0.3521 - val_accuracy: 0.8005 - val_loss: 0.4275\n",
      "Epoch 9/100\n",
      "\u001b[1m153/154\u001b[0m \u001b[32m━━━━━━━━━━━━━━━━━━━\u001b[0m\u001b[37m━\u001b[0m \u001b[1m0s\u001b[0m 360ms/step - accuracy: 0.8428 - loss: 0.3545\n",
      "Epoch 9: val_accuracy improved from 0.82003 to 0.82248, saving model to /kaggle/working/best_weights.weights.h5\n",
      "\u001b[1m154/154\u001b[0m \u001b[32m━━━━━━━━━━━━━━━━━━━━\u001b[0m\u001b[37m\u001b[0m \u001b[1m73s\u001b[0m 457ms/step - accuracy: 0.8428 - loss: 0.3546 - val_accuracy: 0.8225 - val_loss: 0.4004\n",
      "Epoch 10/100\n",
      "\u001b[1m153/154\u001b[0m \u001b[32m━━━━━━━━━━━━━━━━━━━\u001b[0m\u001b[37m━\u001b[0m \u001b[1m0s\u001b[0m 362ms/step - accuracy: 0.8561 - loss: 0.3411\n",
      "Epoch 10: val_accuracy improved from 0.82248 to 0.82492, saving model to /kaggle/working/best_weights.weights.h5\n",
      "\u001b[1m154/154\u001b[0m \u001b[32m━━━━━━━━━━━━━━━━━━━━\u001b[0m\u001b[37m\u001b[0m \u001b[1m74s\u001b[0m 463ms/step - accuracy: 0.8559 - loss: 0.3412 - val_accuracy: 0.8249 - val_loss: 0.4260\n",
      "Epoch 11/100\n",
      "\u001b[1m153/154\u001b[0m \u001b[32m━━━━━━━━━━━━━━━━━━━\u001b[0m\u001b[37m━\u001b[0m \u001b[1m0s\u001b[0m 361ms/step - accuracy: 0.8425 - loss: 0.3421\n",
      "Epoch 11: val_accuracy did not improve from 0.82492\n",
      "\u001b[1m154/154\u001b[0m \u001b[32m━━━━━━━━━━━━━━━━━━━━\u001b[0m\u001b[37m\u001b[0m \u001b[1m73s\u001b[0m 456ms/step - accuracy: 0.8426 - loss: 0.3421 - val_accuracy: 0.8143 - val_loss: 0.4154\n",
      "Epoch 12/100\n",
      "\u001b[1m153/154\u001b[0m \u001b[32m━━━━━━━━━━━━━━━━━━━\u001b[0m\u001b[37m━\u001b[0m \u001b[1m0s\u001b[0m 361ms/step - accuracy: 0.8405 - loss: 0.3561\n",
      "Epoch 12: val_accuracy did not improve from 0.82492\n",
      "\u001b[1m154/154\u001b[0m \u001b[32m━━━━━━━━━━━━━━━━━━━━\u001b[0m\u001b[37m\u001b[0m \u001b[1m74s\u001b[0m 458ms/step - accuracy: 0.8405 - loss: 0.3560 - val_accuracy: 0.8119 - val_loss: 0.4468\n",
      "Epoch 13/100\n",
      "\u001b[1m153/154\u001b[0m \u001b[32m━━━━━━━━━━━━━━━━━━━\u001b[0m\u001b[37m━\u001b[0m \u001b[1m0s\u001b[0m 359ms/step - accuracy: 0.8503 - loss: 0.3366\n",
      "Epoch 13: val_accuracy did not improve from 0.82492\n",
      "\u001b[1m154/154\u001b[0m \u001b[32m━━━━━━━━━━━━━━━━━━━━\u001b[0m\u001b[37m\u001b[0m \u001b[1m73s\u001b[0m 455ms/step - accuracy: 0.8503 - loss: 0.3366 - val_accuracy: 0.8013 - val_loss: 0.4775\n",
      "Epoch 13: early stopping\n",
      "Restoring model weights from the end of the best epoch: 3.\n",
      "\u001b[1m38/38\u001b[0m \u001b[32m━━━━━━━━━━━━━━━━━━━━\u001b[0m\u001b[37m\u001b[0m \u001b[1m15s\u001b[0m 375ms/step - accuracy: 0.8307 - loss: 0.3942\n",
      "Test Accuracy Before Fine-tuning: 82.65%\n"
     ]
    }
   ],
   "source": [
    "history = model.fit(\n",
    "    train_generator,\n",
    "    epochs=EPOCHS,\n",
    "    validation_data=validation_generator,\n",
    "    callbacks=[checkpoint_callback, early_stopping_callback, ClearMemory()]\n",
    ")\n",
    "\n",
    "initial_test_loss, initial_test_acc = model.evaluate(validation_generator, \n",
    "                                                     steps=validation_generator.samples // BATCH_SIZE)\n",
    "\n",
    "print(f\"Test Accuracy Before Fine-tuning: {initial_test_acc*100:.2f}%\")"
   ]
  }
 ],
 "metadata": {
  "kaggle": {
   "accelerator": "nvidiaTeslaT4",
   "dataSources": [
    {
     "datasetId": 6807513,
     "sourceId": 10945047,
     "sourceType": "datasetVersion"
    },
    {
     "sourceId": 226199528,
     "sourceType": "kernelVersion"
    }
   ],
   "isGpuEnabled": true,
   "isInternetEnabled": true,
   "language": "python",
   "sourceType": "notebook"
  },
  "kernelspec": {
   "display_name": "Python 3",
   "language": "python",
   "name": "python3"
  },
  "language_info": {
   "codemirror_mode": {
    "name": "ipython",
    "version": 3
   },
   "file_extension": ".py",
   "mimetype": "text/x-python",
   "name": "python",
   "nbconvert_exporter": "python",
   "pygments_lexer": "ipython3",
   "version": "3.10.12"
  },
  "papermill": {
   "default_parameters": {},
   "duration": 1047.116402,
   "end_time": "2025-03-09T01:33:14.340645",
   "environment_variables": {},
   "exception": null,
   "input_path": "__notebook__.ipynb",
   "output_path": "__notebook__.ipynb",
   "parameters": {},
   "start_time": "2025-03-09T01:15:47.224243",
   "version": "2.6.0"
  }
 },
 "nbformat": 4,
 "nbformat_minor": 5
}
