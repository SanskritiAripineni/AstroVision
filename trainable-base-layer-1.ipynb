{
 "cells": [
  {
   "cell_type": "code",
   "execution_count": 1,
   "id": "a11ec590",
   "metadata": {
    "_cell_guid": "b1076dfc-b9ad-4769-8c92-a6c4dae69d19",
    "_uuid": "8f2839f25d086af736a60e9eeb907d3b93b6e0e5",
    "execution": {
     "iopub.execute_input": "2025-03-09T01:14:10.490298Z",
     "iopub.status.busy": "2025-03-09T01:14:10.490094Z",
     "iopub.status.idle": "2025-03-09T01:14:23.680941Z",
     "shell.execute_reply": "2025-03-09T01:14:23.679969Z"
    },
    "papermill": {
     "duration": 13.195901,
     "end_time": "2025-03-09T01:14:23.683103",
     "exception": false,
     "start_time": "2025-03-09T01:14:10.487202",
     "status": "completed"
    },
    "tags": []
   },
   "outputs": [],
   "source": [
    "import numpy as np\n",
    "import matplotlib.pyplot as plt\n",
    "import seaborn as sea\n",
    "import tensorflow as tf\n",
    "import random\n",
    "import gc\n",
    "\n",
    "import tensorflow.keras.backend as K\n",
    "from tensorflow.keras.callbacks import Callback\n",
    "from tensorflow.keras.preprocessing.image import ImageDataGenerator\n",
    "from tensorflow.keras.applications import MobileNetV2\n",
    "from tensorflow.keras.models import Model, Sequential\n",
    "from tensorflow.keras.layers import Dense, GlobalAveragePooling2D, ReLU, BatchNormalization\n",
    "from tensorflow.keras.initializers import HeNormal, Ones, Constant\n",
    "from tensorflow.keras.optimizers import Adam\n",
    "from tensorflow.keras.callbacks import ModelCheckpoint, EarlyStopping\n",
    "\n",
    "import warnings\n",
    "warnings.filterwarnings(\"ignore\")"
   ]
  },
  {
   "cell_type": "code",
   "execution_count": 2,
   "id": "39646a8c",
   "metadata": {
    "execution": {
     "iopub.execute_input": "2025-03-09T01:14:23.688338Z",
     "iopub.status.busy": "2025-03-09T01:14:23.687844Z",
     "iopub.status.idle": "2025-03-09T01:14:23.691559Z",
     "shell.execute_reply": "2025-03-09T01:14:23.690949Z"
    },
    "papermill": {
     "duration": 0.007128,
     "end_time": "2025-03-09T01:14:23.692719",
     "exception": false,
     "start_time": "2025-03-09T01:14:23.685591",
     "status": "completed"
    },
    "tags": []
   },
   "outputs": [],
   "source": [
    "SEED = 3126  \n",
    "random.seed(SEED)\n",
    "np.random.seed(SEED)\n",
    "tf.random.set_seed(SEED)"
   ]
  },
  {
   "cell_type": "code",
   "execution_count": 3,
   "id": "a234c138",
   "metadata": {
    "execution": {
     "iopub.execute_input": "2025-03-09T01:14:23.697280Z",
     "iopub.status.busy": "2025-03-09T01:14:23.697064Z",
     "iopub.status.idle": "2025-03-09T01:14:28.368021Z",
     "shell.execute_reply": "2025-03-09T01:14:28.367314Z"
    },
    "papermill": {
     "duration": 4.6752,
     "end_time": "2025-03-09T01:14:28.369711",
     "exception": false,
     "start_time": "2025-03-09T01:14:23.694511",
     "status": "completed"
    },
    "tags": []
   },
   "outputs": [
    {
     "name": "stdout",
     "output_type": "stream",
     "text": [
      "Found 4913 images belonging to 4 classes.\n",
      "Found 1228 images belonging to 4 classes.\n"
     ]
    }
   ],
   "source": [
    "WIDTH, HEIGHT = 224, 224\n",
    "BATCH_SIZE = 32\n",
    "LEARNING_RATE = .01\n",
    "EPOCHS = 100\n",
    "DIR = \"/kaggle/input/finalized-astrovision-data\"\n",
    "\n",
    "train_datagen = ImageDataGenerator(\n",
    "    rescale=1./255,\n",
    "    rotation_range=30,\n",
    "    width_shift_range=0.1,\n",
    "    height_shift_range=0.1,\n",
    "    shear_range=0.2,\n",
    "    zoom_range=0.2,\n",
    "    horizontal_flip=True,\n",
    "    fill_mode='nearest',\n",
    "    validation_split=0.2\n",
    ")\n",
    "\n",
    "train_generator = train_datagen.flow_from_directory(\n",
    "    DIR,\n",
    "    target_size=(WIDTH, HEIGHT),\n",
    "    batch_size=BATCH_SIZE,\n",
    "    class_mode='categorical',\n",
    "    subset='training',\n",
    "    seed=SEED  \n",
    ")\n",
    "\n",
    "validation_generator = train_datagen.flow_from_directory(\n",
    "    DIR,\n",
    "    target_size=(WIDTH, HEIGHT),\n",
    "    batch_size=BATCH_SIZE,\n",
    "    class_mode='categorical',\n",
    "    subset='validation',\n",
    "    seed=SEED \n",
    ")"
   ]
  },
  {
   "cell_type": "code",
   "execution_count": 4,
   "id": "6a0f72dc",
   "metadata": {
    "execution": {
     "iopub.execute_input": "2025-03-09T01:14:28.374570Z",
     "iopub.status.busy": "2025-03-09T01:14:28.374350Z",
     "iopub.status.idle": "2025-03-09T01:14:28.378985Z",
     "shell.execute_reply": "2025-03-09T01:14:28.378117Z"
    },
    "papermill": {
     "duration": 0.008368,
     "end_time": "2025-03-09T01:14:28.380211",
     "exception": false,
     "start_time": "2025-03-09T01:14:28.371843",
     "status": "completed"
    },
    "tags": []
   },
   "outputs": [],
   "source": [
    "def make_dense_layer(input_size, dropout_rate=0.0, input_shape=None):\n",
    "    layers = []\n",
    "    if input_shape:\n",
    "        layers.append(Dense(input_size,\n",
    "                            use_bias=False, \n",
    "                            input_shape=input_shape,\n",
    "                            kernel_initializer=HeNormal()\n",
    "                            ))\n",
    "    else:\n",
    "        layers.append(Dense(input_size, use_bias=False, kernel_initializer=HeNormal()))\n",
    "    layers.extend([BatchNormalization(gamma_initializer=Ones(), beta_initializer=Constant(0.25)),\n",
    "                  ReLU()])\n",
    "    if dropout_rate > 0:\n",
    "        layers.append(Dropout(dropout_rate))\n",
    "    return Sequential(layers)"
   ]
  },
  {
   "cell_type": "code",
   "execution_count": 5,
   "id": "019a7138",
   "metadata": {
    "execution": {
     "iopub.execute_input": "2025-03-09T01:14:28.384575Z",
     "iopub.status.busy": "2025-03-09T01:14:28.384376Z",
     "iopub.status.idle": "2025-03-09T01:14:28.388776Z",
     "shell.execute_reply": "2025-03-09T01:14:28.388190Z"
    },
    "papermill": {
     "duration": 0.008001,
     "end_time": "2025-03-09T01:14:28.390083",
     "exception": false,
     "start_time": "2025-03-09T01:14:28.382082",
     "status": "completed"
    },
    "tags": []
   },
   "outputs": [],
   "source": [
    "def build_model():\n",
    "    base_model = MobileNetV2(weights='imagenet', include_top=False,\n",
    "                             input_shape=(WIDTH, HEIGHT, 3))\n",
    "    base_model.trainable = True\n",
    "    for layer in base_model.layers[1:]:  \n",
    "        layer.trainable = False\n",
    "        \n",
    "    x = base_model.output\n",
    "    x = GlobalAveragePooling2D()(x)\n",
    "\n",
    "    fc_layers = Sequential([\n",
    "        make_dense_layer(1024, input_shape=(x.shape[-1],)),\n",
    "        make_dense_layer(8)\n",
    "    ])\n",
    "    x = fc_layers(x)\n",
    "    predictions = Dense(train_generator.num_classes,\n",
    "                        activation='softmax',\n",
    "                        kernel_initializer=HeNormal())(x)\n",
    "\n",
    "    model = Model(inputs=base_model.input, outputs=predictions)\n",
    "    model.compile(optimizer=Adam(learning_rate=LEARNING_RATE),\n",
    "                 loss='categorical_crossentropy',\n",
    "                 metrics=['accuracy'])   \n",
    "    return model"
   ]
  },
  {
   "cell_type": "code",
   "execution_count": 6,
   "id": "0f2ead8c",
   "metadata": {
    "execution": {
     "iopub.execute_input": "2025-03-09T01:14:28.394343Z",
     "iopub.status.busy": "2025-03-09T01:14:28.394153Z",
     "iopub.status.idle": "2025-03-09T01:14:28.397364Z",
     "shell.execute_reply": "2025-03-09T01:14:28.396709Z"
    },
    "papermill": {
     "duration": 0.00655,
     "end_time": "2025-03-09T01:14:28.398479",
     "exception": false,
     "start_time": "2025-03-09T01:14:28.391929",
     "status": "completed"
    },
    "tags": []
   },
   "outputs": [],
   "source": [
    "class ClearMemory(Callback):\n",
    "    def on_epoch_end(self, epoch, logs=None):\n",
    "        K.clear_session()  \n",
    "        gc.collect() "
   ]
  },
  {
   "cell_type": "code",
   "execution_count": 7,
   "id": "28beacb9",
   "metadata": {
    "execution": {
     "iopub.execute_input": "2025-03-09T01:14:28.402842Z",
     "iopub.status.busy": "2025-03-09T01:14:28.402640Z",
     "iopub.status.idle": "2025-03-09T01:14:32.173913Z",
     "shell.execute_reply": "2025-03-09T01:14:32.172841Z"
    },
    "papermill": {
     "duration": 3.775605,
     "end_time": "2025-03-09T01:14:32.175970",
     "exception": false,
     "start_time": "2025-03-09T01:14:28.400365",
     "status": "completed"
    },
    "tags": []
   },
   "outputs": [
    {
     "name": "stdout",
     "output_type": "stream",
     "text": [
      "Downloading data from https://storage.googleapis.com/tensorflow/keras-applications/mobilenet_v2/mobilenet_v2_weights_tf_dim_ordering_tf_kernels_1.0_224_no_top.h5\n",
      "\u001b[1m9406464/9406464\u001b[0m \u001b[32m━━━━━━━━━━━━━━━━━━━━\u001b[0m\u001b[37m\u001b[0m \u001b[1m0s\u001b[0m 0us/step\n"
     ]
    }
   ],
   "source": [
    "model = build_model()\n",
    "model.load_weights(\"/kaggle/input/baseline-tf-model-2-hidden/best_weights.weights.h5\")\n",
    "\n",
    "best_weights_path = \"/kaggle/working/best_weights.weights.h5\"\n",
    "\n",
    "checkpoint_callback = ModelCheckpoint(\n",
    "    filepath=best_weights_path,  \n",
    "    monitor='val_accuracy',    \n",
    "    save_best_only=True,       \n",
    "    save_weights_only=True,    \n",
    "    mode='max',                \n",
    "    verbose=1                  \n",
    ")\n",
    "\n",
    "early_stopping_callback = EarlyStopping(\n",
    "    monitor='val_loss',  \n",
    "    patience=10,              \n",
    "    mode='min',              \n",
    "    min_delta=.001,\n",
    "    restore_best_weights=True,  \n",
    "    verbose=1\n",
    ")"
   ]
  }
 ],
 "metadata": {
  "kaggle": {
   "accelerator": "nvidiaTeslaT4",
   "dataSources": [
    {
     "datasetId": 6807513,
     "sourceId": 10945047,
     "sourceType": "datasetVersion"
    },
    {
     "sourceId": 226199528,
     "sourceType": "kernelVersion"
    }
   ],
   "isGpuEnabled": true,
   "isInternetEnabled": true,
   "language": "python",
   "sourceType": "notebook"
  },
  "kernelspec": {
   "display_name": "Python 3",
   "language": "python",
   "name": "python3"
  },
  "language_info": {
   "codemirror_mode": {
    "name": "ipython",
    "version": 3
   },
   "file_extension": ".py",
   "mimetype": "text/x-python",
   "name": "python",
   "nbconvert_exporter": "python",
   "pygments_lexer": "ipython3",
   "version": "3.10.12"
  },
  "papermill": {
   "default_parameters": {},
   "duration": 26.748814,
   "end_time": "2025-03-09T01:14:34.700384",
   "environment_variables": {},
   "exception": null,
   "input_path": "__notebook__.ipynb",
   "output_path": "__notebook__.ipynb",
   "parameters": {},
   "start_time": "2025-03-09T01:14:07.951570",
   "version": "2.6.0"
  }
 },
 "nbformat": 4,
 "nbformat_minor": 5
}
