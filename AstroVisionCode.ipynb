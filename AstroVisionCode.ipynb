{
 "cells": [
  {
   "cell_type": "markdown",
   "metadata": {
    "id": "iy8fwGHKOKQq"
   },
   "source": [
    "# Setup and Mount Google Drive"
   ]
  },
  {
   "cell_type": "markdown",
   "metadata": {
    "id": "RJqZ3PjO5SoG"
   },
   "source": []
  },
  {
   "cell_type": "code",
   "execution_count": 3,
   "metadata": {},
   "outputs": [
    {
     "name": "stdout",
     "output_type": "stream",
     "text": [
      "Requirement already satisfied: torchsummary in c:\\users\\kdfer\\anaconda3\\lib\\site-packages (1.5.1)\n"
     ]
    }
   ],
   "source": [
    "!pip install torchsummary"
   ]
  },
  {
   "cell_type": "code",
   "execution_count": null,
   "metadata": {},
   "outputs": [],
   "source": []
  },
  {
   "cell_type": "code",
   "execution_count": null,
   "metadata": {},
   "outputs": [],
   "source": []
  },
  {
   "cell_type": "code",
   "execution_count": null,
   "metadata": {},
   "outputs": [],
   "source": []
  },
  {
   "cell_type": "code",
   "execution_count": null,
   "metadata": {},
   "outputs": [],
   "source": [
    "\n"
   ]
  },
  {
   "cell_type": "markdown",
   "metadata": {
    "id": "tOlpLb3nQS8T"
   },
   "source": [
    "NOTES\n",
    "- look into student teacher learning model"
   ]
  },
  {
   "cell_type": "markdown",
   "metadata": {
    "id": "E0XJfLeAQVy7"
   },
   "source": [
    "- Look at confusion matrix, the classes are imbalanced causing this issue"
   ]
  },
  {
   "cell_type": "markdown",
   "metadata": {
    "id": "Mff3x_5wOXDE"
   },
   "source": [
    "# Import Required Libraries"
   ]
  },
  {
   "cell_type": "code",
   "execution_count": 7,
   "metadata": {
    "id": "NmZ2KVD6yk29"
   },
   "outputs": [],
   "source": [
    "# import all the required libraries, use tensor flow for model - watch some video about tensorflow functions\n",
    "\n",
    "import numpy as np\n",
    "import matplotlib.pyplot as plt\n",
    "import seaborn as sns\n",
    "import tensorflow as tf\n",
    "from tensorflow.keras.preprocessing.image import ImageDataGenerator\n",
    "from tensorflow.keras.applications import MobileNetV2\n",
    "from tensorflow.keras.models import Model\n",
    "from tensorflow.keras.layers import Dense, GlobalAveragePooling2D\n",
    "from tensorflow.keras.optimizers import Adam\n",
    "from sklearn.metrics import classification_report, confusion_matrix\n",
    "from IPython.display import display\n",
    "from PIL import Image"
   ]
  },
  {
   "cell_type": "markdown",
   "metadata": {
    "id": "4D4rNoPvOk3B"
   },
   "source": [
    "# Set Parameters and Data Preparation\n"
   ]
  },
  {
   "cell_type": "code",
   "execution_count": 9,
   "metadata": {
    "colab": {
     "base_uri": "https://localhost:8080/"
    },
    "id": "5p_prbWlOlqF",
    "outputId": "0ad75678-3adc-4202-8590-460001fc8dd1"
   },
   "outputs": [
    {
     "name": "stdout",
     "output_type": "stream",
     "text": [
      "Found 3568 images belonging to 4 classes.\n",
      "Found 890 images belonging to 4 classes.\n"
     ]
    }
   ],
   "source": [
    "\n",
    "img_width, img_height = 224, 224  # set the images to all same size\n",
    "batch_size = 32 #dataset is split into batches of 32\n",
    "epochs = 5 # how many cycles of training\n",
    "\n",
    "\n",
    "path_to_training_data = \"/Users/kdfer/Desktop/ACM Research/GalaxyImages\" # dataset\n",
    "\n",
    "\n",
    "#data augmentation\n",
    "train_datagen = ImageDataGenerator( #when is this used?\n",
    "    rescale=1./255,\n",
    "    rotation_range=20,\n",
    "    width_shift_range=0.2,\n",
    "    height_shift_range=0.2,\n",
    "    shear_range=0.2,\n",
    "    zoom_range=0.2,\n",
    "    horizontal_flip=True,\n",
    "    fill_mode='nearest',\n",
    "    validation_split=0.2)\n",
    "\n",
    "\n",
    "train_generator = train_datagen.flow_from_directory(\n",
    "    path_to_training_data,\n",
    "    target_size=(img_width, img_height),\n",
    "    batch_size=batch_size,\n",
    "    class_mode='categorical',\n",
    "    subset='training')\n",
    "\n",
    "validation_generator = train_datagen.flow_from_directory(\n",
    "    path_to_training_data,\n",
    "    target_size=(img_width, img_height),\n",
    "    batch_size=batch_size,\n",
    "    class_mode='categorical',\n",
    "    subset='validation')"
   ]
  },
  {
   "cell_type": "markdown",
   "metadata": {
    "id": "8K0ACxjcRxc8"
   },
   "source": [
    "# base Model\n",
    "# how to implement a basic CNN"
   ]
  },
  {
   "cell_type": "code",
   "execution_count": 11,
   "metadata": {
    "colab": {
     "background_save": true
    },
    "id": "CJVlzfrrR1mg",
    "outputId": "abb7346f-4c34-401a-8f26-be1fd6a81113"
   },
   "outputs": [],
   "source": [
    "def build_model():\n",
    "  # model from tensorflow\n",
    "    base_model = MobileNetV2(weights='imagenet', include_top=False, input_shape=(img_width, img_height, 3))\n",
    "\n",
    "\n",
    "    base_model.trainable = False\n",
    "    x = base_model.output\n",
    "    x = GlobalAveragePooling2D()(x)\n",
    "    x = Dense(1024, activation='relu')(x) # activation function used\n",
    "    predictions = Dense(4, activation='softmax')(x)\n",
    "    model = Model(inputs=base_model.input, outputs=predictions)\n",
    "    model.compile(optimizer=Adam(learning_rate=0.0001), # optimizer\n",
    "                  loss='categorical_crossentropy', metrics=['accuracy'])\n",
    "    return model\n",
    "\n",
    "model = build_model()"
   ]
  },
  {
   "cell_type": "markdown",
   "metadata": {
    "id": "ixqP3-T5OwFn"
   },
   "source": [
    "# Model Training Before Transfer Learning"
   ]
  },
  {
   "cell_type": "code",
   "execution_count": null,
   "metadata": {
    "colab": {
     "base_uri": "https://localhost:8080/"
    },
    "id": "PfaehQXfO0ko",
    "outputId": "9532066d-0e81-450b-de02-03ba174b1f58"
   },
   "outputs": [
    {
     "name": "stderr",
     "output_type": "stream",
     "text": [
      "C:\\Users\\kdfer\\anaconda3\\Lib\\site-packages\\keras\\src\\trainers\\data_adapters\\py_dataset_adapter.py:121: UserWarning: Your `PyDataset` class should call `super().__init__(**kwargs)` in its constructor. `**kwargs` can include `workers`, `use_multiprocessing`, `max_queue_size`. Do not pass these arguments to `fit()`, as they will be ignored.\n",
      "  self._warn_if_super_not_called()\n"
     ]
    },
    {
     "name": "stdout",
     "output_type": "stream",
     "text": [
      "Epoch 1/5\n",
      "\u001b[1m 67/112\u001b[0m \u001b[32m━━━━━━━━━━━\u001b[0m\u001b[37m━━━━━━━━━\u001b[0m \u001b[1m33s\u001b[0m 745ms/step - accuracy: 0.7085 - loss: 0.8566"
     ]
    }
   ],
   "source": [
    "history = model.fit(  # this trains the neural net with dataset\n",
    "    train_generator,\n",
    "    epochs=epochs,\n",
    "    validation_data=validation_generator)\n",
    "\n",
    "initial_test_loss, initial_test_acc = model.evaluate(validation_generator, steps=validation_generator.samples // batch_size)\n",
    "print(f\"Test Accuracy Before Fine-tuning: {initial_test_acc*100:.2f}%\")"
   ]
  },
  {
   "cell_type": "markdown",
   "metadata": {
    "id": "8LM9oqA3O3Mi"
   },
   "source": [
    "# Plot Accuracy and Loss Before Fine-Tuning/ Transfer learning"
   ]
  },
  {
   "cell_type": "code",
   "execution_count": null,
   "metadata": {
    "colab": {
     "base_uri": "https://localhost:8080/",
     "height": 581
    },
    "id": "CDMs2J9NP12q",
    "outputId": "10a9ccfa-9781-4d12-bb0a-2babd81e42eb"
   },
   "outputs": [],
   "source": [
    "def plot_acc_loss(history):\n",
    "    acc = history.history['accuracy']\n",
    "    val_acc = history.history['val_accuracy']\n",
    "    loss = history.history['loss']\n",
    "    val_loss = history.history['val_loss']\n",
    "\n",
    "    epochs_range = range(len(acc))\n",
    "\n",
    "    plt.figure(figsize=(12, 6))\n",
    "    plt.subplot(1, 2, 1)\n",
    "    plt.plot(epochs_range, acc, label='Training Accuracy')\n",
    "    plt.plot(epochs_range, val_acc, label='Validation Accuracy')\n",
    "    plt.legend(loc='lower right')\n",
    "    plt.title('Training and Validation Accuracy')\n",
    "\n",
    "    plt.subplot(1, 2, 2)\n",
    "    plt.plot(epochs_range, loss, label='Training Loss')\n",
    "    plt.plot(epochs_range, val_loss, label='Validation Loss')\n",
    "    plt.legend(loc='upper right')\n",
    "    plt.title('Training and Validation Loss')\n",
    "    plt.show()\n",
    "\n",
    "plot_acc_loss(history)\n",
    "test_loss, test_acc = model.evaluate(validation_generator, steps=validation_generator.samples // batch_size)\n",
    "print(f\"Test Accuracy After Fine-tuning: {test_acc*100:.2f}%\")"
   ]
  },
  {
   "cell_type": "markdown",
   "metadata": {
    "id": "IZDAyx2sWYay"
   },
   "source": [
    "# Fine-Tuning and Re-Training"
   ]
  },
  {
   "cell_type": "code",
   "execution_count": null,
   "metadata": {
    "colab": {
     "base_uri": "https://localhost:8080/"
    },
    "id": "b6p032IYWchN",
    "outputId": "a1f5f1e1-5d8a-4808-da7f-8c9db94b367e"
   },
   "outputs": [],
   "source": [
    "from tensorflow.keras.applications import MobileNetV2\n",
    "from tensorflow.keras.models import Model\n",
    "from tensorflow.keras.layers import Dense, GlobalAveragePooling2D\n",
    "from tensorflow.keras.optimizers import Adam\n",
    "\n",
    "\n",
    "base_model = MobileNetV2(weights='imagenet', include_top=False, input_shape=(224, 224, 3))\n",
    "\n",
    "\n",
    "x = base_model.output\n",
    "x = GlobalAveragePooling2D()(x)\n",
    "x = Dense(1024, activation='relu')(x)\n",
    "predictions = Dense(4, activation='softmax')(x)\n",
    "\n",
    "model = Model(inputs=base_model.input, outputs=predictions)\n",
    "\n",
    "for layer in base_model.layers:\n",
    "    layer.trainable = False\n",
    "\n",
    "model.compile(optimizer=Adam(learning_rate=0.0001), loss='categorical_crossentropy', metrics=['accuracy'])\n",
    "\n",
    "model.fit(train_generator, epochs=5, validation_data=validation_generator)\n"
   ]
  },
  {
   "cell_type": "markdown",
   "metadata": {
    "id": "q_LJ_ZqXP6oc"
   },
   "source": [
    "# Plot Accuracy and Loss After Transfer Learning"
   ]
  },
  {
   "cell_type": "code",
   "execution_count": null,
   "metadata": {
    "colab": {
     "base_uri": "https://localhost:8080/",
     "height": 727
    },
    "id": "g5xt0w-QP8AL",
    "outputId": "df6ea92c-f642-454c-d137-1d49050157f7"
   },
   "outputs": [],
   "source": [
    "fine_tune_history = model.fit(\n",
    "    train_generator,\n",
    "    epochs=5,\n",
    "    validation_data=validation_generator\n",
    ")\n",
    "import matplotlib.pyplot as plt\n",
    "\n",
    "def plot_acc_loss(training_history):\n",
    "    acc = training_history.history['accuracy']\n",
    "    val_acc = training_history.history['val_accuracy']\n",
    "    loss = training_history.history['loss']\n",
    "    val_loss = training_history.history['val_loss']\n",
    "    epochs = range(1, len(acc) + 1)\n",
    "\n",
    "    plt.figure(figsize=(12, 6))\n",
    "    plt.subplot(1, 2, 1)\n",
    "    plt.plot(epochs, acc, 'bo', label='Training accuracy')\n",
    "    plt.plot(epochs, val_acc, 'b', label='Validation accuracy')\n",
    "    plt.title('Training and Validation Accuracy')\n",
    "    plt.legend()\n",
    "\n",
    "    plt.subplot(1, 2, 2)\n",
    "    plt.plot(epochs, loss, 'ro', label='Training loss')\n",
    "    plt.plot(epochs, val_loss, 'r', label='Validation loss')\n",
    "    plt.title('Training and Validation Loss')\n",
    "    plt.legend()\n",
    "\n",
    "    plt.show()\n",
    "\n",
    "\n",
    "plot_acc_loss(fine_tune_history)\n"
   ]
  },
  {
   "cell_type": "markdown",
   "metadata": {
    "id": "BZNk_j4UQC5q"
   },
   "source": [
    "# Final Evaluation and Display Predictions"
   ]
  },
  {
   "cell_type": "code",
   "execution_count": null,
   "metadata": {
    "id": "I-kmqG3mQD73"
   },
   "outputs": [],
   "source": [
    "test_loss, test_acc = model.evaluate(validation_generator, steps=validation_generator.samples // batch_size)\n",
    "print(f\"Test Accuracy After Fine-tuning: {test_acc*100:.2f}%\")"
   ]
  },
  {
   "cell_type": "markdown",
   "metadata": {
    "id": "yPI_WZmjQIOr"
   },
   "source": [
    "# Display Classification Metrics and Confusion Matrix"
   ]
  },
  {
   "cell_type": "code",
   "execution_count": null,
   "metadata": {
    "colab": {
     "base_uri": "https://localhost:8080/",
     "height": 505
    },
    "id": "FeLlQOuT5PTK",
    "outputId": "58881b37-bf74-4039-e96b-573705ee8266"
   },
   "outputs": [],
   "source": [
    "from sklearn.metrics import confusion_matrix\n",
    "import seaborn as sns\n",
    "import matplotlib.pyplot as plt\n",
    "\n",
    "def display_confusion_matrix(true_classes, predicted_classes, class_labels):\n",
    "    \"\"\"\n",
    "    This function computes and displays a confusion matrix.\n",
    "    \"\"\"\n",
    "    cm = confusion_matrix(true_classes, predicted_classes)\n",
    "    plt.figure(figsize=(6, 5))\n",
    "    sns.heatmap(cm, annot=True, fmt='d', cmap='Blues', xticklabels=class_labels, yticklabels=class_labels)\n",
    "    plt.title('Confusion Matrix')\n",
    "    plt.xlabel('Predicted Label')\n",
    "    plt.ylabel('True Label')\n",
    "    plt.show()\n",
    "\n",
    "# Get model predictions\n",
    "predictions = model.predict(validation_generator)\n",
    "\n",
    "# Convert probabilities to binary class predictions (0 or 1)\n",
    "predicted_classes = (predictions > 0.5).astype(int).flatten()\n",
    "\n",
    "# Get true labels (already 0 or 1)\n",
    "true_classes = validation_generator.classes.flatten()\n",
    "\n",
    "# Define class labels (assuming binary classification)\n",
    "class_labels = list(validation_generator.class_indices.keys())\n",
    "\n",
    "# Display the confusion matrix\n",
    "display_confusion_matrix(true_classes, predicted_classes, class_labels)"
   ]
  },
  {
   "cell_type": "code",
   "execution_count": null,
   "metadata": {
    "colab": {
     "base_uri": "https://localhost:8080/",
     "height": 1000
    },
    "id": "kwsrXK6QQNy0",
    "outputId": "84216723-470a-4d64-b3cb-6ba063f1d478"
   },
   "outputs": [],
   "source": [
    "def display_predictions(model, generator, num_images=20):\n",
    "    \"\"\"\n",
    "    This function fetches a batch of images, predicts using the model,\n",
    "    and displays the images with actual and predicted labels.\n",
    "    \"\"\"\n",
    "    generator.reset()  # Resetting the generator to avoid shuffling issues\n",
    "    x, y_true = next(generator)\n",
    "    predictions = model.predict(x)\n",
    "\n",
    "    # Convert probabilities to binary predictions (0 or 1)\n",
    "    predicted_classes = (predictions > 0.5).astype(int).flatten()\n",
    "    true_classes = y_true.flatten().astype(int)\n",
    "\n",
    "    # Get class labels from generator\n",
    "    class_labels = list(generator.class_indices.keys())\n",
    "\n",
    "    plt.figure(figsize=(15, 10))\n",
    "    for i in range(min(num_images, len(x))):  # Ensure we don't exceed batch size\n",
    "        plt.subplot(5, 4, i + 1)  # Adjust subplot grid for the number of images\n",
    "        plt.imshow(x[i])\n",
    "        plt.title(f'Actual: {class_labels[true_classes[i]]}\\nPredicted: {class_labels[predicted_classes[i]]}')\n",
    "        plt.axis('off')\n",
    "\n",
    "    plt.tight_layout()\n",
    "    plt.show()\n",
    "\n",
    "display_predictions(model, validation_generator, num_images=20)"
   ]
  }
 ],
 "metadata": {
  "colab": {
   "provenance": []
  },
  "kernelspec": {
   "display_name": "Python 3 (ipykernel)",
   "language": "python",
   "name": "python3"
  },
  "language_info": {
   "codemirror_mode": {
    "name": "ipython",
    "version": 3
   },
   "file_extension": ".py",
   "mimetype": "text/x-python",
   "name": "python",
   "nbconvert_exporter": "python",
   "pygments_lexer": "ipython3",
   "version": "3.12.4"
  }
 },
 "nbformat": 4,
 "nbformat_minor": 4
}
