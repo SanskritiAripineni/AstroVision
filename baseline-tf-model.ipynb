{
 "cells": [
  {
   "cell_type": "code",
   "execution_count": 1,
   "id": "82a524d0",
   "metadata": {
    "_cell_guid": "b1076dfc-b9ad-4769-8c92-a6c4dae69d19",
    "_uuid": "8f2839f25d086af736a60e9eeb907d3b93b6e0e5",
    "execution": {
     "iopub.execute_input": "2025-03-06T17:53:29.978808Z",
     "iopub.status.busy": "2025-03-06T17:53:29.978495Z",
     "iopub.status.idle": "2025-03-06T17:53:43.448454Z",
     "shell.execute_reply": "2025-03-06T17:53:43.447433Z"
    },
    "papermill": {
     "duration": 13.474747,
     "end_time": "2025-03-06T17:53:43.450106",
     "exception": false,
     "start_time": "2025-03-06T17:53:29.975359",
     "status": "completed"
    },
    "tags": []
   },
   "outputs": [],
   "source": [
    "import numpy as np\n",
    "import matplotlib.pyplot as plt\n",
    "import seaborn as sea\n",
    "import tensorflow as tf\n",
    "import random\n",
    "import gc\n",
    "\n",
    "import tensorflow.keras.backend as K\n",
    "from tensorflow.keras.callbacks import Callback\n",
    "from tensorflow.keras.preprocessing.image import ImageDataGenerator\n",
    "from tensorflow.keras.applications import MobileNetV2\n",
    "from tensorflow.keras.models import Model, Sequential\n",
    "from tensorflow.keras.layers import Dense, GlobalAveragePooling2D, ReLU, BatchNormalization\n",
    "from tensorflow.keras.initializers import HeNormal, Ones, Zeros\n",
    "from tensorflow.keras.optimizers import Adam\n",
    "from tensorflow.keras.callbacks import ModelCheckpoint, EarlyStopping"
   ]
  },
  {
   "cell_type": "code",
   "execution_count": 2,
   "id": "16a470c8",
   "metadata": {
    "execution": {
     "iopub.execute_input": "2025-03-06T17:53:43.455311Z",
     "iopub.status.busy": "2025-03-06T17:53:43.454831Z",
     "iopub.status.idle": "2025-03-06T17:53:43.458772Z",
     "shell.execute_reply": "2025-03-06T17:53:43.457948Z"
    },
    "papermill": {
     "duration": 0.007757,
     "end_time": "2025-03-06T17:53:43.460220",
     "exception": false,
     "start_time": "2025-03-06T17:53:43.452463",
     "status": "completed"
    },
    "tags": []
   },
   "outputs": [],
   "source": [
    "SEED = 3126  \n",
    "random.seed(SEED)\n",
    "np.random.seed(SEED)\n",
    "tf.random.set_seed(SEED)"
   ]
  },
  {
   "cell_type": "code",
   "execution_count": 3,
   "id": "5dfa8e92",
   "metadata": {
    "execution": {
     "iopub.execute_input": "2025-03-06T17:53:43.464639Z",
     "iopub.status.busy": "2025-03-06T17:53:43.464411Z",
     "iopub.status.idle": "2025-03-06T17:53:50.357777Z",
     "shell.execute_reply": "2025-03-06T17:53:50.357039Z"
    },
    "papermill": {
     "duration": 6.896973,
     "end_time": "2025-03-06T17:53:50.359076",
     "exception": false,
     "start_time": "2025-03-06T17:53:43.462103",
     "status": "completed"
    },
    "tags": []
   },
   "outputs": [
    {
     "name": "stdout",
     "output_type": "stream",
     "text": [
      "Found 4913 images belonging to 4 classes.\n",
      "Found 1228 images belonging to 4 classes.\n"
     ]
    }
   ],
   "source": [
    "WIDTH, HEIGHT = 224, 224\n",
    "BATCH_SIZE = 32\n",
    "LEARNING_RATE = .01\n",
    "EPOCHS = 25\n",
    "DIR = \"/kaggle/input/finalized-astrovision-data\"\n",
    "\n",
    "train_datagen = ImageDataGenerator(\n",
    "    rescale=1./255,\n",
    "    rotation_range=30,\n",
    "    width_shift_range=0,\n",
    "    height_shift_range=0,\n",
    "    shear_range=0.2,\n",
    "    zoom_range=0.2,\n",
    "    horizontal_flip=True,\n",
    "    fill_mode='nearest',\n",
    "    validation_split=0.2\n",
    ")\n",
    "\n",
    "train_generator = train_datagen.flow_from_directory(\n",
    "    DIR,\n",
    "    target_size=(WIDTH, HEIGHT),\n",
    "    batch_size=BATCH_SIZE,\n",
    "    class_mode='categorical',\n",
    "    subset='training',\n",
    "    seed=SEED  \n",
    ")\n",
    "\n",
    "validation_generator = train_datagen.flow_from_directory(\n",
    "    DIR,\n",
    "    target_size=(WIDTH, HEIGHT),\n",
    "    batch_size=BATCH_SIZE,\n",
    "    class_mode='categorical',\n",
    "    subset='validation',\n",
    "    seed=SEED \n",
    ")"
   ]
  },
  {
   "cell_type": "code",
   "execution_count": 4,
   "id": "d0ecbe56",
   "metadata": {
    "execution": {
     "iopub.execute_input": "2025-03-06T17:53:50.364437Z",
     "iopub.status.busy": "2025-03-06T17:53:50.364148Z",
     "iopub.status.idle": "2025-03-06T17:53:50.368746Z",
     "shell.execute_reply": "2025-03-06T17:53:50.368033Z"
    },
    "papermill": {
     "duration": 0.008445,
     "end_time": "2025-03-06T17:53:50.369997",
     "exception": false,
     "start_time": "2025-03-06T17:53:50.361552",
     "status": "completed"
    },
    "tags": []
   },
   "outputs": [],
   "source": [
    "def make_dense_layer(input_size, dropout_rate=0.0, input_shape=None):\n",
    "    layers = []\n",
    "    if input_shape:\n",
    "        layers.append(Dense(input_size,\n",
    "                            use_bias=False, \n",
    "                            input_shape=input_shape,\n",
    "                            kernel_initializer=HeNormal()\n",
    "                            ))\n",
    "    else:\n",
    "        layers.append(Dense(input_size, use_bias=False, kernel_initializer=HeNormal()))\n",
    "    layers.extend([BatchNormalization(gamma_initializer=Ones(), beta_initializer=Zeros()),\n",
    "                  ReLU()])\n",
    "    if dropout_rate > 0:\n",
    "        layers.append(Dropout(dropout_rate))\n",
    "    return Sequential(layers)"
   ]
  },
  {
   "cell_type": "code",
   "execution_count": 5,
   "id": "7d5607a4",
   "metadata": {
    "execution": {
     "iopub.execute_input": "2025-03-06T17:53:50.374851Z",
     "iopub.status.busy": "2025-03-06T17:53:50.374654Z",
     "iopub.status.idle": "2025-03-06T17:53:50.379331Z",
     "shell.execute_reply": "2025-03-06T17:53:50.378657Z"
    },
    "papermill": {
     "duration": 0.008534,
     "end_time": "2025-03-06T17:53:50.380646",
     "exception": false,
     "start_time": "2025-03-06T17:53:50.372112",
     "status": "completed"
    },
    "tags": []
   },
   "outputs": [],
   "source": [
    "def build_model():\n",
    "    base_model = MobileNetV2(weights='imagenet', include_top=False,\n",
    "                             input_shape=(WIDTH, HEIGHT, 3))\n",
    "    base_model.trainable = False\n",
    "    x = base_model.output\n",
    "    x = GlobalAveragePooling2D()(x)\n",
    "\n",
    "    fc_layers = Sequential([\n",
    "        make_dense_layer(1024, input_shape=(x.shape[-1],)),\n",
    "        make_dense_layer(512),\n",
    "        make_dense_layer(256),\n",
    "        make_dense_layer(32),\n",
    "        make_dense_layer(8)\n",
    "    ])\n",
    "    x = fc_layers(x)\n",
    "    predictions = Dense(train_generator.num_classes,\n",
    "                        activation='softmax',\n",
    "                        kernel_initializer=HeNormal())(x)\n",
    "\n",
    "    model = Model(inputs=base_model.input, outputs=predictions)\n",
    "    model.compile(optimizer=Adam(learning_rate=LEARNING_RATE),\n",
    "                 loss='categorical_crossentropy',\n",
    "                 metrics=['accuracy'])   \n",
    "    return model"
   ]
  },
  {
   "cell_type": "code",
   "execution_count": 6,
   "id": "aa8cbf5e",
   "metadata": {
    "execution": {
     "iopub.execute_input": "2025-03-06T17:53:50.385214Z",
     "iopub.status.busy": "2025-03-06T17:53:50.385019Z",
     "iopub.status.idle": "2025-03-06T17:53:50.388641Z",
     "shell.execute_reply": "2025-03-06T17:53:50.388020Z"
    },
    "papermill": {
     "duration": 0.007167,
     "end_time": "2025-03-06T17:53:50.389873",
     "exception": false,
     "start_time": "2025-03-06T17:53:50.382706",
     "status": "completed"
    },
    "tags": []
   },
   "outputs": [],
   "source": [
    "class ClearMemory(Callback):\n",
    "    def on_epoch_end(self, epoch, logs=None):\n",
    "        K.clear_session()  \n",
    "        gc.collect() "
   ]
  },
  {
   "cell_type": "code",
   "execution_count": 7,
   "id": "d12d201e",
   "metadata": {
    "execution": {
     "iopub.execute_input": "2025-03-06T17:53:50.394691Z",
     "iopub.status.busy": "2025-03-06T17:53:50.394487Z",
     "iopub.status.idle": "2025-03-06T17:53:54.672584Z",
     "shell.execute_reply": "2025-03-06T17:53:54.671598Z"
    },
    "papermill": {
     "duration": 4.281944,
     "end_time": "2025-03-06T17:53:54.673927",
     "exception": false,
     "start_time": "2025-03-06T17:53:50.391983",
     "status": "completed"
    },
    "tags": []
   },
   "outputs": [
    {
     "name": "stdout",
     "output_type": "stream",
     "text": [
      "Downloading data from https://storage.googleapis.com/tensorflow/keras-applications/mobilenet_v2/mobilenet_v2_weights_tf_dim_ordering_tf_kernels_1.0_224_no_top.h5\n",
      "\u001b[1m9406464/9406464\u001b[0m \u001b[32m━━━━━━━━━━━━━━━━━━━━\u001b[0m\u001b[37m\u001b[0m \u001b[1m1s\u001b[0m 0us/step\n"
     ]
    },
    {
     "name": "stderr",
     "output_type": "stream",
     "text": [
      "/usr/local/lib/python3.10/dist-packages/keras/src/layers/core/dense.py:87: UserWarning: Do not pass an `input_shape`/`input_dim` argument to a layer. When using Sequential models, prefer using an `Input(shape)` object as the first layer in the model instead.\n",
      "  super().__init__(activity_regularizer=activity_regularizer, **kwargs)\n"
     ]
    }
   ],
   "source": [
    "model = build_model()\n",
    "\n",
    "best_weights_path = \"/kaggle/working/best_weights.weights.h5\"\n",
    "\n",
    "checkpoint_callback = ModelCheckpoint(\n",
    "    filepath=best_weights_path,  # Path to save the model\n",
    "    monitor='val_accuracy',    # Metric to monitor (can also use 'val_loss')\n",
    "    save_best_only=True,       # Save only the best model\n",
    "    save_weights_only=True,    # Save only the weights (not the full model)\n",
    "    mode='max',                # 'max' because higher accuracy is better\n",
    "    verbose=1                  # Print messages when saving the model\n",
    ")\n",
    "\n",
    "early_stopping_callback = EarlyStopping(\n",
    "    monitor='val_loss',  # Metric to monitor\n",
    "    patience=10,              # Number of epochs with no improvement before stopping\n",
    "    mode='min',              # 'max' because higher accuracy is better\n",
    "    min_delta=.001,\n",
    "    restore_best_weights=True,  # Restores the best weights when stopping\n",
    "    verbose=1\n",
    ")"
   ]
  },
  {
   "cell_type": "code",
   "execution_count": 8,
   "id": "b4580eb1",
   "metadata": {
    "execution": {
     "iopub.execute_input": "2025-03-06T17:53:54.680866Z",
     "iopub.status.busy": "2025-03-06T17:53:54.680620Z",
     "iopub.status.idle": "2025-03-06T18:27:22.898595Z",
     "shell.execute_reply": "2025-03-06T18:27:22.897548Z"
    },
    "papermill": {
     "duration": 2008.223215,
     "end_time": "2025-03-06T18:27:22.900306",
     "exception": false,
     "start_time": "2025-03-06T17:53:54.677091",
     "status": "completed"
    },
    "tags": []
   },
   "outputs": [
    {
     "name": "stdout",
     "output_type": "stream",
     "text": [
      "Epoch 1/25\n"
     ]
    },
    {
     "name": "stderr",
     "output_type": "stream",
     "text": [
      "/usr/local/lib/python3.10/dist-packages/keras/src/trainers/data_adapters/py_dataset_adapter.py:122: UserWarning: Your `PyDataset` class should call `super().__init__(**kwargs)` in its constructor. `**kwargs` can include `workers`, `use_multiprocessing`, `max_queue_size`. Do not pass these arguments to `fit()`, as they will be ignored.\n",
      "  self._warn_if_super_not_called()\n"
     ]
    },
    {
     "name": "stdout",
     "output_type": "stream",
     "text": [
      "\u001b[1m153/154\u001b[0m \u001b[32m━━━━━━━━━━━━━━━━━━━\u001b[0m\u001b[37m━\u001b[0m \u001b[1m0s\u001b[0m 511ms/step - accuracy: 0.6316 - loss: 0.8940\n",
      "Epoch 1: val_accuracy improved from -inf to 0.74511, saving model to /kaggle/working/best_weights.weights.h5\n",
      "\u001b[1m154/154\u001b[0m \u001b[32m━━━━━━━━━━━━━━━━━━━━\u001b[0m\u001b[37m\u001b[0m \u001b[1m123s\u001b[0m 688ms/step - accuracy: 0.6323 - loss: 0.8918 - val_accuracy: 0.7451 - val_loss: 0.6567\n",
      "Epoch 2/25\n",
      "\u001b[1m153/154\u001b[0m \u001b[32m━━━━━━━━━━━━━━━━━━━\u001b[0m\u001b[37m━\u001b[0m \u001b[1m0s\u001b[0m 385ms/step - accuracy: 0.7431 - loss: 0.5608\n",
      "Epoch 2: val_accuracy improved from 0.74511 to 0.78094, saving model to /kaggle/working/best_weights.weights.h5\n",
      "\u001b[1m154/154\u001b[0m \u001b[32m━━━━━━━━━━━━━━━━━━━━\u001b[0m\u001b[37m\u001b[0m \u001b[1m79s\u001b[0m 488ms/step - accuracy: 0.7432 - loss: 0.5606 - val_accuracy: 0.7809 - val_loss: 0.5246\n",
      "Epoch 3/25\n",
      "\u001b[1m153/154\u001b[0m \u001b[32m━━━━━━━━━━━━━━━━━━━\u001b[0m\u001b[37m━\u001b[0m \u001b[1m0s\u001b[0m 376ms/step - accuracy: 0.7715 - loss: 0.5110\n",
      "Epoch 3: val_accuracy improved from 0.78094 to 0.80782, saving model to /kaggle/working/best_weights.weights.h5\n",
      "\u001b[1m154/154\u001b[0m \u001b[32m━━━━━━━━━━━━━━━━━━━━\u001b[0m\u001b[37m\u001b[0m \u001b[1m78s\u001b[0m 483ms/step - accuracy: 0.7717 - loss: 0.5108 - val_accuracy: 0.8078 - val_loss: 0.4468\n",
      "Epoch 4/25\n",
      "\u001b[1m153/154\u001b[0m \u001b[32m━━━━━━━━━━━━━━━━━━━\u001b[0m\u001b[37m━\u001b[0m \u001b[1m0s\u001b[0m 380ms/step - accuracy: 0.8079 - loss: 0.4445\n",
      "Epoch 4: val_accuracy improved from 0.80782 to 0.80863, saving model to /kaggle/working/best_weights.weights.h5\n",
      "\u001b[1m154/154\u001b[0m \u001b[32m━━━━━━━━━━━━━━━━━━━━\u001b[0m\u001b[37m\u001b[0m \u001b[1m78s\u001b[0m 486ms/step - accuracy: 0.8077 - loss: 0.4447 - val_accuracy: 0.8086 - val_loss: 0.4603\n",
      "Epoch 5/25\n",
      "\u001b[1m153/154\u001b[0m \u001b[32m━━━━━━━━━━━━━━━━━━━\u001b[0m\u001b[37m━\u001b[0m \u001b[1m0s\u001b[0m 385ms/step - accuracy: 0.8027 - loss: 0.4519\n",
      "Epoch 5: val_accuracy did not improve from 0.80863\n",
      "\u001b[1m154/154\u001b[0m \u001b[32m━━━━━━━━━━━━━━━━━━━━\u001b[0m\u001b[37m\u001b[0m \u001b[1m79s\u001b[0m 490ms/step - accuracy: 0.8027 - loss: 0.4521 - val_accuracy: 0.7972 - val_loss: 0.4228\n",
      "Epoch 6/25\n",
      "\u001b[1m153/154\u001b[0m \u001b[32m━━━━━━━━━━━━━━━━━━━\u001b[0m\u001b[37m━\u001b[0m \u001b[1m0s\u001b[0m 388ms/step - accuracy: 0.8076 - loss: 0.4472\n",
      "Epoch 6: val_accuracy did not improve from 0.80863\n",
      "\u001b[1m154/154\u001b[0m \u001b[32m━━━━━━━━━━━━━━━━━━━━\u001b[0m\u001b[37m\u001b[0m \u001b[1m79s\u001b[0m 492ms/step - accuracy: 0.8076 - loss: 0.4471 - val_accuracy: 0.8070 - val_loss: 0.4246\n",
      "Epoch 7/25\n",
      "\u001b[1m153/154\u001b[0m \u001b[32m━━━━━━━━━━━━━━━━━━━\u001b[0m\u001b[37m━\u001b[0m \u001b[1m0s\u001b[0m 383ms/step - accuracy: 0.8093 - loss: 0.4379\n",
      "Epoch 7: val_accuracy improved from 0.80863 to 0.83469, saving model to /kaggle/working/best_weights.weights.h5\n",
      "\u001b[1m154/154\u001b[0m \u001b[32m━━━━━━━━━━━━━━━━━━━━\u001b[0m\u001b[37m\u001b[0m \u001b[1m79s\u001b[0m 489ms/step - accuracy: 0.8094 - loss: 0.4378 - val_accuracy: 0.8347 - val_loss: 0.4185\n",
      "Epoch 8/25\n",
      "\u001b[1m153/154\u001b[0m \u001b[32m━━━━━━━━━━━━━━━━━━━\u001b[0m\u001b[37m━\u001b[0m \u001b[1m0s\u001b[0m 380ms/step - accuracy: 0.8269 - loss: 0.4048\n",
      "Epoch 8: val_accuracy did not improve from 0.83469\n",
      "\u001b[1m154/154\u001b[0m \u001b[32m━━━━━━━━━━━━━━━━━━━━\u001b[0m\u001b[37m\u001b[0m \u001b[1m78s\u001b[0m 482ms/step - accuracy: 0.8268 - loss: 0.4049 - val_accuracy: 0.7940 - val_loss: 0.4528\n",
      "Epoch 9/25\n",
      "\u001b[1m153/154\u001b[0m \u001b[32m━━━━━━━━━━━━━━━━━━━\u001b[0m\u001b[37m━\u001b[0m \u001b[1m0s\u001b[0m 381ms/step - accuracy: 0.8248 - loss: 0.3920\n",
      "Epoch 9: val_accuracy did not improve from 0.83469\n",
      "\u001b[1m154/154\u001b[0m \u001b[32m━━━━━━━━━━━━━━━━━━━━\u001b[0m\u001b[37m\u001b[0m \u001b[1m78s\u001b[0m 484ms/step - accuracy: 0.8247 - loss: 0.3921 - val_accuracy: 0.8070 - val_loss: 0.4237\n",
      "Epoch 10/25\n",
      "\u001b[1m153/154\u001b[0m \u001b[32m━━━━━━━━━━━━━━━━━━━\u001b[0m\u001b[37m━\u001b[0m \u001b[1m0s\u001b[0m 376ms/step - accuracy: 0.8345 - loss: 0.3912\n",
      "Epoch 10: val_accuracy did not improve from 0.83469\n",
      "\u001b[1m154/154\u001b[0m \u001b[32m━━━━━━━━━━━━━━━━━━━━\u001b[0m\u001b[37m\u001b[0m \u001b[1m77s\u001b[0m 479ms/step - accuracy: 0.8345 - loss: 0.3912 - val_accuracy: 0.8176 - val_loss: 0.4261\n",
      "Epoch 11/25\n",
      "\u001b[1m153/154\u001b[0m \u001b[32m━━━━━━━━━━━━━━━━━━━\u001b[0m\u001b[37m━\u001b[0m \u001b[1m0s\u001b[0m 380ms/step - accuracy: 0.8173 - loss: 0.3872\n",
      "Epoch 11: val_accuracy did not improve from 0.83469\n",
      "\u001b[1m154/154\u001b[0m \u001b[32m━━━━━━━━━━━━━━━━━━━━\u001b[0m\u001b[37m\u001b[0m \u001b[1m78s\u001b[0m 482ms/step - accuracy: 0.8174 - loss: 0.3871 - val_accuracy: 0.7793 - val_loss: 0.4992\n",
      "Epoch 12/25\n",
      "\u001b[1m153/154\u001b[0m \u001b[32m━━━━━━━━━━━━━━━━━━━\u001b[0m\u001b[37m━\u001b[0m \u001b[1m0s\u001b[0m 381ms/step - accuracy: 0.8267 - loss: 0.3752\n",
      "Epoch 12: val_accuracy did not improve from 0.83469\n",
      "\u001b[1m154/154\u001b[0m \u001b[32m━━━━━━━━━━━━━━━━━━━━\u001b[0m\u001b[37m\u001b[0m \u001b[1m78s\u001b[0m 483ms/step - accuracy: 0.8268 - loss: 0.3752 - val_accuracy: 0.8070 - val_loss: 0.4548\n",
      "Epoch 13/25\n",
      "\u001b[1m153/154\u001b[0m \u001b[32m━━━━━━━━━━━━━━━━━━━\u001b[0m\u001b[37m━\u001b[0m \u001b[1m0s\u001b[0m 381ms/step - accuracy: 0.8332 - loss: 0.3810\n",
      "Epoch 13: val_accuracy did not improve from 0.83469\n",
      "\u001b[1m154/154\u001b[0m \u001b[32m━━━━━━━━━━━━━━━━━━━━\u001b[0m\u001b[37m\u001b[0m \u001b[1m78s\u001b[0m 482ms/step - accuracy: 0.8333 - loss: 0.3809 - val_accuracy: 0.8127 - val_loss: 0.4299\n",
      "Epoch 14/25\n",
      "\u001b[1m153/154\u001b[0m \u001b[32m━━━━━━━━━━━━━━━━━━━\u001b[0m\u001b[37m━\u001b[0m \u001b[1m0s\u001b[0m 379ms/step - accuracy: 0.8301 - loss: 0.3772\n",
      "Epoch 14: val_accuracy did not improve from 0.83469\n",
      "\u001b[1m154/154\u001b[0m \u001b[32m━━━━━━━━━━━━━━━━━━━━\u001b[0m\u001b[37m\u001b[0m \u001b[1m77s\u001b[0m 480ms/step - accuracy: 0.8302 - loss: 0.3771 - val_accuracy: 0.8070 - val_loss: 0.4599\n",
      "Epoch 15/25\n",
      "\u001b[1m153/154\u001b[0m \u001b[32m━━━━━━━━━━━━━━━━━━━\u001b[0m\u001b[37m━\u001b[0m \u001b[1m0s\u001b[0m 379ms/step - accuracy: 0.8446 - loss: 0.3554\n",
      "Epoch 15: val_accuracy did not improve from 0.83469\n",
      "\u001b[1m154/154\u001b[0m \u001b[32m━━━━━━━━━━━━━━━━━━━━\u001b[0m\u001b[37m\u001b[0m \u001b[1m77s\u001b[0m 479ms/step - accuracy: 0.8446 - loss: 0.3555 - val_accuracy: 0.8200 - val_loss: 0.4018\n",
      "Epoch 16/25\n",
      "\u001b[1m153/154\u001b[0m \u001b[32m━━━━━━━━━━━━━━━━━━━\u001b[0m\u001b[37m━\u001b[0m \u001b[1m0s\u001b[0m 378ms/step - accuracy: 0.8260 - loss: 0.3831\n",
      "Epoch 16: val_accuracy did not improve from 0.83469\n",
      "\u001b[1m154/154\u001b[0m \u001b[32m━━━━━━━━━━━━━━━━━━━━\u001b[0m\u001b[37m\u001b[0m \u001b[1m78s\u001b[0m 481ms/step - accuracy: 0.8261 - loss: 0.3830 - val_accuracy: 0.8029 - val_loss: 0.4309\n",
      "Epoch 17/25\n",
      "\u001b[1m153/154\u001b[0m \u001b[32m━━━━━━━━━━━━━━━━━━━\u001b[0m\u001b[37m━\u001b[0m \u001b[1m0s\u001b[0m 379ms/step - accuracy: 0.8418 - loss: 0.3549\n",
      "Epoch 17: val_accuracy did not improve from 0.83469\n",
      "\u001b[1m154/154\u001b[0m \u001b[32m━━━━━━━━━━━━━━━━━━━━\u001b[0m\u001b[37m\u001b[0m \u001b[1m77s\u001b[0m 479ms/step - accuracy: 0.8418 - loss: 0.3549 - val_accuracy: 0.8037 - val_loss: 0.4704\n",
      "Epoch 18/25\n",
      "\u001b[1m153/154\u001b[0m \u001b[32m━━━━━━━━━━━━━━━━━━━\u001b[0m\u001b[37m━\u001b[0m \u001b[1m0s\u001b[0m 383ms/step - accuracy: 0.8537 - loss: 0.3306\n",
      "Epoch 18: val_accuracy did not improve from 0.83469\n",
      "\u001b[1m154/154\u001b[0m \u001b[32m━━━━━━━━━━━━━━━━━━━━\u001b[0m\u001b[37m\u001b[0m \u001b[1m78s\u001b[0m 484ms/step - accuracy: 0.8537 - loss: 0.3308 - val_accuracy: 0.7948 - val_loss: 0.4786\n",
      "Epoch 19/25\n",
      "\u001b[1m153/154\u001b[0m \u001b[32m━━━━━━━━━━━━━━━━━━━\u001b[0m\u001b[37m━\u001b[0m \u001b[1m0s\u001b[0m 378ms/step - accuracy: 0.8660 - loss: 0.3180\n",
      "Epoch 19: val_accuracy did not improve from 0.83469\n",
      "\u001b[1m154/154\u001b[0m \u001b[32m━━━━━━━━━━━━━━━━━━━━\u001b[0m\u001b[37m\u001b[0m \u001b[1m77s\u001b[0m 480ms/step - accuracy: 0.8658 - loss: 0.3183 - val_accuracy: 0.8168 - val_loss: 0.4140\n",
      "Epoch 20/25\n",
      "\u001b[1m153/154\u001b[0m \u001b[32m━━━━━━━━━━━━━━━━━━━\u001b[0m\u001b[37m━\u001b[0m \u001b[1m0s\u001b[0m 377ms/step - accuracy: 0.8428 - loss: 0.3410\n",
      "Epoch 20: val_accuracy did not improve from 0.83469\n",
      "\u001b[1m154/154\u001b[0m \u001b[32m━━━━━━━━━━━━━━━━━━━━\u001b[0m\u001b[37m\u001b[0m \u001b[1m77s\u001b[0m 480ms/step - accuracy: 0.8427 - loss: 0.3412 - val_accuracy: 0.8070 - val_loss: 0.4306\n",
      "Epoch 21/25\n",
      "\u001b[1m153/154\u001b[0m \u001b[32m━━━━━━━━━━━━━━━━━━━\u001b[0m\u001b[37m━\u001b[0m \u001b[1m0s\u001b[0m 381ms/step - accuracy: 0.8599 - loss: 0.3198\n",
      "Epoch 21: val_accuracy did not improve from 0.83469\n",
      "\u001b[1m154/154\u001b[0m \u001b[32m━━━━━━━━━━━━━━━━━━━━\u001b[0m\u001b[37m\u001b[0m \u001b[1m78s\u001b[0m 482ms/step - accuracy: 0.8598 - loss: 0.3200 - val_accuracy: 0.7891 - val_loss: 0.4683\n",
      "Epoch 22/25\n",
      "\u001b[1m153/154\u001b[0m \u001b[32m━━━━━━━━━━━━━━━━━━━\u001b[0m\u001b[37m━\u001b[0m \u001b[1m0s\u001b[0m 379ms/step - accuracy: 0.8407 - loss: 0.3610\n",
      "Epoch 22: val_accuracy did not improve from 0.83469\n",
      "\u001b[1m154/154\u001b[0m \u001b[32m━━━━━━━━━━━━━━━━━━━━\u001b[0m\u001b[37m\u001b[0m \u001b[1m77s\u001b[0m 480ms/step - accuracy: 0.8409 - loss: 0.3607 - val_accuracy: 0.8208 - val_loss: 0.4406\n",
      "Epoch 23/25\n",
      "\u001b[1m153/154\u001b[0m \u001b[32m━━━━━━━━━━━━━━━━━━━\u001b[0m\u001b[37m━\u001b[0m \u001b[1m0s\u001b[0m 373ms/step - accuracy: 0.8528 - loss: 0.3393\n",
      "Epoch 23: val_accuracy did not improve from 0.83469\n",
      "\u001b[1m154/154\u001b[0m \u001b[32m━━━━━━━━━━━━━━━━━━━━\u001b[0m\u001b[37m\u001b[0m \u001b[1m76s\u001b[0m 472ms/step - accuracy: 0.8528 - loss: 0.3392 - val_accuracy: 0.8054 - val_loss: 0.4568\n",
      "Epoch 24/25\n",
      "\u001b[1m153/154\u001b[0m \u001b[32m━━━━━━━━━━━━━━━━━━━\u001b[0m\u001b[37m━\u001b[0m \u001b[1m0s\u001b[0m 378ms/step - accuracy: 0.8473 - loss: 0.3497\n",
      "Epoch 24: val_accuracy did not improve from 0.83469\n",
      "\u001b[1m154/154\u001b[0m \u001b[32m━━━━━━━━━━━━━━━━━━━━\u001b[0m\u001b[37m\u001b[0m \u001b[1m77s\u001b[0m 479ms/step - accuracy: 0.8473 - loss: 0.3497 - val_accuracy: 0.8274 - val_loss: 0.4193\n",
      "Epoch 25/25\n",
      "\u001b[1m154/154\u001b[0m \u001b[32m━━━━━━━━━━━━━━━━━━━━\u001b[0m\u001b[37m\u001b[0m \u001b[1m0s\u001b[0m 374ms/step - accuracy: 0.8569 - loss: 0.3265\n",
      "Epoch 25: val_accuracy did not improve from 0.83469\n",
      "\u001b[1m154/154\u001b[0m \u001b[32m━━━━━━━━━━━━━━━━━━━━\u001b[0m\u001b[37m\u001b[0m \u001b[1m77s\u001b[0m 479ms/step - accuracy: 0.8570 - loss: 0.3265 - val_accuracy: 0.8119 - val_loss: 0.4423\n",
      "Epoch 25: early stopping\n",
      "Restoring model weights from the end of the best epoch: 15.\n",
      "\u001b[1m38/38\u001b[0m \u001b[32m━━━━━━━━━━━━━━━━━━━━\u001b[0m\u001b[37m\u001b[0m \u001b[1m15s\u001b[0m 387ms/step - accuracy: 0.8063 - loss: 0.4628\n",
      "Test Accuracy Before Fine-tuning: 81.74%\n"
     ]
    }
   ],
   "source": [
    "history = model.fit(\n",
    "    train_generator,\n",
    "    epochs=EPOCHS,\n",
    "    validation_data=validation_generator,\n",
    "    callbacks=[checkpoint_callback, early_stopping_callback, ClearMemory()]\n",
    ")\n",
    "\n",
    "initial_test_loss, initial_test_acc = model.evaluate(validation_generator, \n",
    "                                                     steps=validation_generator.samples // BATCH_SIZE)\n",
    "\n",
    "print(f\"Test Accuracy Before Fine-tuning: {initial_test_acc*100:.2f}%\")"
   ]
  }
 ],
 "metadata": {
  "kaggle": {
   "accelerator": "nvidiaTeslaT4",
   "dataSources": [
    {
     "datasetId": 6807513,
     "sourceId": 10945047,
     "sourceType": "datasetVersion"
    }
   ],
   "isGpuEnabled": true,
   "isInternetEnabled": true,
   "language": "python",
   "sourceType": "notebook"
  },
  "kernelspec": {
   "display_name": "Python 3",
   "language": "python",
   "name": "python3"
  },
  "language_info": {
   "codemirror_mode": {
    "name": "ipython",
    "version": 3
   },
   "file_extension": ".py",
   "mimetype": "text/x-python",
   "name": "python",
   "nbconvert_exporter": "python",
   "pygments_lexer": "ipython3",
   "version": "3.10.12"
  },
  "papermill": {
   "default_parameters": {},
   "duration": 2038.619431,
   "end_time": "2025-03-06T18:27:25.918593",
   "environment_variables": {},
   "exception": null,
   "input_path": "__notebook__.ipynb",
   "output_path": "__notebook__.ipynb",
   "parameters": {},
   "start_time": "2025-03-06T17:53:27.299162",
   "version": "2.6.0"
  }
 },
 "nbformat": 4,
 "nbformat_minor": 5
}
